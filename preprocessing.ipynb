{
 "cells": [
  {
   "cell_type": "markdown",
   "id": "e470b8e7",
   "metadata": {},
   "source": [
    "## 파일 업로드/불러오기 ##"
   ]
  },
  {
   "cell_type": "code",
   "execution_count": 2,
   "id": "0d81fc56",
   "metadata": {},
   "outputs": [
    {
     "name": "stdout",
     "output_type": "stream",
     "text": [
      "Python version: 3.10.18 | packaged by Anaconda, Inc. | (main, Jun  5 2025, 13:08:55) [MSC v.1929 64 bit (AMD64)]\n",
      "pandas version: 2.3.0\n",
      "numpy version: 2.2.6\n"
     ]
    }
   ],
   "source": [
    "# 버전 명시\n",
    "\n",
    "import sys\n",
    "import pandas as pd\n",
    "import numpy as np\n",
    "\n",
    "print(\"Python version:\", sys.version)\n",
    "print(\"pandas version:\", pd.__version__)\n",
    "print(\"numpy version:\", np.__version__)"
   ]
  },
  {
   "cell_type": "code",
   "execution_count": 3,
   "id": "1bd4acf8",
   "metadata": {},
   "outputs": [
    {
     "ename": "KeyboardInterrupt",
     "evalue": "",
     "output_type": "error",
     "traceback": [
      "\u001b[1;31m---------------------------------------------------------------------------\u001b[0m",
      "\u001b[1;31mKeyboardInterrupt\u001b[0m                         Traceback (most recent call last)",
      "Cell \u001b[1;32mIn[3], line 15\u001b[0m\n\u001b[0;32m     12\u001b[0m \u001b[38;5;66;03m# '총콜레스테롤' 컬럼 기준 결측값 삭제\u001b[39;00m\n\u001b[0;32m     13\u001b[0m df \u001b[38;5;241m=\u001b[39m df\u001b[38;5;241m.\u001b[39mdropna(subset\u001b[38;5;241m=\u001b[39m[\u001b[38;5;124m'\u001b[39m\u001b[38;5;124m총콜레스테롤\u001b[39m\u001b[38;5;124m'\u001b[39m])\n\u001b[1;32m---> 15\u001b[0m \u001b[43mdf\u001b[49m\u001b[38;5;241;43m.\u001b[39;49m\u001b[43mto_csv\u001b[49m\u001b[43m(\u001b[49m\u001b[38;5;124;43m'\u001b[39;49m\u001b[38;5;124;43mdata/health_2023_cleaned.csv\u001b[39;49m\u001b[38;5;124;43m'\u001b[39;49m\u001b[43m,\u001b[49m\u001b[43m \u001b[49m\u001b[43mindex\u001b[49m\u001b[38;5;241;43m=\u001b[39;49m\u001b[38;5;28;43;01mFalse\u001b[39;49;00m\u001b[43m)\u001b[49m\n",
      "File \u001b[1;32mc:\\ProgramData\\Anaconda3\\envs\\myenv\\lib\\site-packages\\pandas\\util\\_decorators.py:333\u001b[0m, in \u001b[0;36mdeprecate_nonkeyword_arguments.<locals>.decorate.<locals>.wrapper\u001b[1;34m(*args, **kwargs)\u001b[0m\n\u001b[0;32m    327\u001b[0m \u001b[38;5;28;01mif\u001b[39;00m \u001b[38;5;28mlen\u001b[39m(args) \u001b[38;5;241m>\u001b[39m num_allow_args:\n\u001b[0;32m    328\u001b[0m     warnings\u001b[38;5;241m.\u001b[39mwarn(\n\u001b[0;32m    329\u001b[0m         msg\u001b[38;5;241m.\u001b[39mformat(arguments\u001b[38;5;241m=\u001b[39m_format_argument_list(allow_args)),\n\u001b[0;32m    330\u001b[0m         \u001b[38;5;167;01mFutureWarning\u001b[39;00m,\n\u001b[0;32m    331\u001b[0m         stacklevel\u001b[38;5;241m=\u001b[39mfind_stack_level(),\n\u001b[0;32m    332\u001b[0m     )\n\u001b[1;32m--> 333\u001b[0m \u001b[38;5;28;01mreturn\u001b[39;00m func(\u001b[38;5;241m*\u001b[39margs, \u001b[38;5;241m*\u001b[39m\u001b[38;5;241m*\u001b[39mkwargs)\n",
      "File \u001b[1;32mc:\\ProgramData\\Anaconda3\\envs\\myenv\\lib\\site-packages\\pandas\\core\\generic.py:3986\u001b[0m, in \u001b[0;36mNDFrame.to_csv\u001b[1;34m(self, path_or_buf, sep, na_rep, float_format, columns, header, index, index_label, mode, encoding, compression, quoting, quotechar, lineterminator, chunksize, date_format, doublequote, escapechar, decimal, errors, storage_options)\u001b[0m\n\u001b[0;32m   3975\u001b[0m df \u001b[38;5;241m=\u001b[39m \u001b[38;5;28mself\u001b[39m \u001b[38;5;28;01mif\u001b[39;00m \u001b[38;5;28misinstance\u001b[39m(\u001b[38;5;28mself\u001b[39m, ABCDataFrame) \u001b[38;5;28;01melse\u001b[39;00m \u001b[38;5;28mself\u001b[39m\u001b[38;5;241m.\u001b[39mto_frame()\n\u001b[0;32m   3977\u001b[0m formatter \u001b[38;5;241m=\u001b[39m DataFrameFormatter(\n\u001b[0;32m   3978\u001b[0m     frame\u001b[38;5;241m=\u001b[39mdf,\n\u001b[0;32m   3979\u001b[0m     header\u001b[38;5;241m=\u001b[39mheader,\n\u001b[1;32m   (...)\u001b[0m\n\u001b[0;32m   3983\u001b[0m     decimal\u001b[38;5;241m=\u001b[39mdecimal,\n\u001b[0;32m   3984\u001b[0m )\n\u001b[1;32m-> 3986\u001b[0m \u001b[38;5;28;01mreturn\u001b[39;00m \u001b[43mDataFrameRenderer\u001b[49m\u001b[43m(\u001b[49m\u001b[43mformatter\u001b[49m\u001b[43m)\u001b[49m\u001b[38;5;241;43m.\u001b[39;49m\u001b[43mto_csv\u001b[49m\u001b[43m(\u001b[49m\n\u001b[0;32m   3987\u001b[0m \u001b[43m    \u001b[49m\u001b[43mpath_or_buf\u001b[49m\u001b[43m,\u001b[49m\n\u001b[0;32m   3988\u001b[0m \u001b[43m    \u001b[49m\u001b[43mlineterminator\u001b[49m\u001b[38;5;241;43m=\u001b[39;49m\u001b[43mlineterminator\u001b[49m\u001b[43m,\u001b[49m\n\u001b[0;32m   3989\u001b[0m \u001b[43m    \u001b[49m\u001b[43msep\u001b[49m\u001b[38;5;241;43m=\u001b[39;49m\u001b[43msep\u001b[49m\u001b[43m,\u001b[49m\n\u001b[0;32m   3990\u001b[0m \u001b[43m    \u001b[49m\u001b[43mencoding\u001b[49m\u001b[38;5;241;43m=\u001b[39;49m\u001b[43mencoding\u001b[49m\u001b[43m,\u001b[49m\n\u001b[0;32m   3991\u001b[0m \u001b[43m    \u001b[49m\u001b[43merrors\u001b[49m\u001b[38;5;241;43m=\u001b[39;49m\u001b[43merrors\u001b[49m\u001b[43m,\u001b[49m\n\u001b[0;32m   3992\u001b[0m \u001b[43m    \u001b[49m\u001b[43mcompression\u001b[49m\u001b[38;5;241;43m=\u001b[39;49m\u001b[43mcompression\u001b[49m\u001b[43m,\u001b[49m\n\u001b[0;32m   3993\u001b[0m \u001b[43m    \u001b[49m\u001b[43mquoting\u001b[49m\u001b[38;5;241;43m=\u001b[39;49m\u001b[43mquoting\u001b[49m\u001b[43m,\u001b[49m\n\u001b[0;32m   3994\u001b[0m \u001b[43m    \u001b[49m\u001b[43mcolumns\u001b[49m\u001b[38;5;241;43m=\u001b[39;49m\u001b[43mcolumns\u001b[49m\u001b[43m,\u001b[49m\n\u001b[0;32m   3995\u001b[0m \u001b[43m    \u001b[49m\u001b[43mindex_label\u001b[49m\u001b[38;5;241;43m=\u001b[39;49m\u001b[43mindex_label\u001b[49m\u001b[43m,\u001b[49m\n\u001b[0;32m   3996\u001b[0m \u001b[43m    \u001b[49m\u001b[43mmode\u001b[49m\u001b[38;5;241;43m=\u001b[39;49m\u001b[43mmode\u001b[49m\u001b[43m,\u001b[49m\n\u001b[0;32m   3997\u001b[0m \u001b[43m    \u001b[49m\u001b[43mchunksize\u001b[49m\u001b[38;5;241;43m=\u001b[39;49m\u001b[43mchunksize\u001b[49m\u001b[43m,\u001b[49m\n\u001b[0;32m   3998\u001b[0m \u001b[43m    \u001b[49m\u001b[43mquotechar\u001b[49m\u001b[38;5;241;43m=\u001b[39;49m\u001b[43mquotechar\u001b[49m\u001b[43m,\u001b[49m\n\u001b[0;32m   3999\u001b[0m \u001b[43m    \u001b[49m\u001b[43mdate_format\u001b[49m\u001b[38;5;241;43m=\u001b[39;49m\u001b[43mdate_format\u001b[49m\u001b[43m,\u001b[49m\n\u001b[0;32m   4000\u001b[0m \u001b[43m    \u001b[49m\u001b[43mdoublequote\u001b[49m\u001b[38;5;241;43m=\u001b[39;49m\u001b[43mdoublequote\u001b[49m\u001b[43m,\u001b[49m\n\u001b[0;32m   4001\u001b[0m \u001b[43m    \u001b[49m\u001b[43mescapechar\u001b[49m\u001b[38;5;241;43m=\u001b[39;49m\u001b[43mescapechar\u001b[49m\u001b[43m,\u001b[49m\n\u001b[0;32m   4002\u001b[0m \u001b[43m    \u001b[49m\u001b[43mstorage_options\u001b[49m\u001b[38;5;241;43m=\u001b[39;49m\u001b[43mstorage_options\u001b[49m\u001b[43m,\u001b[49m\n\u001b[0;32m   4003\u001b[0m \u001b[43m\u001b[49m\u001b[43m)\u001b[49m\n",
      "File \u001b[1;32mc:\\ProgramData\\Anaconda3\\envs\\myenv\\lib\\site-packages\\pandas\\io\\formats\\format.py:1014\u001b[0m, in \u001b[0;36mDataFrameRenderer.to_csv\u001b[1;34m(self, path_or_buf, encoding, sep, columns, index_label, mode, compression, quoting, quotechar, lineterminator, chunksize, date_format, doublequote, escapechar, errors, storage_options)\u001b[0m\n\u001b[0;32m    993\u001b[0m     created_buffer \u001b[38;5;241m=\u001b[39m \u001b[38;5;28;01mFalse\u001b[39;00m\n\u001b[0;32m    995\u001b[0m csv_formatter \u001b[38;5;241m=\u001b[39m CSVFormatter(\n\u001b[0;32m    996\u001b[0m     path_or_buf\u001b[38;5;241m=\u001b[39mpath_or_buf,\n\u001b[0;32m    997\u001b[0m     lineterminator\u001b[38;5;241m=\u001b[39mlineterminator,\n\u001b[1;32m   (...)\u001b[0m\n\u001b[0;32m   1012\u001b[0m     formatter\u001b[38;5;241m=\u001b[39m\u001b[38;5;28mself\u001b[39m\u001b[38;5;241m.\u001b[39mfmt,\n\u001b[0;32m   1013\u001b[0m )\n\u001b[1;32m-> 1014\u001b[0m \u001b[43mcsv_formatter\u001b[49m\u001b[38;5;241;43m.\u001b[39;49m\u001b[43msave\u001b[49m\u001b[43m(\u001b[49m\u001b[43m)\u001b[49m\n\u001b[0;32m   1016\u001b[0m \u001b[38;5;28;01mif\u001b[39;00m created_buffer:\n\u001b[0;32m   1017\u001b[0m     \u001b[38;5;28;01massert\u001b[39;00m \u001b[38;5;28misinstance\u001b[39m(path_or_buf, StringIO)\n",
      "File \u001b[1;32mc:\\ProgramData\\Anaconda3\\envs\\myenv\\lib\\site-packages\\pandas\\io\\formats\\csvs.py:270\u001b[0m, in \u001b[0;36mCSVFormatter.save\u001b[1;34m(self)\u001b[0m\n\u001b[0;32m    251\u001b[0m \u001b[38;5;28;01mwith\u001b[39;00m get_handle(\n\u001b[0;32m    252\u001b[0m     \u001b[38;5;28mself\u001b[39m\u001b[38;5;241m.\u001b[39mfilepath_or_buffer,\n\u001b[0;32m    253\u001b[0m     \u001b[38;5;28mself\u001b[39m\u001b[38;5;241m.\u001b[39mmode,\n\u001b[1;32m   (...)\u001b[0m\n\u001b[0;32m    258\u001b[0m ) \u001b[38;5;28;01mas\u001b[39;00m handles:\n\u001b[0;32m    259\u001b[0m     \u001b[38;5;66;03m# Note: self.encoding is irrelevant here\u001b[39;00m\n\u001b[0;32m    260\u001b[0m     \u001b[38;5;28mself\u001b[39m\u001b[38;5;241m.\u001b[39mwriter \u001b[38;5;241m=\u001b[39m csvlib\u001b[38;5;241m.\u001b[39mwriter(\n\u001b[0;32m    261\u001b[0m         handles\u001b[38;5;241m.\u001b[39mhandle,\n\u001b[0;32m    262\u001b[0m         lineterminator\u001b[38;5;241m=\u001b[39m\u001b[38;5;28mself\u001b[39m\u001b[38;5;241m.\u001b[39mlineterminator,\n\u001b[1;32m   (...)\u001b[0m\n\u001b[0;32m    267\u001b[0m         quotechar\u001b[38;5;241m=\u001b[39m\u001b[38;5;28mself\u001b[39m\u001b[38;5;241m.\u001b[39mquotechar,\n\u001b[0;32m    268\u001b[0m     )\n\u001b[1;32m--> 270\u001b[0m     \u001b[38;5;28;43mself\u001b[39;49m\u001b[38;5;241;43m.\u001b[39;49m\u001b[43m_save\u001b[49m\u001b[43m(\u001b[49m\u001b[43m)\u001b[49m\n",
      "File \u001b[1;32mc:\\ProgramData\\Anaconda3\\envs\\myenv\\lib\\site-packages\\pandas\\io\\formats\\csvs.py:275\u001b[0m, in \u001b[0;36mCSVFormatter._save\u001b[1;34m(self)\u001b[0m\n\u001b[0;32m    273\u001b[0m \u001b[38;5;28;01mif\u001b[39;00m \u001b[38;5;28mself\u001b[39m\u001b[38;5;241m.\u001b[39m_need_to_save_header:\n\u001b[0;32m    274\u001b[0m     \u001b[38;5;28mself\u001b[39m\u001b[38;5;241m.\u001b[39m_save_header()\n\u001b[1;32m--> 275\u001b[0m \u001b[38;5;28;43mself\u001b[39;49m\u001b[38;5;241;43m.\u001b[39;49m\u001b[43m_save_body\u001b[49m\u001b[43m(\u001b[49m\u001b[43m)\u001b[49m\n",
      "File \u001b[1;32mc:\\ProgramData\\Anaconda3\\envs\\myenv\\lib\\site-packages\\pandas\\io\\formats\\csvs.py:313\u001b[0m, in \u001b[0;36mCSVFormatter._save_body\u001b[1;34m(self)\u001b[0m\n\u001b[0;32m    311\u001b[0m \u001b[38;5;28;01mif\u001b[39;00m start_i \u001b[38;5;241m>\u001b[39m\u001b[38;5;241m=\u001b[39m end_i:\n\u001b[0;32m    312\u001b[0m     \u001b[38;5;28;01mbreak\u001b[39;00m\n\u001b[1;32m--> 313\u001b[0m \u001b[38;5;28;43mself\u001b[39;49m\u001b[38;5;241;43m.\u001b[39;49m\u001b[43m_save_chunk\u001b[49m\u001b[43m(\u001b[49m\u001b[43mstart_i\u001b[49m\u001b[43m,\u001b[49m\u001b[43m \u001b[49m\u001b[43mend_i\u001b[49m\u001b[43m)\u001b[49m\n",
      "File \u001b[1;32mc:\\ProgramData\\Anaconda3\\envs\\myenv\\lib\\site-packages\\pandas\\io\\formats\\csvs.py:320\u001b[0m, in \u001b[0;36mCSVFormatter._save_chunk\u001b[1;34m(self, start_i, end_i)\u001b[0m\n\u001b[0;32m    317\u001b[0m slicer \u001b[38;5;241m=\u001b[39m \u001b[38;5;28mslice\u001b[39m(start_i, end_i)\n\u001b[0;32m    318\u001b[0m df \u001b[38;5;241m=\u001b[39m \u001b[38;5;28mself\u001b[39m\u001b[38;5;241m.\u001b[39mobj\u001b[38;5;241m.\u001b[39miloc[slicer]\n\u001b[1;32m--> 320\u001b[0m res \u001b[38;5;241m=\u001b[39m df\u001b[38;5;241m.\u001b[39m_get_values_for_csv(\u001b[38;5;241m*\u001b[39m\u001b[38;5;241m*\u001b[39m\u001b[38;5;28mself\u001b[39m\u001b[38;5;241m.\u001b[39m_number_format)\n\u001b[0;32m    321\u001b[0m data \u001b[38;5;241m=\u001b[39m \u001b[38;5;28mlist\u001b[39m(res\u001b[38;5;241m.\u001b[39m_iter_column_arrays())\n\u001b[0;32m    323\u001b[0m ix \u001b[38;5;241m=\u001b[39m \u001b[38;5;28mself\u001b[39m\u001b[38;5;241m.\u001b[39mdata_index[slicer]\u001b[38;5;241m.\u001b[39m_get_values_for_csv(\u001b[38;5;241m*\u001b[39m\u001b[38;5;241m*\u001b[39m\u001b[38;5;28mself\u001b[39m\u001b[38;5;241m.\u001b[39m_number_format)\n",
      "File \u001b[1;32mc:\\ProgramData\\Anaconda3\\envs\\myenv\\lib\\site-packages\\pandas\\core\\frame.py:1410\u001b[0m, in \u001b[0;36mDataFrame._get_values_for_csv\u001b[1;34m(self, float_format, date_format, decimal, na_rep, quoting)\u001b[0m\n\u001b[0;32m   1400\u001b[0m \u001b[38;5;28;01mdef\u001b[39;00m\u001b[38;5;250m \u001b[39m\u001b[38;5;21m_get_values_for_csv\u001b[39m(\n\u001b[0;32m   1401\u001b[0m     \u001b[38;5;28mself\u001b[39m,\n\u001b[0;32m   1402\u001b[0m     \u001b[38;5;241m*\u001b[39m,\n\u001b[1;32m   (...)\u001b[0m\n\u001b[0;32m   1408\u001b[0m ) \u001b[38;5;241m-\u001b[39m\u001b[38;5;241m>\u001b[39m Self:\n\u001b[0;32m   1409\u001b[0m     \u001b[38;5;66;03m# helper used by to_csv\u001b[39;00m\n\u001b[1;32m-> 1410\u001b[0m     mgr \u001b[38;5;241m=\u001b[39m \u001b[38;5;28;43mself\u001b[39;49m\u001b[38;5;241;43m.\u001b[39;49m\u001b[43m_mgr\u001b[49m\u001b[38;5;241;43m.\u001b[39;49m\u001b[43mget_values_for_csv\u001b[49m\u001b[43m(\u001b[49m\n\u001b[0;32m   1411\u001b[0m \u001b[43m        \u001b[49m\u001b[43mfloat_format\u001b[49m\u001b[38;5;241;43m=\u001b[39;49m\u001b[43mfloat_format\u001b[49m\u001b[43m,\u001b[49m\n\u001b[0;32m   1412\u001b[0m \u001b[43m        \u001b[49m\u001b[43mdate_format\u001b[49m\u001b[38;5;241;43m=\u001b[39;49m\u001b[43mdate_format\u001b[49m\u001b[43m,\u001b[49m\n\u001b[0;32m   1413\u001b[0m \u001b[43m        \u001b[49m\u001b[43mdecimal\u001b[49m\u001b[38;5;241;43m=\u001b[39;49m\u001b[43mdecimal\u001b[49m\u001b[43m,\u001b[49m\n\u001b[0;32m   1414\u001b[0m \u001b[43m        \u001b[49m\u001b[43mna_rep\u001b[49m\u001b[38;5;241;43m=\u001b[39;49m\u001b[43mna_rep\u001b[49m\u001b[43m,\u001b[49m\n\u001b[0;32m   1415\u001b[0m \u001b[43m        \u001b[49m\u001b[43mquoting\u001b[49m\u001b[38;5;241;43m=\u001b[39;49m\u001b[43mquoting\u001b[49m\u001b[43m,\u001b[49m\n\u001b[0;32m   1416\u001b[0m \u001b[43m    \u001b[49m\u001b[43m)\u001b[49m\n\u001b[0;32m   1417\u001b[0m     \u001b[38;5;66;03m# error: Incompatible return value type (got \"DataFrame\", expected \"Self\")\u001b[39;00m\n\u001b[0;32m   1418\u001b[0m     \u001b[38;5;28;01mreturn\u001b[39;00m \u001b[38;5;28mself\u001b[39m\u001b[38;5;241m.\u001b[39m_constructor_from_mgr(mgr, axes\u001b[38;5;241m=\u001b[39mmgr\u001b[38;5;241m.\u001b[39maxes)\n",
      "File \u001b[1;32mc:\\ProgramData\\Anaconda3\\envs\\myenv\\lib\\site-packages\\pandas\\core\\internals\\managers.py:466\u001b[0m, in \u001b[0;36mBaseBlockManager.get_values_for_csv\u001b[1;34m(self, float_format, date_format, decimal, na_rep, quoting)\u001b[0m\n\u001b[0;32m    459\u001b[0m \u001b[38;5;28;01mdef\u001b[39;00m\u001b[38;5;250m \u001b[39m\u001b[38;5;21mget_values_for_csv\u001b[39m(\n\u001b[0;32m    460\u001b[0m     \u001b[38;5;28mself\u001b[39m, \u001b[38;5;241m*\u001b[39m, float_format, date_format, decimal, na_rep: \u001b[38;5;28mstr\u001b[39m \u001b[38;5;241m=\u001b[39m \u001b[38;5;124m\"\u001b[39m\u001b[38;5;124mnan\u001b[39m\u001b[38;5;124m\"\u001b[39m, quoting\u001b[38;5;241m=\u001b[39m\u001b[38;5;28;01mNone\u001b[39;00m\n\u001b[0;32m    461\u001b[0m ) \u001b[38;5;241m-\u001b[39m\u001b[38;5;241m>\u001b[39m Self:\n\u001b[0;32m    462\u001b[0m \u001b[38;5;250m    \u001b[39m\u001b[38;5;124;03m\"\"\"\u001b[39;00m\n\u001b[0;32m    463\u001b[0m \u001b[38;5;124;03m    Convert values to native types (strings / python objects) that are used\u001b[39;00m\n\u001b[0;32m    464\u001b[0m \u001b[38;5;124;03m    in formatting (repr / csv).\u001b[39;00m\n\u001b[0;32m    465\u001b[0m \u001b[38;5;124;03m    \"\"\"\u001b[39;00m\n\u001b[1;32m--> 466\u001b[0m     \u001b[38;5;28;01mreturn\u001b[39;00m \u001b[38;5;28;43mself\u001b[39;49m\u001b[38;5;241;43m.\u001b[39;49m\u001b[43mapply\u001b[49m\u001b[43m(\u001b[49m\n\u001b[0;32m    467\u001b[0m \u001b[43m        \u001b[49m\u001b[38;5;124;43m\"\u001b[39;49m\u001b[38;5;124;43mget_values_for_csv\u001b[39;49m\u001b[38;5;124;43m\"\u001b[39;49m\u001b[43m,\u001b[49m\n\u001b[0;32m    468\u001b[0m \u001b[43m        \u001b[49m\u001b[43mna_rep\u001b[49m\u001b[38;5;241;43m=\u001b[39;49m\u001b[43mna_rep\u001b[49m\u001b[43m,\u001b[49m\n\u001b[0;32m    469\u001b[0m \u001b[43m        \u001b[49m\u001b[43mquoting\u001b[49m\u001b[38;5;241;43m=\u001b[39;49m\u001b[43mquoting\u001b[49m\u001b[43m,\u001b[49m\n\u001b[0;32m    470\u001b[0m \u001b[43m        \u001b[49m\u001b[43mfloat_format\u001b[49m\u001b[38;5;241;43m=\u001b[39;49m\u001b[43mfloat_format\u001b[49m\u001b[43m,\u001b[49m\n\u001b[0;32m    471\u001b[0m \u001b[43m        \u001b[49m\u001b[43mdate_format\u001b[49m\u001b[38;5;241;43m=\u001b[39;49m\u001b[43mdate_format\u001b[49m\u001b[43m,\u001b[49m\n\u001b[0;32m    472\u001b[0m \u001b[43m        \u001b[49m\u001b[43mdecimal\u001b[49m\u001b[38;5;241;43m=\u001b[39;49m\u001b[43mdecimal\u001b[49m\u001b[43m,\u001b[49m\n\u001b[0;32m    473\u001b[0m \u001b[43m    \u001b[49m\u001b[43m)\u001b[49m\n",
      "File \u001b[1;32mc:\\ProgramData\\Anaconda3\\envs\\myenv\\lib\\site-packages\\pandas\\core\\internals\\managers.py:363\u001b[0m, in \u001b[0;36mBaseBlockManager.apply\u001b[1;34m(self, f, align_keys, **kwargs)\u001b[0m\n\u001b[0;32m    361\u001b[0m         applied \u001b[38;5;241m=\u001b[39m b\u001b[38;5;241m.\u001b[39mapply(f, \u001b[38;5;241m*\u001b[39m\u001b[38;5;241m*\u001b[39mkwargs)\n\u001b[0;32m    362\u001b[0m     \u001b[38;5;28;01melse\u001b[39;00m:\n\u001b[1;32m--> 363\u001b[0m         applied \u001b[38;5;241m=\u001b[39m \u001b[38;5;28mgetattr\u001b[39m(b, f)(\u001b[38;5;241m*\u001b[39m\u001b[38;5;241m*\u001b[39mkwargs)\n\u001b[0;32m    364\u001b[0m     result_blocks \u001b[38;5;241m=\u001b[39m extend_blocks(applied, result_blocks)\n\u001b[0;32m    366\u001b[0m out \u001b[38;5;241m=\u001b[39m \u001b[38;5;28mtype\u001b[39m(\u001b[38;5;28mself\u001b[39m)\u001b[38;5;241m.\u001b[39mfrom_blocks(result_blocks, \u001b[38;5;28mself\u001b[39m\u001b[38;5;241m.\u001b[39maxes)\n",
      "File \u001b[1;32mc:\\ProgramData\\Anaconda3\\envs\\myenv\\lib\\site-packages\\pandas\\core\\internals\\blocks.py:806\u001b[0m, in \u001b[0;36mBlock.get_values_for_csv\u001b[1;34m(self, float_format, date_format, decimal, na_rep, quoting)\u001b[0m\n\u001b[0;32m    801\u001b[0m \u001b[38;5;129m@final\u001b[39m\n\u001b[0;32m    802\u001b[0m \u001b[38;5;28;01mdef\u001b[39;00m\u001b[38;5;250m \u001b[39m\u001b[38;5;21mget_values_for_csv\u001b[39m(\n\u001b[0;32m    803\u001b[0m     \u001b[38;5;28mself\u001b[39m, \u001b[38;5;241m*\u001b[39m, float_format, date_format, decimal, na_rep: \u001b[38;5;28mstr\u001b[39m \u001b[38;5;241m=\u001b[39m \u001b[38;5;124m\"\u001b[39m\u001b[38;5;124mnan\u001b[39m\u001b[38;5;124m\"\u001b[39m, quoting\u001b[38;5;241m=\u001b[39m\u001b[38;5;28;01mNone\u001b[39;00m\n\u001b[0;32m    804\u001b[0m ) \u001b[38;5;241m-\u001b[39m\u001b[38;5;241m>\u001b[39m Block:\n\u001b[0;32m    805\u001b[0m \u001b[38;5;250m    \u001b[39m\u001b[38;5;124;03m\"\"\"convert to our native types format\"\"\"\u001b[39;00m\n\u001b[1;32m--> 806\u001b[0m     result \u001b[38;5;241m=\u001b[39m \u001b[43mget_values_for_csv\u001b[49m\u001b[43m(\u001b[49m\n\u001b[0;32m    807\u001b[0m \u001b[43m        \u001b[49m\u001b[38;5;28;43mself\u001b[39;49m\u001b[38;5;241;43m.\u001b[39;49m\u001b[43mvalues\u001b[49m\u001b[43m,\u001b[49m\n\u001b[0;32m    808\u001b[0m \u001b[43m        \u001b[49m\u001b[43mna_rep\u001b[49m\u001b[38;5;241;43m=\u001b[39;49m\u001b[43mna_rep\u001b[49m\u001b[43m,\u001b[49m\n\u001b[0;32m    809\u001b[0m \u001b[43m        \u001b[49m\u001b[43mquoting\u001b[49m\u001b[38;5;241;43m=\u001b[39;49m\u001b[43mquoting\u001b[49m\u001b[43m,\u001b[49m\n\u001b[0;32m    810\u001b[0m \u001b[43m        \u001b[49m\u001b[43mfloat_format\u001b[49m\u001b[38;5;241;43m=\u001b[39;49m\u001b[43mfloat_format\u001b[49m\u001b[43m,\u001b[49m\n\u001b[0;32m    811\u001b[0m \u001b[43m        \u001b[49m\u001b[43mdate_format\u001b[49m\u001b[38;5;241;43m=\u001b[39;49m\u001b[43mdate_format\u001b[49m\u001b[43m,\u001b[49m\n\u001b[0;32m    812\u001b[0m \u001b[43m        \u001b[49m\u001b[43mdecimal\u001b[49m\u001b[38;5;241;43m=\u001b[39;49m\u001b[43mdecimal\u001b[49m\u001b[43m,\u001b[49m\n\u001b[0;32m    813\u001b[0m \u001b[43m    \u001b[49m\u001b[43m)\u001b[49m\n\u001b[0;32m    814\u001b[0m     \u001b[38;5;28;01mreturn\u001b[39;00m \u001b[38;5;28mself\u001b[39m\u001b[38;5;241m.\u001b[39mmake_block(result)\n",
      "File \u001b[1;32mc:\\ProgramData\\Anaconda3\\envs\\myenv\\lib\\site-packages\\pandas\\core\\indexes\\base.py:7867\u001b[0m, in \u001b[0;36mget_values_for_csv\u001b[1;34m(values, date_format, na_rep, quoting, float_format, decimal)\u001b[0m\n\u001b[0;32m   7864\u001b[0m         values \u001b[38;5;241m=\u001b[39m np\u001b[38;5;241m.\u001b[39marray(values, dtype\u001b[38;5;241m=\u001b[39m\u001b[38;5;124m\"\u001b[39m\u001b[38;5;124mobject\u001b[39m\u001b[38;5;124m\"\u001b[39m)\n\u001b[0;32m   7866\u001b[0m     values[mask] \u001b[38;5;241m=\u001b[39m na_rep\n\u001b[1;32m-> 7867\u001b[0m     values \u001b[38;5;241m=\u001b[39m \u001b[43mvalues\u001b[49m\u001b[38;5;241;43m.\u001b[39;49m\u001b[43mastype\u001b[49m\u001b[43m(\u001b[49m\u001b[38;5;28;43mobject\u001b[39;49m\u001b[43m,\u001b[49m\u001b[43m \u001b[49m\u001b[43mcopy\u001b[49m\u001b[38;5;241;43m=\u001b[39;49m\u001b[38;5;28;43;01mFalse\u001b[39;49;00m\u001b[43m)\u001b[49m\n\u001b[0;32m   7868\u001b[0m     \u001b[38;5;28;01mreturn\u001b[39;00m values\n\u001b[0;32m   7870\u001b[0m \u001b[38;5;28;01mfrom\u001b[39;00m\u001b[38;5;250m \u001b[39m\u001b[38;5;21;01mpandas\u001b[39;00m\u001b[38;5;21;01m.\u001b[39;00m\u001b[38;5;21;01mio\u001b[39;00m\u001b[38;5;21;01m.\u001b[39;00m\u001b[38;5;21;01mformats\u001b[39;00m\u001b[38;5;21;01m.\u001b[39;00m\u001b[38;5;21;01mformat\u001b[39;00m\u001b[38;5;250m \u001b[39m\u001b[38;5;28;01mimport\u001b[39;00m FloatArrayFormatter\n",
      "\u001b[1;31mKeyboardInterrupt\u001b[0m: "
     ]
    }
   ],
   "source": [
    "import pandas as pd\n",
    "\n",
    "# 데이터셋 불러오기\n",
    "try:\n",
    "    df = pd.read_csv('data/Health_2023.csv', encoding='utf-8')\n",
    "except UnicodeDecodeError:\n",
    "    df = pd.read_csv('data/Health_2023.csv', encoding='cp949')\n",
    "\n",
    "# 불필요한 컬럼 삭제\n",
    "df = df.drop(['결손치 유무', '치아마모증유무', '제3대구치(사랑니) 이상'], axis=1)\n",
    "\n",
    "# '총콜레스테롤' 컬럼 기준 결측값 삭제\n",
    "df = df.dropna(subset=['총콜레스테롤'])\n",
    "\n",
    "df.to_csv('data/health_2023_cleaned.csv', index=False)"
   ]
  },
  {
   "cell_type": "code",
   "execution_count": null,
   "id": "bd59495c",
   "metadata": {},
   "outputs": [],
   "source": [
    "df = pd.read_csv('data/health_2023_cleaned.csv')\n",
    "df.info()\n",
    "df.head()"
   ]
  },
  {
   "cell_type": "code",
   "execution_count": null,
   "id": "2e63a806",
   "metadata": {},
   "outputs": [],
   "source": [
    "import matplotlib.pyplot as plt\n",
    "\n",
    "# 한글 폰트 설정 (macOS: AppleGothic)\n",
    "plt.rc('font', family='AppleGothic')\n",
    "plt.rc('axes', unicode_minus=False)\n",
    "\n",
    "# 수치형 컬럼만 선택\n",
    "numeric_cols = df.columns\n",
    "\n",
    "# 각 컬럼별로 박스플롯 생성 및 저장\n",
    "for col in numeric_cols:\n",
    "    plt.figure(figsize=(8, 4))\n",
    "    df.boxplot(column=col)\n",
    "    plt.title(f'Boxplot of {col} (Outlier Visualization)')\n",
    "    plt.tight_layout()\n",
    "    plt.savefig(f'plots/boxplot_{col}.png')\n",
    "    plt.close()"
   ]
  },
  {
   "cell_type": "code",
   "execution_count": null,
   "id": "5dcc4341",
   "metadata": {},
   "outputs": [],
   "source": [
    "import matplotlib.pyplot as plt\n",
    "import seaborn as sns\n",
    "\n",
    "# 한글 폰트 설정 (macOS: AppleGothic)\n",
    "plt.rc('font', family='AppleGothic')\n",
    "plt.rc('axes', unicode_minus=False)\n",
    "\n",
    "# 수치형 컬럼만 선택\n",
    "df_numeric = df.select_dtypes(include=['float64', 'int64'])\n",
    "\n",
    "# 각 컬럼별로 분포 시각화 및 저장\n",
    "for col in df_numeric.columns:\n",
    "    plt.figure(figsize=(8, 4))\n",
    "    sns.histplot(df_numeric[col].dropna(), kde=True)\n",
    "    plt.title(f'Distribution of {col}')\n",
    "    plt.xlabel(col)\n",
    "    plt.ylabel('빈도')\n",
    "    plt.tight_layout()\n",
    "    plt.savefig(f'plots/distribution_{col}.png')\n",
    "    plt.close()"
   ]
  },
  {
   "cell_type": "markdown",
   "id": "b68c27aa",
   "metadata": {},
   "source": [
    "## 이상치 처리 과정 ##"
   ]
  },
  {
   "cell_type": "code",
   "execution_count": null,
   "id": "7535c287",
   "metadata": {},
   "outputs": [],
   "source": [
    "columns_to_show = ['감마지티피']  # 원하는 컬럼 추가\n",
    "high_bp_top20 = df.nlargest(50, '감마지티피')[columns_to_show]\n",
    "print(high_bp_top20)"
   ]
  },
  {
   "cell_type": "code",
   "execution_count": null,
   "id": "d54c3a2f",
   "metadata": {},
   "outputs": [],
   "source": [
    "# 말이 안 되는 값 1차 제거 (print된 위 코드 확인 및 boxplot 확인 후)\n",
    "\n",
    "df = df[df['감마지티피'] != 9999.0]"
   ]
  },
  {
   "cell_type": "code",
   "execution_count": null,
   "id": "0f905b71",
   "metadata": {},
   "outputs": [],
   "source": [
    "# 아래 기준은 정상 범주가 아니라, 생리학적으로 가능하다고 판단되는 임상적 범주로 설정\n",
    "\n",
    "col = '감마지티피'\n",
    "lower_bound = 1\n",
    "upper_bound = 3000\n",
    "\n",
    "outliers = df[(df[col] < lower_bound) | (df[col] > upper_bound)]\n",
    "print(f\"{col} 이상치 개수:\", len(outliers))\n",
    "print(lower_bound, upper_bound)\n",
    "print(outliers[[col]])"
   ]
  },
  {
   "cell_type": "code",
   "execution_count": null,
   "id": "e316de6e",
   "metadata": {},
   "outputs": [],
   "source": [
    "# 임상적 기준으로 탐지된 감마지티피 이상치 삭제\n",
    "df = df[(df[col] >= lower_bound) & (df[col] <= upper_bound)]"
   ]
  },
  {
   "cell_type": "code",
   "execution_count": null,
   "id": "4fe761cd",
   "metadata": {},
   "outputs": [],
   "source": [
    "# 아래 기준은 정상 범주가 아니라, 생리학적으로 가능하다고 판단되는 임상적 범주로 설정\n",
    "# 이상치 삭제 확인\n",
    "\n",
    "col = '감마지티피'\n",
    "lower_bound = 1\n",
    "upper_bound = 3000\n",
    "\n",
    "outliers = df[(df[col] < lower_bound) | (df[col] > upper_bound)]\n",
    "print(f\"{col} 이상치 개수:\", len(outliers))\n",
    "print(lower_bound, upper_bound)\n",
    "print(outliers[[col]])"
   ]
  },
  {
   "cell_type": "code",
   "execution_count": null,
   "id": "d648f839",
   "metadata": {},
   "outputs": [],
   "source": [
    "columns_to_show = ['감마지티피']\n",
    "high_bp_top20 = df.nlargest(20, '감마지티피')[columns_to_show]\n",
    "print(high_bp_top20)"
   ]
  },
  {
   "cell_type": "code",
   "execution_count": null,
   "id": "aa691fa2",
   "metadata": {},
   "outputs": [],
   "source": [
    "columns_to_show = ['수축기혈압', '이완기혈압']  # 원하는 컬럼 추가\n",
    "high_bp_top10 = df.nlargest(10, '수축기혈압')[columns_to_show]\n",
    "print(high_bp_top10)"
   ]
  },
  {
   "cell_type": "code",
   "execution_count": null,
   "id": "c05826da",
   "metadata": {},
   "outputs": [],
   "source": [
    "# 아래 기준은 정상 범주가 아니라, 생리학적으로 가능하다고 판단되는 임상적 범주로 설정\n",
    "\n",
    "col = '수축기혈압'\n",
    "lower_bound = 40\n",
    "upper_bound = 300\n",
    "\n",
    "outliers = df[(df[col] < lower_bound) | (df[col] > upper_bound)]\n",
    "print(f\"{col} 이상치 개수:\", len(outliers))\n",
    "print(lower_bound, upper_bound)\n",
    "print(outliers[[col]])"
   ]
  },
  {
   "cell_type": "code",
   "execution_count": null,
   "id": "e87bfb62",
   "metadata": {},
   "outputs": [],
   "source": [
    "# 아래 기준은 정상 범주가 아니라, 생리학적으로 가능하다고 판단되는 범주로 설정\n",
    "\n",
    "col = '수축기혈압'\n",
    "lower_bound = 70\n",
    "upper_bound = 250\n",
    "\n",
    "outliers = df[(df[col] < lower_bound) | (df[col] > upper_bound)]\n",
    "print(f\"{col} 이상치 개수:\", len(outliers))\n",
    "print(lower_bound, upper_bound)\n",
    "print(outliers[[col]])"
   ]
  },
  {
   "cell_type": "code",
   "execution_count": null,
   "id": "8a0d99ff",
   "metadata": {},
   "outputs": [],
   "source": [
    "# 임상적 범주로 탐지된 수축기혈압 이상치 삭제\n",
    "df = df[(df[col] >= lower_bound) & (df[col] <= upper_bound)]"
   ]
  },
  {
   "cell_type": "code",
   "execution_count": null,
   "id": "090d9480",
   "metadata": {},
   "outputs": [],
   "source": [
    "columns_to_show = ['수축기혈압', '이완기혈압']  # 원하는 컬럼 추가\n",
    "high_bp_top10 = df.nlargest(10, '수축기혈압')[columns_to_show]\n",
    "print(high_bp_top10)"
   ]
  },
  {
   "cell_type": "code",
   "execution_count": null,
   "id": "3a9a12e8",
   "metadata": {},
   "outputs": [],
   "source": [
    "columns_to_show = ['시력(우)', '시력(좌)']  # 원하는 컬럼 추가\n",
    "high_bp_top20 = df.nlargest(20, '시력(우)')[columns_to_show]\n",
    "print(high_bp_top20)"
   ]
  },
  {
   "cell_type": "code",
   "execution_count": null,
   "id": "6654f55b",
   "metadata": {},
   "outputs": [],
   "source": [
    "# 시력 9.9값들은 실명으로 간주하여 0으로 변경 (한글 파일 참조)\n",
    "\n",
    "df['시력(우)'] = df['시력(우)'].replace(9.9, 0)\n",
    "df['시력(좌)'] = df['시력(좌)'].replace(9.9, 0)"
   ]
  },
  {
   "cell_type": "code",
   "execution_count": null,
   "id": "b95d195d",
   "metadata": {},
   "outputs": [],
   "source": [
    "columns_to_show = ['식전혈당(공복혈당)']  # 원하는 컬럼 추가\n",
    "high_bp_top20 = df.nlargest(20, '식전혈당(공복혈당)')[columns_to_show]\n",
    "print(high_bp_top20)"
   ]
  },
  {
   "cell_type": "code",
   "execution_count": null,
   "id": "eff32986",
   "metadata": {},
   "outputs": [],
   "source": [
    "# 아래 기준은 정상 범주가 아니라, 생리학적으로 가능하다고 판단되는 범주로 설정\n",
    "\n",
    "col = '식전혈당(공복혈당)'\n",
    "lower_bound = 20\n",
    "upper_bound = 800\n",
    "\n",
    "outliers = df[(df[col] < lower_bound) | (df[col] > upper_bound)]\n",
    "print(f\"{col} 이상치 개수:\", len(outliers))\n",
    "print(lower_bound, upper_bound)\n",
    "print(outliers[[col]])"
   ]
  },
  {
   "cell_type": "code",
   "execution_count": null,
   "id": "66e0b0dc",
   "metadata": {},
   "outputs": [],
   "source": [
    "# 임상적 범주로 탐지된 수축기혈압 이상치 삭제\n",
    "df = df[(df[col] >= lower_bound) & (df[col] <= upper_bound)]"
   ]
  },
  {
   "cell_type": "code",
   "execution_count": null,
   "id": "c27adf01",
   "metadata": {},
   "outputs": [],
   "source": [
    "# 아래 기준은 정상 범주가 아니라, 생리학적으로 가능하다고 판단되는 범주로 설정\n",
    "\n",
    "col = '이완기혈압'\n",
    "lower_bound = 20\n",
    "upper_bound = 160\n",
    "\n",
    "outliers = df[(df[col] < lower_bound) | (df[col] > upper_bound)]\n",
    "print(f\"{col} 이상치 개수:\", len(outliers))\n",
    "print(lower_bound, upper_bound)\n",
    "print(outliers[[col]])"
   ]
  },
  {
   "cell_type": "code",
   "execution_count": null,
   "id": "d3e4878a",
   "metadata": {},
   "outputs": [],
   "source": [
    "# 임상적 범주로 탐지된 수축기혈압 이상치 삭제\n",
    "df = df[(df[col] >= lower_bound) & (df[col] <= upper_bound)]"
   ]
  },
  {
   "cell_type": "code",
   "execution_count": null,
   "id": "df04ce44",
   "metadata": {},
   "outputs": [],
   "source": [
    "# 아래 기준은 정상 범주가 아니라, 생리학적으로 가능하다고 판단되는 범주로 설정\n",
    "\n",
    "col = '총콜레스테롤'\n",
    "lower_bound = 0\n",
    "upper_bound = 800\n",
    "\n",
    "outliers = df[(df[col] < lower_bound) | (df[col] > upper_bound)]\n",
    "print(f\"{col} 이상치 개수:\", len(outliers))\n",
    "print(lower_bound, upper_bound)\n",
    "print(outliers[[col]])"
   ]
  },
  {
   "cell_type": "code",
   "execution_count": null,
   "id": "814d0e2d",
   "metadata": {},
   "outputs": [],
   "source": [
    "# 임상적 범주로 탐지된 수축기혈압 이상치 삭제\n",
    "df = df[(df[col] >= lower_bound) & (df[col] <= upper_bound)]"
   ]
  },
  {
   "cell_type": "code",
   "execution_count": null,
   "id": "16578492",
   "metadata": {},
   "outputs": [],
   "source": [
    "# 아래 기준은 정상 범주가 아니라, 생리학적으로 가능하다고 판단되는 범주로 설정\n",
    "\n",
    "col = '트리글리세라이드'\n",
    "lower_bound = 0\n",
    "upper_bound = 5000\n",
    "\n",
    "outliers = df[(df[col] < lower_bound) | (df[col] > upper_bound)]\n",
    "print(f\"{col} 이상치 개수:\", len(outliers))\n",
    "print(lower_bound, upper_bound)\n",
    "print(outliers[[col]])"
   ]
  },
  {
   "cell_type": "code",
   "execution_count": null,
   "id": "4e92f950",
   "metadata": {},
   "outputs": [],
   "source": [
    "# 아래 기준은 정상 범주가 아니라, 생리학적으로 가능하다고 판단되는 범주로 설정\n",
    "\n",
    "col = '허리둘레'\n",
    "lower_bound = 0\n",
    "upper_bound = 200\n",
    "\n",
    "outliers = df[(df[col] < lower_bound) | (df[col] > upper_bound)]\n",
    "print(f\"{col} 이상치 개수:\", len(outliers))\n",
    "print(lower_bound, upper_bound)\n",
    "print(outliers[[col]])"
   ]
  },
  {
   "cell_type": "code",
   "execution_count": null,
   "id": "4ddb6ca4",
   "metadata": {},
   "outputs": [],
   "source": [
    "# 임상적 범주로 탐지된 수축기혈압 이상치 삭제\n",
    "df = df[(df[col] >= lower_bound) & (df[col] <= upper_bound)]"
   ]
  },
  {
   "cell_type": "code",
   "execution_count": null,
   "id": "96c63eb0",
   "metadata": {},
   "outputs": [],
   "source": [
    "# 아래 기준은 정상 범주가 아니라, 생리학적으로 가능하다고 판단되는 범주로 설정\n",
    "\n",
    "col = '혈색소'\n",
    "lower_bound = 2\n",
    "upper_bound = 25\n",
    "\n",
    "outliers = df[(df[col] < lower_bound) | (df[col] > upper_bound)]\n",
    "print(f\"{col} 이상치 개수:\", len(outliers))\n",
    "print(lower_bound, upper_bound)\n",
    "print(outliers[[col]])"
   ]
  },
  {
   "cell_type": "code",
   "execution_count": null,
   "id": "6d547ff1",
   "metadata": {},
   "outputs": [],
   "source": [
    "# 임상적 범주로 탐지된 수축기혈압 이상치 삭제\n",
    "df = df[(df[col] >= lower_bound) & (df[col] <= upper_bound)]"
   ]
  },
  {
   "cell_type": "code",
   "execution_count": null,
   "id": "98853cf7",
   "metadata": {},
   "outputs": [],
   "source": [
    "# 아래 기준은 정상 범주가 아니라, 생리학적으로 가능하다고 판단되는 범주로 설정\n",
    "\n",
    "col = '혈청지오티(AST)'\n",
    "lower_bound = 0\n",
    "upper_bound = 5000\n",
    "\n",
    "outliers = df[(df[col] < lower_bound) | (df[col] > upper_bound)]\n",
    "print(f\"{col} 이상치 개수:\", len(outliers))\n",
    "print(lower_bound, upper_bound)\n",
    "print(outliers[[col]])"
   ]
  },
  {
   "cell_type": "code",
   "execution_count": null,
   "id": "8f0764e4",
   "metadata": {},
   "outputs": [],
   "source": [
    "# 아래 기준은 정상 범주가 아니라, 생리학적으로 가능하다고 판단되는 범주로 설정\n",
    "\n",
    "col = '혈청지피티(ALT)'\n",
    "lower_bound = 0\n",
    "upper_bound = 5000\n",
    "\n",
    "outliers = df[(df[col] < lower_bound) | (df[col] > upper_bound)]\n",
    "print(f\"{col} 이상치 개수:\", len(outliers))\n",
    "print(lower_bound, upper_bound)\n",
    "print(outliers[[col]])"
   ]
  },
  {
   "cell_type": "code",
   "execution_count": null,
   "id": "8285e877",
   "metadata": {},
   "outputs": [],
   "source": [
    "# 아래 기준은 정상 범주가 아니라, 생리학적으로 가능하다고 판단되는 범주로 설정\n",
    "\n",
    "col = '혈청크레아티닌'\n",
    "lower_bound = 0\n",
    "upper_bound = 20\n",
    "\n",
    "outliers = df[(df[col] < lower_bound) | (df[col] > upper_bound)]\n",
    "print(f\"{col} 이상치 개수:\", len(outliers))\n",
    "print(lower_bound, upper_bound)\n",
    "print(outliers[[col]])"
   ]
  },
  {
   "cell_type": "code",
   "execution_count": null,
   "id": "237a6d72",
   "metadata": {},
   "outputs": [],
   "source": [
    "# 임상적 범주로 탐지된 수축기혈압 이상치 삭제\n",
    "df = df[(df[col] >= lower_bound) & (df[col] <= upper_bound)]"
   ]
  },
  {
   "cell_type": "code",
   "execution_count": null,
   "id": "75020214",
   "metadata": {},
   "outputs": [],
   "source": [
    "# 아래 기준은 정상 범주가 아니라, 생리학적으로 가능하다고 판단되는 범주로 설정\n",
    "\n",
    "col = 'HDL콜레스테롤'\n",
    "lower_bound = 0\n",
    "upper_bound = 300\n",
    "\n",
    "outliers = df[(df[col] < lower_bound) | (df[col] > upper_bound)]\n",
    "print(f\"{col} 이상치 개수:\", len(outliers))\n",
    "print(lower_bound, upper_bound)\n",
    "print(outliers[[col]])"
   ]
  },
  {
   "cell_type": "code",
   "execution_count": null,
   "id": "8b4a3339",
   "metadata": {},
   "outputs": [],
   "source": [
    "# 임상적 범주로 탐지된 수축기혈압 이상치 삭제\n",
    "df = df[(df[col] >= lower_bound) & (df[col] <= upper_bound)]"
   ]
  },
  {
   "cell_type": "code",
   "execution_count": null,
   "id": "cc31bca1",
   "metadata": {},
   "outputs": [],
   "source": [
    "# 아래 기준은 정상 범주가 아니라, 생리학적으로 가능하다고 판단되는 범주로 설정\n",
    "\n",
    "col = 'LDL콜레스테롤'\n",
    "lower_bound = 0\n",
    "upper_bound = 600\n",
    "\n",
    "outliers = df[(df[col] < lower_bound) | (df[col] > upper_bound)]\n",
    "print(f\"{col} 이상치 개수:\", len(outliers))\n",
    "print(lower_bound, upper_bound)\n",
    "print(outliers[[col]])"
   ]
  },
  {
   "cell_type": "code",
   "execution_count": null,
   "id": "81689e05",
   "metadata": {},
   "outputs": [],
   "source": [
    "# 임상적 범주로 탐지된 수축기혈압 이상치 삭제\n",
    "df = df[(df[col] >= lower_bound) & (df[col] <= upper_bound)]"
   ]
  },
  {
   "cell_type": "markdown",
   "id": "9ff35b81",
   "metadata": {},
   "source": [
    "## 이상치 처리 방식 ##\n",
    "\n",
    "1. 의료 데이터셋에서 가장 많이 사용하는 IQR 방식으로 이상치를 처리해보려 하였으나, 본 데이터셋에 적용시키게 되면 정상 범주들의 데이터들이 다수 이상치로 판단되는 오류가 있음\n",
    "2. 극단적인 값들 또한 분석/예측하는 데에 의미가 있는 데이터라고 판단하여 임상적으로 가능한 값들을 각 컬럼별로 정의하여 이상치 제거 (데이터셋도 최대한 보존 가능)"
   ]
  },
  {
   "cell_type": "code",
   "execution_count": null,
   "id": "33f4e368",
   "metadata": {},
   "outputs": [],
   "source": [
    "# 이상치 제거 후 최종 데이터셋 저장\n",
    "df.to_csv('data/health_2023_cleaned_final.csv', index=False)"
   ]
  }
 ],
 "metadata": {
  "kernelspec": {
   "display_name": "myenv",
   "language": "python",
   "name": "python3"
  },
  "language_info": {
   "codemirror_mode": {
    "name": "ipython",
    "version": 3
   },
   "file_extension": ".py",
   "mimetype": "text/x-python",
   "name": "python",
   "nbconvert_exporter": "python",
   "pygments_lexer": "ipython3",
   "version": "3.10.18"
  }
 },
 "nbformat": 4,
 "nbformat_minor": 5
}
