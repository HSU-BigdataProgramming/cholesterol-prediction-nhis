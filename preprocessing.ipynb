{
 "cells": [
  {
   "cell_type": "markdown",
   "id": "e470b8e7",
   "metadata": {},
   "source": [
    "## 파일 업로드/불러오기 ##"
   ]
  },
  {
   "cell_type": "code",
   "execution_count": null,
   "id": "0d81fc56",
   "metadata": {},
   "outputs": [],
   "source": [
    "# 버전 명시\n",
    "\n",
    "import sys\n",
    "import pandas as pd\n",
    "import numpy as np\n",
    "\n",
    "print(\"Python version:\", sys.version)\n",
    "print(\"pandas version:\", pd.__version__)\n",
    "print(\"numpy version:\", np.__version__)"
   ]
  },
  {
   "cell_type": "code",
   "execution_count": null,
   "id": "1bd4acf8",
   "metadata": {},
   "outputs": [],
   "source": [
    "import pandas as pd\n",
    "\n",
    "# 데이터셋 불러오기\n",
    "try:\n",
    "    df = pd.read_csv('data/Health_2023.csv', encoding='utf-8')\n",
    "except UnicodeDecodeError:\n",
    "    df = pd.read_csv('data/Health_2023.csv', encoding='cp949')\n",
    "\n",
    "# 불필요한 컬럼 삭제\n",
    "df = df.drop(['결손치 유무', '치아마모증유무', '제3대구치(사랑니) 이상'], axis=1)\n",
    "\n",
    "# '총콜레스테롤' 컬럼 기준 결측값 삭제\n",
    "df = df.dropna(subset=['총콜레스테롤'])\n",
    "\n",
    "df.to_csv('data/health_2023_cleaned.csv', index=False)"
   ]
  },
  {
   "cell_type": "code",
   "execution_count": null,
   "id": "bd59495c",
   "metadata": {},
   "outputs": [],
   "source": [
    "df = pd.read_csv('data/health_2023_cleaned.csv')\n",
    "df.info()\n",
    "df.head()"
   ]
  },
  {
   "cell_type": "code",
   "execution_count": null,
   "id": "2e63a806",
   "metadata": {},
   "outputs": [],
   "source": [
    "import matplotlib.pyplot as plt\n",
    "\n",
    "# 한글 폰트 설정 (macOS: AppleGothic)\n",
    "plt.rc('font', family='AppleGothic')\n",
    "plt.rc('axes', unicode_minus=False)\n",
    "\n",
    "# 수치형 컬럼만 선택\n",
    "numeric_cols = df.columns\n",
    "\n",
    "# 각 컬럼별로 박스플롯 생성 및 저장\n",
    "for col in numeric_cols:\n",
    "    plt.figure(figsize=(8, 4))\n",
    "    df.boxplot(column=col)\n",
    "    plt.title(f'Boxplot of {col} (Outlier Visualization)')\n",
    "    plt.tight_layout()\n",
    "    plt.savefig(f'plots/boxplot_{col}.png')\n",
    "    plt.close()"
   ]
  },
  {
   "cell_type": "code",
   "execution_count": null,
   "id": "5dcc4341",
   "metadata": {},
   "outputs": [],
   "source": [
    "import matplotlib.pyplot as plt\n",
    "import seaborn as sns\n",
    "\n",
    "# 한글 폰트 설정 (macOS: AppleGothic)\n",
    "plt.rc('font', family='AppleGothic')\n",
    "plt.rc('axes', unicode_minus=False)\n",
    "\n",
    "# 수치형 컬럼만 선택\n",
    "df_numeric = df.select_dtypes(include=['float64', 'int64'])\n",
    "\n",
    "# 각 컬럼별로 분포 시각화 및 저장\n",
    "for col in df_numeric.columns:\n",
    "    plt.figure(figsize=(8, 4))\n",
    "    sns.histplot(df_numeric[col].dropna(), kde=True)\n",
    "    plt.title(f'Distribution of {col}')\n",
    "    plt.xlabel(col)\n",
    "    plt.ylabel('빈도')\n",
    "    plt.tight_layout()\n",
    "    plt.savefig(f'plots/distribution_{col}.png')\n",
    "    plt.close()"
   ]
  },
  {
   "cell_type": "markdown",
   "id": "b68c27aa",
   "metadata": {},
   "source": [
    "## 이상치 처리 과정 ##"
   ]
  },
  {
   "cell_type": "code",
   "execution_count": null,
   "id": "7535c287",
   "metadata": {},
   "outputs": [],
   "source": [
    "columns_to_show = ['감마지티피']  # 원하는 컬럼 추가\n",
    "high_bp_top20 = df.nlargest(50, '감마지티피')[columns_to_show]\n",
    "print(high_bp_top20)"
   ]
  },
  {
   "cell_type": "code",
   "execution_count": null,
   "id": "d54c3a2f",
   "metadata": {},
   "outputs": [],
   "source": [
    "# 말이 안 되는 값 1차 제거 (print된 위 코드 확인 및 boxplot 확인 후)\n",
    "\n",
    "df = df[df['감마지티피'] != 9999.0]"
   ]
  },
  {
   "cell_type": "code",
   "execution_count": null,
   "id": "0f905b71",
   "metadata": {},
   "outputs": [],
   "source": [
    "# 아래 기준은 정상 범주가 아니라, 생리학적으로 가능하다고 판단되는 임상적 범주로 설정\n",
    "\n",
    "col = '감마지티피'\n",
    "lower_bound = 1\n",
    "upper_bound = 3000\n",
    "\n",
    "outliers = df[(df[col] < lower_bound) | (df[col] > upper_bound)]\n",
    "print(f\"{col} 이상치 개수:\", len(outliers))\n",
    "print(lower_bound, upper_bound)\n",
    "print(outliers[[col]])"
   ]
  },
  {
   "cell_type": "code",
   "execution_count": null,
   "id": "e316de6e",
   "metadata": {},
   "outputs": [],
   "source": [
    "# 임상적 기준으로 탐지된 감마지티피 이상치 삭제\n",
    "df = df[(df[col] >= lower_bound) & (df[col] <= upper_bound)]"
   ]
  },
  {
   "cell_type": "code",
   "execution_count": null,
   "id": "4fe761cd",
   "metadata": {},
   "outputs": [],
   "source": [
    "# 아래 기준은 정상 범주가 아니라, 생리학적으로 가능하다고 판단되는 임상적 범주로 설정\n",
    "# 이상치 삭제 확인\n",
    "\n",
    "col = '감마지티피'\n",
    "lower_bound = 1\n",
    "upper_bound = 3000\n",
    "\n",
    "outliers = df[(df[col] < lower_bound) | (df[col] > upper_bound)]\n",
    "print(f\"{col} 이상치 개수:\", len(outliers))\n",
    "print(lower_bound, upper_bound)\n",
    "print(outliers[[col]])"
   ]
  },
  {
   "cell_type": "code",
   "execution_count": null,
   "id": "d648f839",
   "metadata": {},
   "outputs": [],
   "source": [
    "columns_to_show = ['감마지티피']\n",
    "high_bp_top20 = df.nlargest(20, '감마지티피')[columns_to_show]\n",
    "print(high_bp_top20)"
   ]
  },
  {
   "cell_type": "code",
   "execution_count": null,
   "id": "aa691fa2",
   "metadata": {},
   "outputs": [],
   "source": [
    "columns_to_show = ['수축기혈압', '이완기혈압']  # 원하는 컬럼 추가\n",
    "high_bp_top10 = df.nlargest(10, '수축기혈압')[columns_to_show]\n",
    "print(high_bp_top10)"
   ]
  },
  {
   "cell_type": "code",
   "execution_count": null,
   "id": "c05826da",
   "metadata": {},
   "outputs": [],
   "source": [
    "# 아래 기준은 정상 범주가 아니라, 생리학적으로 가능하다고 판단되는 임상적 범주로 설정\n",
    "\n",
    "col = '수축기혈압'\n",
    "lower_bound = 40\n",
    "upper_bound = 300\n",
    "\n",
    "outliers = df[(df[col] < lower_bound) | (df[col] > upper_bound)]\n",
    "print(f\"{col} 이상치 개수:\", len(outliers))\n",
    "print(lower_bound, upper_bound)\n",
    "print(outliers[[col]])"
   ]
  },
  {
   "cell_type": "code",
   "execution_count": null,
   "id": "e87bfb62",
   "metadata": {},
   "outputs": [],
   "source": [
    "# 아래 기준은 정상 범주가 아니라, 생리학적으로 가능하다고 판단되는 범주로 설정\n",
    "\n",
    "col = '수축기혈압'\n",
    "lower_bound = 70\n",
    "upper_bound = 250\n",
    "\n",
    "outliers = df[(df[col] < lower_bound) | (df[col] > upper_bound)]\n",
    "print(f\"{col} 이상치 개수:\", len(outliers))\n",
    "print(lower_bound, upper_bound)\n",
    "print(outliers[[col]])"
   ]
  },
  {
   "cell_type": "code",
   "execution_count": null,
   "id": "8a0d99ff",
   "metadata": {},
   "outputs": [],
   "source": [
    "# 임상적 범주로 탐지된 수축기혈압 이상치 삭제\n",
    "df = df[(df[col] >= lower_bound) & (df[col] <= upper_bound)]"
   ]
  },
  {
   "cell_type": "code",
   "execution_count": null,
   "id": "090d9480",
   "metadata": {},
   "outputs": [],
   "source": [
    "columns_to_show = ['수축기혈압', '이완기혈압']  # 원하는 컬럼 추가\n",
    "high_bp_top10 = df.nlargest(10, '수축기혈압')[columns_to_show]\n",
    "print(high_bp_top10)"
   ]
  },
  {
   "cell_type": "code",
   "execution_count": null,
   "id": "3a9a12e8",
   "metadata": {},
   "outputs": [],
   "source": [
    "columns_to_show = ['시력(우)', '시력(좌)']  # 원하는 컬럼 추가\n",
    "high_bp_top20 = df.nlargest(20, '시력(우)')[columns_to_show]\n",
    "print(high_bp_top20)"
   ]
  },
  {
   "cell_type": "code",
   "execution_count": null,
   "id": "6654f55b",
   "metadata": {},
   "outputs": [],
   "source": [
    "# 시력 9.9값들은 실명으로 간주하여 0으로 변경 (한글 파일 참조)\n",
    "\n",
    "df['시력(우)'] = df['시력(우)'].replace(9.9, 0)\n",
    "df['시력(좌)'] = df['시력(좌)'].replace(9.9, 0)"
   ]
  },
  {
   "cell_type": "code",
   "execution_count": null,
   "id": "b95d195d",
   "metadata": {},
   "outputs": [],
   "source": [
    "columns_to_show = ['식전혈당(공복혈당)']  # 원하는 컬럼 추가\n",
    "high_bp_top20 = df.nlargest(20, '식전혈당(공복혈당)')[columns_to_show]\n",
    "print(high_bp_top20)"
   ]
  },
  {
   "cell_type": "code",
   "execution_count": null,
   "id": "eff32986",
   "metadata": {},
   "outputs": [],
   "source": [
    "# 아래 기준은 정상 범주가 아니라, 생리학적으로 가능하다고 판단되는 범주로 설정\n",
    "\n",
    "col = '식전혈당(공복혈당)'\n",
    "lower_bound = 20\n",
    "upper_bound = 800\n",
    "\n",
    "outliers = df[(df[col] < lower_bound) | (df[col] > upper_bound)]\n",
    "print(f\"{col} 이상치 개수:\", len(outliers))\n",
    "print(lower_bound, upper_bound)\n",
    "print(outliers[[col]])"
   ]
  },
  {
   "cell_type": "code",
   "execution_count": null,
   "id": "66e0b0dc",
   "metadata": {},
   "outputs": [],
   "source": [
    "# 임상적 범주로 탐지된 수축기혈압 이상치 삭제\n",
    "df = df[(df[col] >= lower_bound) & (df[col] <= upper_bound)]"
   ]
  },
  {
   "cell_type": "code",
   "execution_count": null,
   "id": "c27adf01",
   "metadata": {},
   "outputs": [],
   "source": [
    "# 아래 기준은 정상 범주가 아니라, 생리학적으로 가능하다고 판단되는 범주로 설정\n",
    "\n",
    "col = '이완기혈압'\n",
    "lower_bound = 20\n",
    "upper_bound = 160\n",
    "\n",
    "outliers = df[(df[col] < lower_bound) | (df[col] > upper_bound)]\n",
    "print(f\"{col} 이상치 개수:\", len(outliers))\n",
    "print(lower_bound, upper_bound)\n",
    "print(outliers[[col]])"
   ]
  },
  {
   "cell_type": "code",
   "execution_count": null,
   "id": "d3e4878a",
   "metadata": {},
   "outputs": [],
   "source": [
    "# 임상적 범주로 탐지된 수축기혈압 이상치 삭제\n",
    "df = df[(df[col] >= lower_bound) & (df[col] <= upper_bound)]"
   ]
  },
  {
   "cell_type": "code",
   "execution_count": null,
   "id": "df04ce44",
   "metadata": {},
   "outputs": [],
   "source": [
    "# 아래 기준은 정상 범주가 아니라, 생리학적으로 가능하다고 판단되는 범주로 설정\n",
    "\n",
    "col = '총콜레스테롤'\n",
    "lower_bound = 0\n",
    "upper_bound = 800\n",
    "\n",
    "outliers = df[(df[col] < lower_bound) | (df[col] > upper_bound)]\n",
    "print(f\"{col} 이상치 개수:\", len(outliers))\n",
    "print(lower_bound, upper_bound)\n",
    "print(outliers[[col]])"
   ]
  },
  {
   "cell_type": "code",
   "execution_count": null,
   "id": "814d0e2d",
   "metadata": {},
   "outputs": [],
   "source": [
    "# 임상적 범주로 탐지된 수축기혈압 이상치 삭제\n",
    "df = df[(df[col] >= lower_bound) & (df[col] <= upper_bound)]"
   ]
  },
  {
   "cell_type": "code",
   "execution_count": null,
   "id": "16578492",
   "metadata": {},
   "outputs": [],
   "source": [
    "# 아래 기준은 정상 범주가 아니라, 생리학적으로 가능하다고 판단되는 범주로 설정\n",
    "\n",
    "col = '트리글리세라이드'\n",
    "lower_bound = 0\n",
    "upper_bound = 5000\n",
    "\n",
    "outliers = df[(df[col] < lower_bound) | (df[col] > upper_bound)]\n",
    "print(f\"{col} 이상치 개수:\", len(outliers))\n",
    "print(lower_bound, upper_bound)\n",
    "print(outliers[[col]])"
   ]
  },
  {
   "cell_type": "code",
   "execution_count": null,
   "id": "4e92f950",
   "metadata": {},
   "outputs": [],
   "source": [
    "# 아래 기준은 정상 범주가 아니라, 생리학적으로 가능하다고 판단되는 범주로 설정\n",
    "\n",
    "col = '허리둘레'\n",
    "lower_bound = 0\n",
    "upper_bound = 200\n",
    "\n",
    "outliers = df[(df[col] < lower_bound) | (df[col] > upper_bound)]\n",
    "print(f\"{col} 이상치 개수:\", len(outliers))\n",
    "print(lower_bound, upper_bound)\n",
    "print(outliers[[col]])"
   ]
  },
  {
   "cell_type": "code",
   "execution_count": null,
   "id": "4ddb6ca4",
   "metadata": {},
   "outputs": [],
   "source": [
    "# 임상적 범주로 탐지된 수축기혈압 이상치 삭제\n",
    "df = df[(df[col] >= lower_bound) & (df[col] <= upper_bound)]"
   ]
  },
  {
   "cell_type": "code",
   "execution_count": null,
   "id": "96c63eb0",
   "metadata": {},
   "outputs": [],
   "source": [
    "# 아래 기준은 정상 범주가 아니라, 생리학적으로 가능하다고 판단되는 범주로 설정\n",
    "\n",
    "col = '혈색소'\n",
    "lower_bound = 2\n",
    "upper_bound = 25\n",
    "\n",
    "outliers = df[(df[col] < lower_bound) | (df[col] > upper_bound)]\n",
    "print(f\"{col} 이상치 개수:\", len(outliers))\n",
    "print(lower_bound, upper_bound)\n",
    "print(outliers[[col]])"
   ]
  },
  {
   "cell_type": "code",
   "execution_count": null,
   "id": "6d547ff1",
   "metadata": {},
   "outputs": [],
   "source": [
    "# 임상적 범주로 탐지된 수축기혈압 이상치 삭제\n",
    "df = df[(df[col] >= lower_bound) & (df[col] <= upper_bound)]"
   ]
  },
  {
   "cell_type": "code",
   "execution_count": null,
   "id": "98853cf7",
   "metadata": {},
   "outputs": [],
   "source": [
    "# 아래 기준은 정상 범주가 아니라, 생리학적으로 가능하다고 판단되는 범주로 설정\n",
    "\n",
    "col = '혈청지오티(AST)'\n",
    "lower_bound = 0\n",
    "upper_bound = 5000\n",
    "\n",
    "outliers = df[(df[col] < lower_bound) | (df[col] > upper_bound)]\n",
    "print(f\"{col} 이상치 개수:\", len(outliers))\n",
    "print(lower_bound, upper_bound)\n",
    "print(outliers[[col]])"
   ]
  },
  {
   "cell_type": "code",
   "execution_count": null,
   "id": "8f0764e4",
   "metadata": {},
   "outputs": [],
   "source": [
    "# 아래 기준은 정상 범주가 아니라, 생리학적으로 가능하다고 판단되는 범주로 설정\n",
    "\n",
    "col = '혈청지피티(ALT)'\n",
    "lower_bound = 0\n",
    "upper_bound = 5000\n",
    "\n",
    "outliers = df[(df[col] < lower_bound) | (df[col] > upper_bound)]\n",
    "print(f\"{col} 이상치 개수:\", len(outliers))\n",
    "print(lower_bound, upper_bound)\n",
    "print(outliers[[col]])"
   ]
  },
  {
   "cell_type": "code",
   "execution_count": null,
   "id": "8285e877",
   "metadata": {},
   "outputs": [],
   "source": [
    "# 아래 기준은 정상 범주가 아니라, 생리학적으로 가능하다고 판단되는 범주로 설정\n",
    "\n",
    "col = '혈청크레아티닌'\n",
    "lower_bound = 0\n",
    "upper_bound = 20\n",
    "\n",
    "outliers = df[(df[col] < lower_bound) | (df[col] > upper_bound)]\n",
    "print(f\"{col} 이상치 개수:\", len(outliers))\n",
    "print(lower_bound, upper_bound)\n",
    "print(outliers[[col]])"
   ]
  },
  {
   "cell_type": "code",
   "execution_count": null,
   "id": "237a6d72",
   "metadata": {},
   "outputs": [],
   "source": [
    "# 임상적 범주로 탐지된 수축기혈압 이상치 삭제\n",
    "df = df[(df[col] >= lower_bound) & (df[col] <= upper_bound)]"
   ]
  },
  {
   "cell_type": "code",
   "execution_count": null,
   "id": "75020214",
   "metadata": {},
   "outputs": [],
   "source": [
    "# 아래 기준은 정상 범주가 아니라, 생리학적으로 가능하다고 판단되는 범주로 설정\n",
    "\n",
    "col = 'HDL콜레스테롤'\n",
    "lower_bound = 0\n",
    "upper_bound = 300\n",
    "\n",
    "outliers = df[(df[col] < lower_bound) | (df[col] > upper_bound)]\n",
    "print(f\"{col} 이상치 개수:\", len(outliers))\n",
    "print(lower_bound, upper_bound)\n",
    "print(outliers[[col]])"
   ]
  },
  {
   "cell_type": "code",
   "execution_count": null,
   "id": "8b4a3339",
   "metadata": {},
   "outputs": [],
   "source": [
    "# 임상적 범주로 탐지된 수축기혈압 이상치 삭제\n",
    "df = df[(df[col] >= lower_bound) & (df[col] <= upper_bound)]"
   ]
  },
  {
   "cell_type": "code",
   "execution_count": null,
   "id": "cc31bca1",
   "metadata": {},
   "outputs": [],
   "source": [
    "# 아래 기준은 정상 범주가 아니라, 생리학적으로 가능하다고 판단되는 범주로 설정\n",
    "\n",
    "col = 'LDL콜레스테롤'\n",
    "lower_bound = 0\n",
    "upper_bound = 600\n",
    "\n",
    "outliers = df[(df[col] < lower_bound) | (df[col] > upper_bound)]\n",
    "print(f\"{col} 이상치 개수:\", len(outliers))\n",
    "print(lower_bound, upper_bound)\n",
    "print(outliers[[col]])"
   ]
  },
  {
   "cell_type": "code",
   "execution_count": null,
   "id": "81689e05",
   "metadata": {},
   "outputs": [],
   "source": [
    "# 임상적 범주로 탐지된 수축기혈압 이상치 삭제\n",
    "df = df[(df[col] >= lower_bound) & (df[col] <= upper_bound)]"
   ]
  },
  {
   "cell_type": "markdown",
   "id": "9ff35b81",
   "metadata": {},
   "source": [
    "## 이상치 처리 방식 ##\n",
    "\n",
    "1. 의료 데이터셋에서 가장 많이 사용하는 IQR 방식으로 이상치를 처리해보려 하였으나, 본 데이터셋에 적용시키게 되면 정상 범주들의 데이터들이 다수 이상치로 판단되는 오류가 있음\n",
    "2. 극단적인 값들 또한 분석/예측하는 데에 의미가 있는 데이터라고 판단하여 임상적으로 가능한 값들을 각 컬럼별로 정의하여 이상치 제거 (데이터셋도 최대한 보존 가능)"
   ]
  },
  {
   "cell_type": "code",
   "execution_count": null,
   "id": "33f4e368",
   "metadata": {},
   "outputs": [],
   "source": [
    "# 이상치 제거 후 최종 데이터셋 저장\n",
    "df.to_csv('data/health_2023_cleaned_final.csv', index=False)"
   ]
  }
 ],
 "metadata": {
  "kernelspec": {
   "display_name": "cholesterol-prediction-nhis",
   "language": "python",
   "name": "python3"
  },
  "language_info": {
   "codemirror_mode": {
    "name": "ipython",
    "version": 3
   },
   "file_extension": ".py",
   "mimetype": "text/x-python",
   "name": "python",
   "nbconvert_exporter": "python",
   "pygments_lexer": "ipython3",
   "version": "3.10.13"
  }
 },
 "nbformat": 4,
 "nbformat_minor": 5
}
