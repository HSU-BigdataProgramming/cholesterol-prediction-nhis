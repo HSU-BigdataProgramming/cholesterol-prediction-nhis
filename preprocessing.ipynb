{
 "cells": [
  {
   "cell_type": "markdown",
   "id": "e470b8e7",
   "metadata": {},
   "source": [
    "## 파일 업로드/불러오기 ##"
   ]
  },
  {
   "cell_type": "code",
   "execution_count": 1,
   "id": "0d81fc56",
   "metadata": {},
   "outputs": [
    {
     "name": "stdout",
     "output_type": "stream",
     "text": [
      "Python version: 3.10.13 (main, May 18 2025, 07:19:04) [Clang 17.0.0 (clang-1700.0.13.3)]\n",
      "pandas version: 2.2.3\n",
      "numpy version: 2.2.6\n"
     ]
    }
   ],
   "source": [
    "# 버전 명시\n",
    "\n",
    "\n",
    "import sys\n",
    "import pandas as pd\n",
    "import numpy as np\n",
    "\n",
    "print(\"Python version:\", sys.version)\n",
    "print(\"pandas version:\", pd.__version__)\n",
    "print(\"numpy version:\", np.__version__)"
   ]
  },
  {
   "cell_type": "code",
   "execution_count": 2,
   "id": "1bd4acf8",
   "metadata": {},
   "outputs": [],
   "source": [
    "import pandas as pd\n",
    "\n",
    "# 데이터셋 불러오기\n",
    "try:\n",
    "    df = pd.read_csv('data/Health_2023.csv', encoding='utf-8')\n",
    "except UnicodeDecodeError:\n",
    "    df = pd.read_csv('data/Health_2023.csv', encoding='cp949')\n",
    "\n",
    "# 불필요한 컬럼 삭제\n",
    "df = df.drop(['결손치 유무', '치아마모증유무', '제3대구치(사랑니) 이상'], axis=1)\n",
    "\n",
    "# '총콜레스테롤' 컬럼 기준 결측값 삭제\n",
    "df = df.dropna(subset=['총콜레스테롤'])\n",
    "\n",
    "df.to_csv('data/health_2023_cleaned.csv', index=False)"
   ]
  },
  {
   "cell_type": "code",
   "execution_count": 3,
   "id": "bd59495c",
   "metadata": {},
   "outputs": [
    {
     "name": "stdout",
     "output_type": "stream",
     "text": [
      "<class 'pandas.core.frame.DataFrame'>\n",
      "RangeIndex: 338606 entries, 0 to 338605\n",
      "Data columns (total 30 columns):\n",
      " #   Column       Non-Null Count   Dtype  \n",
      "---  ------       --------------   -----  \n",
      " 0   기준년도         338606 non-null  int64  \n",
      " 1   가입자일련번호      338606 non-null  int64  \n",
      " 2   시도코드         338606 non-null  int64  \n",
      " 3   성별코드         338606 non-null  int64  \n",
      " 4   연령대코드(5세단위)  338606 non-null  int64  \n",
      " 5   신장(5cm단위)    338606 non-null  int64  \n",
      " 6   체중(5kg단위)    338606 non-null  int64  \n",
      " 7   허리둘레         338590 non-null  float64\n",
      " 8   시력(좌)        338545 non-null  float64\n",
      " 9   시력(우)        338546 non-null  float64\n",
      " 10  청력(좌)        338559 non-null  float64\n",
      " 11  청력(우)        338559 non-null  float64\n",
      " 12  수축기혈압        338604 non-null  float64\n",
      " 13  이완기혈압        338604 non-null  float64\n",
      " 14  식전혈당(공복혈당)   338606 non-null  float64\n",
      " 15  총콜레스테롤       338606 non-null  float64\n",
      " 16  트리글리세라이드     338605 non-null  float64\n",
      " 17  HDL콜레스테롤     338605 non-null  float64\n",
      " 18  LDL콜레스테롤     332753 non-null  float64\n",
      " 19  혈색소          338606 non-null  float64\n",
      " 20  요단백          336655 non-null  float64\n",
      " 21  혈청크레아티닌      338605 non-null  float64\n",
      " 22  혈청지오티(AST)   338604 non-null  float64\n",
      " 23  혈청지피티(ALT)   338605 non-null  float64\n",
      " 24  감마지티피        338606 non-null  float64\n",
      " 25  흡연상태         338571 non-null  float64\n",
      " 26  음주여부         338584 non-null  float64\n",
      " 27  구강검진수검여부     338606 non-null  int64  \n",
      " 28  치아우식증유무      108030 non-null  float64\n",
      " 29  치석           108030 non-null  float64\n",
      "dtypes: float64(22), int64(8)\n",
      "memory usage: 77.5 MB\n"
     ]
    },
    {
     "data": {
      "text/html": [
       "<div>\n",
       "<style scoped>\n",
       "    .dataframe tbody tr th:only-of-type {\n",
       "        vertical-align: middle;\n",
       "    }\n",
       "\n",
       "    .dataframe tbody tr th {\n",
       "        vertical-align: top;\n",
       "    }\n",
       "\n",
       "    .dataframe thead th {\n",
       "        text-align: right;\n",
       "    }\n",
       "</style>\n",
       "<table border=\"1\" class=\"dataframe\">\n",
       "  <thead>\n",
       "    <tr style=\"text-align: right;\">\n",
       "      <th></th>\n",
       "      <th>기준년도</th>\n",
       "      <th>가입자일련번호</th>\n",
       "      <th>시도코드</th>\n",
       "      <th>성별코드</th>\n",
       "      <th>연령대코드(5세단위)</th>\n",
       "      <th>신장(5cm단위)</th>\n",
       "      <th>체중(5kg단위)</th>\n",
       "      <th>허리둘레</th>\n",
       "      <th>시력(좌)</th>\n",
       "      <th>시력(우)</th>\n",
       "      <th>...</th>\n",
       "      <th>요단백</th>\n",
       "      <th>혈청크레아티닌</th>\n",
       "      <th>혈청지오티(AST)</th>\n",
       "      <th>혈청지피티(ALT)</th>\n",
       "      <th>감마지티피</th>\n",
       "      <th>흡연상태</th>\n",
       "      <th>음주여부</th>\n",
       "      <th>구강검진수검여부</th>\n",
       "      <th>치아우식증유무</th>\n",
       "      <th>치석</th>\n",
       "    </tr>\n",
       "  </thead>\n",
       "  <tbody>\n",
       "    <tr>\n",
       "      <th>0</th>\n",
       "      <td>2023</td>\n",
       "      <td>34735</td>\n",
       "      <td>46</td>\n",
       "      <td>2</td>\n",
       "      <td>9</td>\n",
       "      <td>155</td>\n",
       "      <td>70</td>\n",
       "      <td>92.0</td>\n",
       "      <td>1.2</td>\n",
       "      <td>1.2</td>\n",
       "      <td>...</td>\n",
       "      <td>1.0</td>\n",
       "      <td>0.5</td>\n",
       "      <td>26.0</td>\n",
       "      <td>24.0</td>\n",
       "      <td>50.0</td>\n",
       "      <td>1.0</td>\n",
       "      <td>1.0</td>\n",
       "      <td>0</td>\n",
       "      <td>NaN</td>\n",
       "      <td>NaN</td>\n",
       "    </tr>\n",
       "    <tr>\n",
       "      <th>1</th>\n",
       "      <td>2023</td>\n",
       "      <td>362482</td>\n",
       "      <td>36</td>\n",
       "      <td>2</td>\n",
       "      <td>13</td>\n",
       "      <td>150</td>\n",
       "      <td>65</td>\n",
       "      <td>96.0</td>\n",
       "      <td>1.0</td>\n",
       "      <td>0.8</td>\n",
       "      <td>...</td>\n",
       "      <td>1.0</td>\n",
       "      <td>1.1</td>\n",
       "      <td>22.0</td>\n",
       "      <td>29.0</td>\n",
       "      <td>24.0</td>\n",
       "      <td>1.0</td>\n",
       "      <td>1.0</td>\n",
       "      <td>0</td>\n",
       "      <td>NaN</td>\n",
       "      <td>NaN</td>\n",
       "    </tr>\n",
       "    <tr>\n",
       "      <th>2</th>\n",
       "      <td>2023</td>\n",
       "      <td>653166</td>\n",
       "      <td>11</td>\n",
       "      <td>1</td>\n",
       "      <td>13</td>\n",
       "      <td>160</td>\n",
       "      <td>70</td>\n",
       "      <td>85.0</td>\n",
       "      <td>1.0</td>\n",
       "      <td>1.2</td>\n",
       "      <td>...</td>\n",
       "      <td>1.0</td>\n",
       "      <td>0.9</td>\n",
       "      <td>22.0</td>\n",
       "      <td>21.0</td>\n",
       "      <td>27.0</td>\n",
       "      <td>3.0</td>\n",
       "      <td>1.0</td>\n",
       "      <td>1</td>\n",
       "      <td>0.0</td>\n",
       "      <td>0.0</td>\n",
       "    </tr>\n",
       "    <tr>\n",
       "      <th>3</th>\n",
       "      <td>2023</td>\n",
       "      <td>722514</td>\n",
       "      <td>49</td>\n",
       "      <td>1</td>\n",
       "      <td>10</td>\n",
       "      <td>165</td>\n",
       "      <td>80</td>\n",
       "      <td>89.0</td>\n",
       "      <td>1.2</td>\n",
       "      <td>1.2</td>\n",
       "      <td>...</td>\n",
       "      <td>1.0</td>\n",
       "      <td>0.7</td>\n",
       "      <td>53.0</td>\n",
       "      <td>69.0</td>\n",
       "      <td>53.0</td>\n",
       "      <td>2.0</td>\n",
       "      <td>1.0</td>\n",
       "      <td>0</td>\n",
       "      <td>NaN</td>\n",
       "      <td>NaN</td>\n",
       "    </tr>\n",
       "    <tr>\n",
       "      <th>4</th>\n",
       "      <td>2023</td>\n",
       "      <td>2555336</td>\n",
       "      <td>28</td>\n",
       "      <td>2</td>\n",
       "      <td>13</td>\n",
       "      <td>150</td>\n",
       "      <td>70</td>\n",
       "      <td>97.0</td>\n",
       "      <td>1.5</td>\n",
       "      <td>1.5</td>\n",
       "      <td>...</td>\n",
       "      <td>1.0</td>\n",
       "      <td>0.6</td>\n",
       "      <td>41.0</td>\n",
       "      <td>45.0</td>\n",
       "      <td>61.0</td>\n",
       "      <td>1.0</td>\n",
       "      <td>1.0</td>\n",
       "      <td>0</td>\n",
       "      <td>NaN</td>\n",
       "      <td>NaN</td>\n",
       "    </tr>\n",
       "  </tbody>\n",
       "</table>\n",
       "<p>5 rows × 30 columns</p>\n",
       "</div>"
      ],
      "text/plain": [
       "   기준년도  가입자일련번호  시도코드  성별코드  연령대코드(5세단위)  신장(5cm단위)  체중(5kg단위)  허리둘레  시력(좌)  \\\n",
       "0  2023    34735    46     2            9        155         70  92.0    1.2   \n",
       "1  2023   362482    36     2           13        150         65  96.0    1.0   \n",
       "2  2023   653166    11     1           13        160         70  85.0    1.0   \n",
       "3  2023   722514    49     1           10        165         80  89.0    1.2   \n",
       "4  2023  2555336    28     2           13        150         70  97.0    1.5   \n",
       "\n",
       "   시력(우)  ...  요단백  혈청크레아티닌  혈청지오티(AST)  혈청지피티(ALT)  감마지티피  흡연상태  음주여부  \\\n",
       "0    1.2  ...  1.0      0.5        26.0        24.0   50.0   1.0   1.0   \n",
       "1    0.8  ...  1.0      1.1        22.0        29.0   24.0   1.0   1.0   \n",
       "2    1.2  ...  1.0      0.9        22.0        21.0   27.0   3.0   1.0   \n",
       "3    1.2  ...  1.0      0.7        53.0        69.0   53.0   2.0   1.0   \n",
       "4    1.5  ...  1.0      0.6        41.0        45.0   61.0   1.0   1.0   \n",
       "\n",
       "   구강검진수검여부  치아우식증유무   치석  \n",
       "0         0      NaN  NaN  \n",
       "1         0      NaN  NaN  \n",
       "2         1      0.0  0.0  \n",
       "3         0      NaN  NaN  \n",
       "4         0      NaN  NaN  \n",
       "\n",
       "[5 rows x 30 columns]"
      ]
     },
     "execution_count": 3,
     "metadata": {},
     "output_type": "execute_result"
    }
   ],
   "source": [
    "df = pd.read_csv('data/health_2023_cleaned.csv')\n",
    "df.info()\n",
    "df.head()"
   ]
  },
  {
   "cell_type": "code",
   "execution_count": 4,
   "id": "2e63a806",
   "metadata": {},
   "outputs": [],
   "source": [
    "import matplotlib.pyplot as plt\n",
    "\n",
    "# 한글 폰트 설정 (macOS: AppleGothic)\n",
    "plt.rc('font', family='AppleGothic')\n",
    "plt.rc('axes', unicode_minus=False)\n",
    "\n",
    "# 수치형 컬럼만 선택\n",
    "numeric_cols = df.columns\n",
    "\n",
    "# 각 컬럼별로 박스플롯 생성 및 저장\n",
    "for col in numeric_cols:\n",
    "    plt.figure(figsize=(8, 4))\n",
    "    df.boxplot(column=col)\n",
    "    plt.title(f'Boxplot of {col} (Outlier Visualization)')\n",
    "    plt.tight_layout()\n",
    "    plt.savefig(f'plots/boxplot_{col}.png')\n",
    "    plt.close()"
   ]
  },
  {
   "cell_type": "code",
   "execution_count": 5,
   "id": "5dcc4341",
   "metadata": {},
   "outputs": [],
   "source": [
    "import matplotlib.pyplot as plt\n",
    "import seaborn as sns\n",
    "\n",
    "# 한글 폰트 설정 (macOS: AppleGothic)\n",
    "plt.rc('font', family='AppleGothic')\n",
    "plt.rc('axes', unicode_minus=False)\n",
    "\n",
    "# 수치형 컬럼만 선택\n",
    "df_numeric = df.select_dtypes(include=['float64', 'int64'])\n",
    "\n",
    "# 각 컬럼별로 분포 시각화 및 저장\n",
    "for col in df_numeric.columns:\n",
    "    plt.figure(figsize=(8, 4))\n",
    "    sns.histplot(df_numeric[col].dropna(), kde=True)\n",
    "    plt.title(f'Distribution of {col}')\n",
    "    plt.xlabel(col)\n",
    "    plt.ylabel('빈도')\n",
    "    plt.tight_layout()\n",
    "    plt.savefig(f'plots/distribution_{col}.png')\n",
    "    plt.close()"
   ]
  },
  {
   "cell_type": "markdown",
   "id": "b68c27aa",
   "metadata": {},
   "source": [
    "## 이상치 처리 과정 ##"
   ]
  },
  {
   "cell_type": "code",
   "execution_count": 6,
   "id": "7535c287",
   "metadata": {},
   "outputs": [
    {
     "name": "stdout",
     "output_type": "stream",
     "text": [
      "         감마지티피\n",
      "17261   9999.0\n",
      "227406  9999.0\n",
      "278666  9999.0\n",
      "22442   2951.0\n",
      "206432  2700.0\n",
      "147081  2680.0\n",
      "269171  2645.0\n",
      "2472    2525.0\n",
      "144549  2520.0\n",
      "104407  2459.0\n",
      "202447  2349.0\n",
      "258065  2315.0\n",
      "288102  2236.0\n",
      "175799  2202.0\n",
      "122735  2199.0\n",
      "53389   2112.0\n",
      "323011  2100.0\n",
      "160951  1966.0\n",
      "318330  1966.0\n",
      "327664  1943.0\n",
      "197683  1785.0\n",
      "92717   1745.0\n",
      "242273  1662.0\n",
      "248667  1657.0\n",
      "39569   1655.0\n",
      "140663  1638.0\n",
      "10875   1633.0\n",
      "239109  1584.0\n",
      "332510  1584.0\n",
      "167028  1560.0\n",
      "328176  1548.0\n",
      "259054  1532.0\n",
      "105553  1526.0\n",
      "24800   1503.0\n",
      "231561  1490.0\n",
      "278247  1484.0\n",
      "49904   1482.0\n",
      "31817   1479.0\n",
      "88996   1472.0\n",
      "252951  1465.0\n",
      "179654  1458.0\n",
      "307824  1441.0\n",
      "82484   1422.0\n",
      "152716  1395.0\n",
      "129354  1392.0\n",
      "307713  1388.0\n",
      "74921   1383.0\n",
      "227254  1362.0\n",
      "49114   1359.0\n",
      "260621  1355.0\n"
     ]
    }
   ],
   "source": [
    "columns_to_show = ['감마지티피']  # 원하는 컬럼 추가\n",
    "high_bp_top20 = df.nlargest(50, '감마지티피')[columns_to_show]\n",
    "print(high_bp_top20)"
   ]
  },
  {
   "cell_type": "code",
   "execution_count": 7,
   "id": "d54c3a2f",
   "metadata": {},
   "outputs": [],
   "source": [
    "# 말이 안 되는 값 1차 제거 (print된 위 코드 확인 및 boxplot 확인 후)\n",
    "\n",
    "df = df[df['감마지티피'] != 9999.0]"
   ]
  },
  {
   "cell_type": "code",
   "execution_count": 8,
   "id": "0f905b71",
   "metadata": {},
   "outputs": [
    {
     "name": "stdout",
     "output_type": "stream",
     "text": [
      "감마지티피 이상치 개수: 0\n",
      "1 3000\n",
      "Empty DataFrame\n",
      "Columns: [감마지티피]\n",
      "Index: []\n"
     ]
    }
   ],
   "source": [
    "# 아래 기준은 정상 범주가 아니라, 생리학적으로 가능하다고 판단되는 임상적 범주로 설정\n",
    "\n",
    "col = '감마지티피'\n",
    "lower_bound = 1\n",
    "upper_bound = 3000\n",
    "\n",
    "outliers = df[(df[col] < lower_bound) | (df[col] > upper_bound)]\n",
    "print(f\"{col} 이상치 개수:\", len(outliers))\n",
    "print(lower_bound, upper_bound)\n",
    "print(outliers[[col]])"
   ]
  },
  {
   "cell_type": "code",
   "execution_count": 9,
   "id": "e316de6e",
   "metadata": {},
   "outputs": [],
   "source": [
    "# 임상적 기준으로 탐지된 감마지티피 이상치 삭제\n",
    "df = df[(df[col] >= lower_bound) & (df[col] <= upper_bound)]"
   ]
  },
  {
   "cell_type": "code",
   "execution_count": 10,
   "id": "4fe761cd",
   "metadata": {},
   "outputs": [
    {
     "name": "stdout",
     "output_type": "stream",
     "text": [
      "감마지티피 이상치 개수: 0\n",
      "1 3000\n",
      "Empty DataFrame\n",
      "Columns: [감마지티피]\n",
      "Index: []\n"
     ]
    }
   ],
   "source": [
    "# 아래 기준은 정상 범주가 아니라, 생리학적으로 가능하다고 판단되는 임상적 범주로 설정\n",
    "# 이상치 삭제 확인\n",
    "\n",
    "col = '감마지티피'\n",
    "lower_bound = 1\n",
    "upper_bound = 3000\n",
    "\n",
    "outliers = df[(df[col] < lower_bound) | (df[col] > upper_bound)]\n",
    "print(f\"{col} 이상치 개수:\", len(outliers))\n",
    "print(lower_bound, upper_bound)\n",
    "print(outliers[[col]])"
   ]
  },
  {
   "cell_type": "code",
   "execution_count": 11,
   "id": "d648f839",
   "metadata": {},
   "outputs": [
    {
     "name": "stdout",
     "output_type": "stream",
     "text": [
      "         감마지티피\n",
      "22442   2951.0\n",
      "206432  2700.0\n",
      "147081  2680.0\n",
      "269171  2645.0\n",
      "2472    2525.0\n",
      "144549  2520.0\n",
      "104407  2459.0\n",
      "202447  2349.0\n",
      "258065  2315.0\n",
      "288102  2236.0\n",
      "175799  2202.0\n",
      "122735  2199.0\n",
      "53389   2112.0\n",
      "323011  2100.0\n",
      "160951  1966.0\n",
      "318330  1966.0\n",
      "327664  1943.0\n",
      "197683  1785.0\n",
      "92717   1745.0\n",
      "242273  1662.0\n"
     ]
    }
   ],
   "source": [
    "columns_to_show = ['감마지티피']\n",
    "high_bp_top20 = df.nlargest(20, '감마지티피')[columns_to_show]\n",
    "print(high_bp_top20)"
   ]
  },
  {
   "cell_type": "code",
   "execution_count": 12,
   "id": "aa691fa2",
   "metadata": {},
   "outputs": [
    {
     "name": "stdout",
     "output_type": "stream",
     "text": [
      "        수축기혈압  이완기혈압\n",
      "274421  255.0  159.0\n",
      "112699  230.0  120.0\n",
      "132212  230.0  140.0\n",
      "145685  228.0  137.0\n",
      "15777   226.0  136.0\n",
      "29784   226.0  103.0\n",
      "62115   223.0   94.0\n",
      "210374  223.0  110.0\n",
      "238775  223.0  113.0\n",
      "216800  222.0  126.0\n"
     ]
    }
   ],
   "source": [
    "columns_to_show = ['수축기혈압', '이완기혈압']  # 원하는 컬럼 추가\n",
    "high_bp_top10 = df.nlargest(10, '수축기혈압')[columns_to_show]\n",
    "print(high_bp_top10)"
   ]
  },
  {
   "cell_type": "code",
   "execution_count": 13,
   "id": "c05826da",
   "metadata": {},
   "outputs": [
    {
     "name": "stdout",
     "output_type": "stream",
     "text": [
      "수축기혈압 이상치 개수: 0\n",
      "40 300\n",
      "Empty DataFrame\n",
      "Columns: [수축기혈압]\n",
      "Index: []\n"
     ]
    }
   ],
   "source": [
    "# 아래 기준은 정상 범주가 아니라, 생리학적으로 가능하다고 판단되는 임상적 범주로 설정\n",
    "\n",
    "col = '수축기혈압'\n",
    "lower_bound = 40\n",
    "upper_bound = 300\n",
    "\n",
    "outliers = df[(df[col] < lower_bound) | (df[col] > upper_bound)]\n",
    "print(f\"{col} 이상치 개수:\", len(outliers))\n",
    "print(lower_bound, upper_bound)\n",
    "print(outliers[[col]])"
   ]
  },
  {
   "cell_type": "code",
   "execution_count": 14,
   "id": "e87bfb62",
   "metadata": {},
   "outputs": [
    {
     "name": "stdout",
     "output_type": "stream",
     "text": [
      "수축기혈압 이상치 개수: 2\n",
      "70 250\n",
      "        수축기혈압\n",
      "148721   68.0\n",
      "274421  255.0\n"
     ]
    }
   ],
   "source": [
    "# 아래 기준은 정상 범주가 아니라, 생리학적으로 가능하다고 판단되는 범주로 설정\n",
    "\n",
    "col = '수축기혈압'\n",
    "lower_bound = 70\n",
    "upper_bound = 250\n",
    "\n",
    "outliers = df[(df[col] < lower_bound) | (df[col] > upper_bound)]\n",
    "print(f\"{col} 이상치 개수:\", len(outliers))\n",
    "print(lower_bound, upper_bound)\n",
    "print(outliers[[col]])"
   ]
  },
  {
   "cell_type": "code",
   "execution_count": 15,
   "id": "8a0d99ff",
   "metadata": {},
   "outputs": [],
   "source": [
    "# 임상적 범주로 탐지된 수축기혈압 이상치 삭제\n",
    "df = df[(df[col] >= lower_bound) & (df[col] <= upper_bound)]"
   ]
  },
  {
   "cell_type": "code",
   "execution_count": 16,
   "id": "090d9480",
   "metadata": {},
   "outputs": [
    {
     "name": "stdout",
     "output_type": "stream",
     "text": [
      "        수축기혈압  이완기혈압\n",
      "112699  230.0  120.0\n",
      "132212  230.0  140.0\n",
      "145685  228.0  137.0\n",
      "15777   226.0  136.0\n",
      "29784   226.0  103.0\n",
      "62115   223.0   94.0\n",
      "210374  223.0  110.0\n",
      "238775  223.0  113.0\n",
      "216800  222.0  126.0\n",
      "254854  222.0  138.0\n"
     ]
    }
   ],
   "source": [
    "columns_to_show = ['수축기혈압', '이완기혈압']  # 원하는 컬럼 추가\n",
    "high_bp_top10 = df.nlargest(10, '수축기혈압')[columns_to_show]\n",
    "print(high_bp_top10)"
   ]
  },
  {
   "cell_type": "code",
   "execution_count": 17,
   "id": "3a9a12e8",
   "metadata": {},
   "outputs": [
    {
     "name": "stdout",
     "output_type": "stream",
     "text": [
      "      시력(우)  시력(좌)\n",
      "131     9.9    9.9\n",
      "992     9.9    0.8\n",
      "1364    9.9    9.9\n",
      "1462    9.9    1.0\n",
      "1849    9.9    0.8\n",
      "2403    9.9    1.0\n",
      "2423    9.9    0.8\n",
      "2633    9.9    0.8\n",
      "3615    9.9    9.9\n",
      "4303    9.9    9.9\n",
      "4731    9.9    9.9\n",
      "4849    9.9    0.9\n",
      "5898    9.9    0.7\n",
      "5941    9.9    1.5\n",
      "6069    9.9    9.9\n",
      "6276    9.9    0.5\n",
      "6581    9.9    9.9\n",
      "6637    9.9    0.9\n",
      "6652    9.9    1.5\n",
      "6888    9.9    0.5\n"
     ]
    }
   ],
   "source": [
    "columns_to_show = ['시력(우)', '시력(좌)']  # 원하는 컬럼 추가\n",
    "high_bp_top20 = df.nlargest(20, '시력(우)')[columns_to_show]\n",
    "print(high_bp_top20)"
   ]
  },
  {
   "cell_type": "code",
   "execution_count": 18,
   "id": "6654f55b",
   "metadata": {},
   "outputs": [],
   "source": [
    "# 시력 9.9값들은 실명으로 간주하여 0으로 변경 (한글 파일 참조)\n",
    "\n",
    "df['시력(우)'] = df['시력(우)'].replace(9.9, 0)\n",
    "df['시력(좌)'] = df['시력(좌)'].replace(9.9, 0)"
   ]
  },
  {
   "cell_type": "code",
   "execution_count": 19,
   "id": "b95d195d",
   "metadata": {},
   "outputs": [
    {
     "name": "stdout",
     "output_type": "stream",
     "text": [
      "        식전혈당(공복혈당)\n",
      "120923       873.0\n",
      "27265        853.0\n",
      "288180       762.0\n",
      "181047       760.0\n",
      "54185        676.0\n",
      "72500        626.0\n",
      "46789        619.0\n",
      "225843       599.0\n",
      "150583       585.0\n",
      "324556       579.0\n",
      "20662        530.0\n",
      "81810        517.0\n",
      "83205        513.0\n",
      "319484       511.0\n",
      "33413        509.0\n",
      "127100       509.0\n",
      "181362       500.0\n",
      "9634         495.0\n",
      "186827       487.0\n",
      "33840        477.0\n"
     ]
    }
   ],
   "source": [
    "columns_to_show = ['식전혈당(공복혈당)']  # 원하는 컬럼 추가\n",
    "high_bp_top20 = df.nlargest(20, '식전혈당(공복혈당)')[columns_to_show]\n",
    "print(high_bp_top20)"
   ]
  },
  {
   "cell_type": "code",
   "execution_count": 20,
   "id": "eff32986",
   "metadata": {},
   "outputs": [
    {
     "name": "stdout",
     "output_type": "stream",
     "text": [
      "식전혈당(공복혈당) 이상치 개수: 4\n",
      "20 800\n",
      "        식전혈당(공복혈당)\n",
      "27265        853.0\n",
      "120923       873.0\n",
      "251475        19.0\n",
      "302844        17.0\n"
     ]
    }
   ],
   "source": [
    "# 아래 기준은 정상 범주가 아니라, 생리학적으로 가능하다고 판단되는 범주로 설정\n",
    "\n",
    "col = '식전혈당(공복혈당)'\n",
    "lower_bound = 20\n",
    "upper_bound = 800\n",
    "\n",
    "outliers = df[(df[col] < lower_bound) | (df[col] > upper_bound)]\n",
    "print(f\"{col} 이상치 개수:\", len(outliers))\n",
    "print(lower_bound, upper_bound)\n",
    "print(outliers[[col]])"
   ]
  },
  {
   "cell_type": "code",
   "execution_count": 21,
   "id": "66e0b0dc",
   "metadata": {},
   "outputs": [],
   "source": [
    "# 임상적 범주로 탐지된 수축기혈압 이상치 삭제\n",
    "df = df[(df[col] >= lower_bound) & (df[col] <= upper_bound)]"
   ]
  },
  {
   "cell_type": "code",
   "execution_count": 22,
   "id": "c27adf01",
   "metadata": {},
   "outputs": [
    {
     "name": "stdout",
     "output_type": "stream",
     "text": [
      "이완기혈압 이상치 개수: 1\n",
      "20 160\n",
      "        이완기혈압\n",
      "265244  171.0\n"
     ]
    }
   ],
   "source": [
    "# 아래 기준은 정상 범주가 아니라, 생리학적으로 가능하다고 판단되는 범주로 설정\n",
    "\n",
    "col = '이완기혈압'\n",
    "lower_bound = 20\n",
    "upper_bound = 160\n",
    "\n",
    "outliers = df[(df[col] < lower_bound) | (df[col] > upper_bound)]\n",
    "print(f\"{col} 이상치 개수:\", len(outliers))\n",
    "print(lower_bound, upper_bound)\n",
    "print(outliers[[col]])"
   ]
  },
  {
   "cell_type": "code",
   "execution_count": 23,
   "id": "d3e4878a",
   "metadata": {},
   "outputs": [],
   "source": [
    "# 임상적 범주로 탐지된 수축기혈압 이상치 삭제\n",
    "df = df[(df[col] >= lower_bound) & (df[col] <= upper_bound)]"
   ]
  },
  {
   "cell_type": "code",
   "execution_count": 24,
   "id": "df04ce44",
   "metadata": {},
   "outputs": [
    {
     "name": "stdout",
     "output_type": "stream",
     "text": [
      "총콜레스테롤 이상치 개수: 4\n",
      "0 800\n",
      "        총콜레스테롤\n",
      "31431   1863.0\n",
      "34108   1841.0\n",
      "163036  2305.0\n",
      "218827   835.0\n"
     ]
    }
   ],
   "source": [
    "# 아래 기준은 정상 범주가 아니라, 생리학적으로 가능하다고 판단되는 범주로 설정\n",
    "\n",
    "col = '총콜레스테롤'\n",
    "lower_bound = 0\n",
    "upper_bound = 800\n",
    "\n",
    "outliers = df[(df[col] < lower_bound) | (df[col] > upper_bound)]\n",
    "print(f\"{col} 이상치 개수:\", len(outliers))\n",
    "print(lower_bound, upper_bound)\n",
    "print(outliers[[col]])"
   ]
  },
  {
   "cell_type": "code",
   "execution_count": 25,
   "id": "814d0e2d",
   "metadata": {},
   "outputs": [],
   "source": [
    "# 임상적 범주로 탐지된 수축기혈압 이상치 삭제\n",
    "df = df[(df[col] >= lower_bound) & (df[col] <= upper_bound)]"
   ]
  },
  {
   "cell_type": "code",
   "execution_count": 26,
   "id": "16578492",
   "metadata": {},
   "outputs": [
    {
     "name": "stdout",
     "output_type": "stream",
     "text": [
      "트리글리세라이드 이상치 개수: 0\n",
      "0 5000\n",
      "Empty DataFrame\n",
      "Columns: [트리글리세라이드]\n",
      "Index: []\n"
     ]
    }
   ],
   "source": [
    "# 아래 기준은 정상 범주가 아니라, 생리학적으로 가능하다고 판단되는 범주로 설정\n",
    "\n",
    "col = '트리글리세라이드'\n",
    "lower_bound = 0\n",
    "upper_bound = 5000\n",
    "\n",
    "outliers = df[(df[col] < lower_bound) | (df[col] > upper_bound)]\n",
    "print(f\"{col} 이상치 개수:\", len(outliers))\n",
    "print(lower_bound, upper_bound)\n",
    "print(outliers[[col]])"
   ]
  },
  {
   "cell_type": "code",
   "execution_count": 27,
   "id": "4e92f950",
   "metadata": {},
   "outputs": [
    {
     "name": "stdout",
     "output_type": "stream",
     "text": [
      "허리둘레 이상치 개수: 1\n",
      "0 200\n",
      "         허리둘레\n",
      "307499  999.0\n"
     ]
    }
   ],
   "source": [
    "# 아래 기준은 정상 범주가 아니라, 생리학적으로 가능하다고 판단되는 범주로 설정\n",
    "\n",
    "col = '허리둘레'\n",
    "lower_bound = 0\n",
    "upper_bound = 200\n",
    "\n",
    "outliers = df[(df[col] < lower_bound) | (df[col] > upper_bound)]\n",
    "print(f\"{col} 이상치 개수:\", len(outliers))\n",
    "print(lower_bound, upper_bound)\n",
    "print(outliers[[col]])"
   ]
  },
  {
   "cell_type": "code",
   "execution_count": 28,
   "id": "4ddb6ca4",
   "metadata": {},
   "outputs": [],
   "source": [
    "# 임상적 범주로 탐지된 수축기혈압 이상치 삭제\n",
    "df = df[(df[col] >= lower_bound) & (df[col] <= upper_bound)]"
   ]
  },
  {
   "cell_type": "code",
   "execution_count": 29,
   "id": "96c63eb0",
   "metadata": {},
   "outputs": [
    {
     "name": "stdout",
     "output_type": "stream",
     "text": [
      "혈색소 이상치 개수: 3\n",
      "2 25\n",
      "        혈색소\n",
      "10463   1.0\n",
      "24813   0.8\n",
      "242876  0.2\n"
     ]
    }
   ],
   "source": [
    "# 아래 기준은 정상 범주가 아니라, 생리학적으로 가능하다고 판단되는 범주로 설정\n",
    "\n",
    "col = '혈색소'\n",
    "lower_bound = 2\n",
    "upper_bound = 25\n",
    "\n",
    "outliers = df[(df[col] < lower_bound) | (df[col] > upper_bound)]\n",
    "print(f\"{col} 이상치 개수:\", len(outliers))\n",
    "print(lower_bound, upper_bound)\n",
    "print(outliers[[col]])"
   ]
  },
  {
   "cell_type": "code",
   "execution_count": 30,
   "id": "6d547ff1",
   "metadata": {},
   "outputs": [],
   "source": [
    "# 임상적 범주로 탐지된 수축기혈압 이상치 삭제\n",
    "df = df[(df[col] >= lower_bound) & (df[col] <= upper_bound)]"
   ]
  },
  {
   "cell_type": "code",
   "execution_count": 31,
   "id": "98853cf7",
   "metadata": {},
   "outputs": [
    {
     "name": "stdout",
     "output_type": "stream",
     "text": [
      "혈청지오티(AST) 이상치 개수: 0\n",
      "0 5000\n",
      "Empty DataFrame\n",
      "Columns: [혈청지오티(AST)]\n",
      "Index: []\n"
     ]
    }
   ],
   "source": [
    "# 아래 기준은 정상 범주가 아니라, 생리학적으로 가능하다고 판단되는 범주로 설정\n",
    "\n",
    "col = '혈청지오티(AST)'\n",
    "lower_bound = 0\n",
    "upper_bound = 5000\n",
    "\n",
    "outliers = df[(df[col] < lower_bound) | (df[col] > upper_bound)]\n",
    "print(f\"{col} 이상치 개수:\", len(outliers))\n",
    "print(lower_bound, upper_bound)\n",
    "print(outliers[[col]])"
   ]
  },
  {
   "cell_type": "code",
   "execution_count": 32,
   "id": "8f0764e4",
   "metadata": {},
   "outputs": [
    {
     "name": "stdout",
     "output_type": "stream",
     "text": [
      "혈청지피티(ALT) 이상치 개수: 0\n",
      "0 5000\n",
      "Empty DataFrame\n",
      "Columns: [혈청지피티(ALT)]\n",
      "Index: []\n"
     ]
    }
   ],
   "source": [
    "# 아래 기준은 정상 범주가 아니라, 생리학적으로 가능하다고 판단되는 범주로 설정\n",
    "\n",
    "col = '혈청지피티(ALT)'\n",
    "lower_bound = 0\n",
    "upper_bound = 5000\n",
    "\n",
    "outliers = df[(df[col] < lower_bound) | (df[col] > upper_bound)]\n",
    "print(f\"{col} 이상치 개수:\", len(outliers))\n",
    "print(lower_bound, upper_bound)\n",
    "print(outliers[[col]])"
   ]
  },
  {
   "cell_type": "code",
   "execution_count": 33,
   "id": "8285e877",
   "metadata": {},
   "outputs": [
    {
     "name": "stdout",
     "output_type": "stream",
     "text": [
      "혈청크레아티닌 이상치 개수: 4\n",
      "0 20\n",
      "        혈청크레아티닌\n",
      "20824      60.0\n",
      "145800     38.0\n",
      "198319     22.8\n",
      "221852     25.0\n"
     ]
    }
   ],
   "source": [
    "# 아래 기준은 정상 범주가 아니라, 생리학적으로 가능하다고 판단되는 범주로 설정\n",
    "\n",
    "col = '혈청크레아티닌'\n",
    "lower_bound = 0\n",
    "upper_bound = 20\n",
    "\n",
    "outliers = df[(df[col] < lower_bound) | (df[col] > upper_bound)]\n",
    "print(f\"{col} 이상치 개수:\", len(outliers))\n",
    "print(lower_bound, upper_bound)\n",
    "print(outliers[[col]])"
   ]
  },
  {
   "cell_type": "code",
   "execution_count": 34,
   "id": "237a6d72",
   "metadata": {},
   "outputs": [],
   "source": [
    "# 임상적 범주로 탐지된 수축기혈압 이상치 삭제\n",
    "df = df[(df[col] >= lower_bound) & (df[col] <= upper_bound)]"
   ]
  },
  {
   "cell_type": "code",
   "execution_count": 35,
   "id": "75020214",
   "metadata": {},
   "outputs": [
    {
     "name": "stdout",
     "output_type": "stream",
     "text": [
      "HDL콜레스테롤 이상치 개수: 9\n",
      "0 300\n",
      "        HDL콜레스테롤\n",
      "6155       733.0\n",
      "31183      468.0\n",
      "170174     380.0\n",
      "198792     337.0\n",
      "225674     716.0\n",
      "267332     376.0\n",
      "278524     468.0\n",
      "282928     561.0\n",
      "285506     676.0\n"
     ]
    }
   ],
   "source": [
    "# 아래 기준은 정상 범주가 아니라, 생리학적으로 가능하다고 판단되는 범주로 설정\n",
    "\n",
    "col = 'HDL콜레스테롤'\n",
    "lower_bound = 0\n",
    "upper_bound = 300\n",
    "\n",
    "outliers = df[(df[col] < lower_bound) | (df[col] > upper_bound)]\n",
    "print(f\"{col} 이상치 개수:\", len(outliers))\n",
    "print(lower_bound, upper_bound)\n",
    "print(outliers[[col]])"
   ]
  },
  {
   "cell_type": "code",
   "execution_count": 36,
   "id": "8b4a3339",
   "metadata": {},
   "outputs": [],
   "source": [
    "# 임상적 범주로 탐지된 수축기혈압 이상치 삭제\n",
    "df = df[(df[col] >= lower_bound) & (df[col] <= upper_bound)]"
   ]
  },
  {
   "cell_type": "code",
   "execution_count": 37,
   "id": "cc31bca1",
   "metadata": {},
   "outputs": [
    {
     "name": "stdout",
     "output_type": "stream",
     "text": [
      "LDL콜레스테롤 이상치 개수: 3\n",
      "0 600\n",
      "        LDL콜레스테롤\n",
      "63359      928.0\n",
      "216732    1170.0\n",
      "250517    1440.0\n"
     ]
    }
   ],
   "source": [
    "# 아래 기준은 정상 범주가 아니라, 생리학적으로 가능하다고 판단되는 범주로 설정\n",
    "\n",
    "col = 'LDL콜레스테롤'\n",
    "lower_bound = 0\n",
    "upper_bound = 600\n",
    "\n",
    "outliers = df[(df[col] < lower_bound) | (df[col] > upper_bound)]\n",
    "print(f\"{col} 이상치 개수:\", len(outliers))\n",
    "print(lower_bound, upper_bound)\n",
    "print(outliers[[col]])"
   ]
  },
  {
   "cell_type": "code",
   "execution_count": 38,
   "id": "81689e05",
   "metadata": {},
   "outputs": [],
   "source": [
    "# 임상적 범주로 탐지된 수축기혈압 이상치 삭제\n",
    "df = df[(df[col] >= lower_bound) & (df[col] <= upper_bound)]"
   ]
  },
  {
   "cell_type": "markdown",
   "id": "9ff35b81",
   "metadata": {},
   "source": [
    "## 이상치 처리 방식 ##\n",
    "\n",
    "1. 의료 데이터셋에서 가장 많이 사용하는 IQR 방식으로 이상치를 처리해보려 하였으나, 본 데이터셋에 적용시키게 되면 정상 범주들의 데이터들이 다수 이상치로 판단되는 오류가 있음\n",
    "2. 극단적인 값들 또한 분석/예측하는 데에 의미가 있는 데이터라고 판단하여 임상적으로 가능한 값들을 각 컬럼별로 정의하여 이상치 제거 (데이터셋도 최대한 보존 가능)"
   ]
  },
  {
   "cell_type": "code",
   "execution_count": 39,
   "id": "33f4e368",
   "metadata": {},
   "outputs": [],
   "source": [
    "# 이상치 제거 후 최종 데이터셋 저장\n",
    "df.to_csv('data/health_2023_cleaned_final.csv', index=False)"
   ]
  }
 ],
 "metadata": {
  "kernelspec": {
   "display_name": "cholesterol-prediction-nhis",
   "language": "python",
   "name": "python3"
  },
  "language_info": {
   "codemirror_mode": {
    "name": "ipython",
    "version": 3
   },
   "file_extension": ".py",
   "mimetype": "text/x-python",
   "name": "python",
   "nbconvert_exporter": "python",
   "pygments_lexer": "ipython3",
   "version": "3.10.13"
  }
 },
 "nbformat": 4,
 "nbformat_minor": 5
}
