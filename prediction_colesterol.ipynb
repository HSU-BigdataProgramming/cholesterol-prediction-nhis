{
 "cells": [
  {
   "cell_type": "code",
   "execution_count": null,
   "metadata": {},
   "outputs": [],
   "source": [
    "# 콜레스테롤 예측 모델(실패)\n"
   ]
  },
  {
   "cell_type": "code",
   "execution_count": 2,
   "metadata": {},
   "outputs": [],
   "source": [
    "import tensorflow as tf\n",
    "from sklearn.preprocessing import StandardScaler\n",
    "from sklearn.model_selection import train_test_split\n",
    "from sklearn.metrics import r2_score\n",
    "import pandas as pd"
   ]
  },
  {
   "cell_type": "code",
   "execution_count": 3,
   "metadata": {},
   "outputs": [],
   "source": [
    "# 1. CSV 파일 불러오기\n",
    "file_path = \"./data/health_2023_cleaned_final.csv\"\n",
    "df = pd.read_csv(file_path, encoding='utf-8', sep=',')"
   ]
  },
  {
   "cell_type": "code",
   "execution_count": 4,
   "metadata": {},
   "outputs": [],
   "source": [
    "df = pd.read_csv('./data/health_2023_cleaned_final.csv', encoding='utf-8')\n",
    "df = df[['성별코드', '연령대코드(5세단위)', '신장(5cm단위)', '체중(5kg단위)', '허리둘레', '총콜레스테롤']].dropna()"
   ]
  },
  {
   "cell_type": "code",
   "execution_count": 5,
   "metadata": {},
   "outputs": [],
   "source": [
    "X = df.drop(columns='총콜레스테롤').values\n",
    "y = df['총콜레스테롤'].values"
   ]
  },
  {
   "cell_type": "code",
   "execution_count": 6,
   "metadata": {},
   "outputs": [],
   "source": [
    "scaler = StandardScaler()\n",
    "X_scaled = scaler.fit_transform(X)\n",
    "X_scaled = X_scaled.reshape(X_scaled.shape[0], X_scaled.shape[1], 1)  # (샘플 수, 타임스텝, 채널)"
   ]
  },
  {
   "cell_type": "code",
   "execution_count": 7,
   "metadata": {},
   "outputs": [],
   "source": [
    "X_train, X_test, y_train, y_test = train_test_split(X_scaled, y, test_size=0.2, random_state=42)"
   ]
  },
  {
   "cell_type": "code",
   "execution_count": 8,
   "metadata": {},
   "outputs": [
    {
     "name": "stdout",
     "output_type": "stream",
     "text": [
      "Epoch 1/50\n"
     ]
    },
    {
     "name": "stderr",
     "output_type": "stream",
     "text": [
      "c:\\ProgramData\\Anaconda3\\envs\\myenv\\lib\\site-packages\\keras\\src\\layers\\core\\dense.py:93: UserWarning: Do not pass an `input_shape`/`input_dim` argument to a layer. When using Sequential models, prefer using an `Input(shape)` object as the first layer in the model instead.\n",
      "  super().__init__(activity_regularizer=activity_regularizer, **kwargs)\n"
     ]
    },
    {
     "name": "stdout",
     "output_type": "stream",
     "text": [
      "\u001b[1m6655/6655\u001b[0m \u001b[32m━━━━━━━━━━━━━━━━━━━━\u001b[0m\u001b[37m\u001b[0m \u001b[1m8s\u001b[0m 1ms/step - loss: 5625.1455 - mae: 52.2357 - val_loss: 1595.0479 - val_mae: 31.6432\n",
      "Epoch 2/50\n",
      "\u001b[1m6655/6655\u001b[0m \u001b[32m━━━━━━━━━━━━━━━━━━━━\u001b[0m\u001b[37m\u001b[0m \u001b[1m7s\u001b[0m 1ms/step - loss: 1614.5825 - mae: 31.7948 - val_loss: 1593.6940 - val_mae: 31.5454\n",
      "Epoch 3/50\n",
      "\u001b[1m6655/6655\u001b[0m \u001b[32m━━━━━━━━━━━━━━━━━━━━\u001b[0m\u001b[37m\u001b[0m \u001b[1m7s\u001b[0m 1ms/step - loss: 1628.2878 - mae: 31.8652 - val_loss: 1593.4636 - val_mae: 31.5175\n",
      "Epoch 4/50\n",
      "\u001b[1m6655/6655\u001b[0m \u001b[32m━━━━━━━━━━━━━━━━━━━━\u001b[0m\u001b[37m\u001b[0m \u001b[1m7s\u001b[0m 1ms/step - loss: 1619.5558 - mae: 31.8335 - val_loss: 1601.0637 - val_mae: 31.7676\n",
      "Epoch 5/50\n",
      "\u001b[1m6655/6655\u001b[0m \u001b[32m━━━━━━━━━━━━━━━━━━━━\u001b[0m\u001b[37m\u001b[0m \u001b[1m7s\u001b[0m 997us/step - loss: 1624.2306 - mae: 31.8796 - val_loss: 1597.1317 - val_mae: 31.5990\n",
      "Epoch 6/50\n",
      "\u001b[1m6655/6655\u001b[0m \u001b[32m━━━━━━━━━━━━━━━━━━━━\u001b[0m\u001b[37m\u001b[0m \u001b[1m7s\u001b[0m 989us/step - loss: 1611.6372 - mae: 31.6977 - val_loss: 1595.4619 - val_mae: 31.6657\n",
      "Epoch 7/50\n",
      "\u001b[1m6655/6655\u001b[0m \u001b[32m━━━━━━━━━━━━━━━━━━━━\u001b[0m\u001b[37m\u001b[0m \u001b[1m7s\u001b[0m 1ms/step - loss: 1623.4242 - mae: 31.8170 - val_loss: 1638.6364 - val_mae: 32.1706\n",
      "Epoch 8/50\n",
      "\u001b[1m6655/6655\u001b[0m \u001b[32m━━━━━━━━━━━━━━━━━━━━\u001b[0m\u001b[37m\u001b[0m \u001b[1m7s\u001b[0m 1ms/step - loss: 1615.6569 - mae: 31.8011 - val_loss: 1592.4857 - val_mae: 31.5811\n",
      "Epoch 9/50\n",
      "\u001b[1m6655/6655\u001b[0m \u001b[32m━━━━━━━━━━━━━━━━━━━━\u001b[0m\u001b[37m\u001b[0m \u001b[1m7s\u001b[0m 1ms/step - loss: 1607.6398 - mae: 31.7131 - val_loss: 1633.0894 - val_mae: 31.7414\n",
      "Epoch 10/50\n",
      "\u001b[1m6655/6655\u001b[0m \u001b[32m━━━━━━━━━━━━━━━━━━━━\u001b[0m\u001b[37m\u001b[0m \u001b[1m7s\u001b[0m 1ms/step - loss: 1608.1536 - mae: 31.7215 - val_loss: 1589.9893 - val_mae: 31.5374\n",
      "Epoch 11/50\n",
      "\u001b[1m6655/6655\u001b[0m \u001b[32m━━━━━━━━━━━━━━━━━━━━\u001b[0m\u001b[37m\u001b[0m \u001b[1m7s\u001b[0m 1ms/step - loss: 1616.3958 - mae: 31.8062 - val_loss: 1594.5793 - val_mae: 31.5614\n",
      "Epoch 12/50\n",
      "\u001b[1m6655/6655\u001b[0m \u001b[32m━━━━━━━━━━━━━━━━━━━━\u001b[0m\u001b[37m\u001b[0m \u001b[1m7s\u001b[0m 1ms/step - loss: 1620.6062 - mae: 31.8564 - val_loss: 1595.7434 - val_mae: 31.5942\n",
      "Epoch 13/50\n",
      "\u001b[1m6655/6655\u001b[0m \u001b[32m━━━━━━━━━━━━━━━━━━━━\u001b[0m\u001b[37m\u001b[0m \u001b[1m7s\u001b[0m 1ms/step - loss: 1603.5166 - mae: 31.6557 - val_loss: 1594.0579 - val_mae: 31.5167\n",
      "Epoch 14/50\n",
      "\u001b[1m6655/6655\u001b[0m \u001b[32m━━━━━━━━━━━━━━━━━━━━\u001b[0m\u001b[37m\u001b[0m \u001b[1m7s\u001b[0m 989us/step - loss: 1609.3622 - mae: 31.7249 - val_loss: 1597.2142 - val_mae: 31.5715\n",
      "Epoch 15/50\n",
      "\u001b[1m6655/6655\u001b[0m \u001b[32m━━━━━━━━━━━━━━━━━━━━\u001b[0m\u001b[37m\u001b[0m \u001b[1m7s\u001b[0m 1ms/step - loss: 1611.4948 - mae: 31.7386 - val_loss: 1623.6948 - val_mae: 32.0840\n",
      "Epoch 16/50\n",
      "\u001b[1m6655/6655\u001b[0m \u001b[32m━━━━━━━━━━━━━━━━━━━━\u001b[0m\u001b[37m\u001b[0m \u001b[1m7s\u001b[0m 1ms/step - loss: 1610.3075 - mae: 31.7125 - val_loss: 1595.1615 - val_mae: 31.6627\n",
      "Epoch 17/50\n",
      "\u001b[1m6655/6655\u001b[0m \u001b[32m━━━━━━━━━━━━━━━━━━━━\u001b[0m\u001b[37m\u001b[0m \u001b[1m7s\u001b[0m 1ms/step - loss: 1607.2710 - mae: 31.6597 - val_loss: 1597.2734 - val_mae: 31.6298\n",
      "Epoch 18/50\n",
      "\u001b[1m6655/6655\u001b[0m \u001b[32m━━━━━━━━━━━━━━━━━━━━\u001b[0m\u001b[37m\u001b[0m \u001b[1m7s\u001b[0m 1ms/step - loss: 1605.9031 - mae: 31.7031 - val_loss: 1593.9503 - val_mae: 31.5304\n",
      "Epoch 19/50\n",
      "\u001b[1m6655/6655\u001b[0m \u001b[32m━━━━━━━━━━━━━━━━━━━━\u001b[0m\u001b[37m\u001b[0m \u001b[1m7s\u001b[0m 1ms/step - loss: 1606.7605 - mae: 31.7112 - val_loss: 1595.4574 - val_mae: 31.5749\n",
      "Epoch 20/50\n",
      "\u001b[1m6655/6655\u001b[0m \u001b[32m━━━━━━━━━━━━━━━━━━━━\u001b[0m\u001b[37m\u001b[0m \u001b[1m7s\u001b[0m 1ms/step - loss: 1614.9219 - mae: 31.7900 - val_loss: 1611.1637 - val_mae: 31.8735\n",
      "Epoch 21/50\n",
      "\u001b[1m6655/6655\u001b[0m \u001b[32m━━━━━━━━━━━━━━━━━━━━\u001b[0m\u001b[37m\u001b[0m \u001b[1m7s\u001b[0m 1ms/step - loss: 1619.8765 - mae: 31.8156 - val_loss: 1594.8438 - val_mae: 31.5052\n",
      "Epoch 22/50\n",
      "\u001b[1m6655/6655\u001b[0m \u001b[32m━━━━━━━━━━━━━━━━━━━━\u001b[0m\u001b[37m\u001b[0m \u001b[1m7s\u001b[0m 1ms/step - loss: 1612.4889 - mae: 31.7684 - val_loss: 1603.2928 - val_mae: 31.5697\n",
      "Epoch 23/50\n",
      "\u001b[1m6655/6655\u001b[0m \u001b[32m━━━━━━━━━━━━━━━━━━━━\u001b[0m\u001b[37m\u001b[0m \u001b[1m7s\u001b[0m 1ms/step - loss: 1611.1843 - mae: 31.7067 - val_loss: 1596.3000 - val_mae: 31.5207\n",
      "Epoch 24/50\n",
      "\u001b[1m6655/6655\u001b[0m \u001b[32m━━━━━━━━━━━━━━━━━━━━\u001b[0m\u001b[37m\u001b[0m \u001b[1m7s\u001b[0m 1ms/step - loss: 1619.8190 - mae: 31.8304 - val_loss: 1598.7052 - val_mae: 31.5623\n",
      "Epoch 25/50\n",
      "\u001b[1m6655/6655\u001b[0m \u001b[32m━━━━━━━━━━━━━━━━━━━━\u001b[0m\u001b[37m\u001b[0m \u001b[1m7s\u001b[0m 1ms/step - loss: 1623.2441 - mae: 31.8740 - val_loss: 1616.2953 - val_mae: 31.6015\n",
      "Epoch 26/50\n",
      "\u001b[1m6655/6655\u001b[0m \u001b[32m━━━━━━━━━━━━━━━━━━━━\u001b[0m\u001b[37m\u001b[0m \u001b[1m7s\u001b[0m 1ms/step - loss: 1605.1024 - mae: 31.6767 - val_loss: 1594.9287 - val_mae: 31.6455\n",
      "Epoch 27/50\n",
      "\u001b[1m6655/6655\u001b[0m \u001b[32m━━━━━━━━━━━━━━━━━━━━\u001b[0m\u001b[37m\u001b[0m \u001b[1m7s\u001b[0m 1ms/step - loss: 1609.5518 - mae: 31.7413 - val_loss: 1602.0563 - val_mae: 31.7086\n",
      "Epoch 28/50\n",
      "\u001b[1m6655/6655\u001b[0m \u001b[32m━━━━━━━━━━━━━━━━━━━━\u001b[0m\u001b[37m\u001b[0m \u001b[1m7s\u001b[0m 1ms/step - loss: 1601.6447 - mae: 31.6506 - val_loss: 1595.0725 - val_mae: 31.6506\n",
      "Epoch 29/50\n",
      "\u001b[1m6655/6655\u001b[0m \u001b[32m━━━━━━━━━━━━━━━━━━━━\u001b[0m\u001b[37m\u001b[0m \u001b[1m7s\u001b[0m 1ms/step - loss: 1616.3772 - mae: 31.7764 - val_loss: 1609.1549 - val_mae: 31.8351\n",
      "Epoch 30/50\n",
      "\u001b[1m6655/6655\u001b[0m \u001b[32m━━━━━━━━━━━━━━━━━━━━\u001b[0m\u001b[37m\u001b[0m \u001b[1m7s\u001b[0m 1ms/step - loss: 1606.5695 - mae: 31.7027 - val_loss: 1604.1193 - val_mae: 31.7312\n",
      "Epoch 31/50\n",
      "\u001b[1m6655/6655\u001b[0m \u001b[32m━━━━━━━━━━━━━━━━━━━━\u001b[0m\u001b[37m\u001b[0m \u001b[1m7s\u001b[0m 1ms/step - loss: 1614.0493 - mae: 31.7659 - val_loss: 1596.0095 - val_mae: 31.5142\n",
      "Epoch 32/50\n",
      "\u001b[1m6655/6655\u001b[0m \u001b[32m━━━━━━━━━━━━━━━━━━━━\u001b[0m\u001b[37m\u001b[0m \u001b[1m7s\u001b[0m 1ms/step - loss: 1613.2053 - mae: 31.6859 - val_loss: 1598.1128 - val_mae: 31.6796\n",
      "Epoch 33/50\n",
      "\u001b[1m6655/6655\u001b[0m \u001b[32m━━━━━━━━━━━━━━━━━━━━\u001b[0m\u001b[37m\u001b[0m \u001b[1m7s\u001b[0m 1ms/step - loss: 1611.3771 - mae: 31.7417 - val_loss: 1593.7036 - val_mae: 31.5756\n",
      "Epoch 34/50\n",
      "\u001b[1m6655/6655\u001b[0m \u001b[32m━━━━━━━━━━━━━━━━━━━━\u001b[0m\u001b[37m\u001b[0m \u001b[1m7s\u001b[0m 1ms/step - loss: 1605.0410 - mae: 31.6521 - val_loss: 1590.9867 - val_mae: 31.5102\n",
      "Epoch 35/50\n",
      "\u001b[1m6655/6655\u001b[0m \u001b[32m━━━━━━━━━━━━━━━━━━━━\u001b[0m\u001b[37m\u001b[0m \u001b[1m7s\u001b[0m 1ms/step - loss: 1614.2621 - mae: 31.8007 - val_loss: 1596.0270 - val_mae: 31.5065\n",
      "Epoch 36/50\n",
      "\u001b[1m6655/6655\u001b[0m \u001b[32m━━━━━━━━━━━━━━━━━━━━\u001b[0m\u001b[37m\u001b[0m \u001b[1m7s\u001b[0m 1ms/step - loss: 1602.9055 - mae: 31.6744 - val_loss: 1599.3907 - val_mae: 31.6249\n",
      "Epoch 37/50\n",
      "\u001b[1m6655/6655\u001b[0m \u001b[32m━━━━━━━━━━━━━━━━━━━━\u001b[0m\u001b[37m\u001b[0m \u001b[1m7s\u001b[0m 1ms/step - loss: 1609.1115 - mae: 31.7067 - val_loss: 1591.8846 - val_mae: 31.5029\n",
      "Epoch 38/50\n",
      "\u001b[1m6655/6655\u001b[0m \u001b[32m━━━━━━━━━━━━━━━━━━━━\u001b[0m\u001b[37m\u001b[0m \u001b[1m7s\u001b[0m 1ms/step - loss: 1605.8414 - mae: 31.6796 - val_loss: 1596.2528 - val_mae: 31.6307\n",
      "Epoch 39/50\n",
      "\u001b[1m6655/6655\u001b[0m \u001b[32m━━━━━━━━━━━━━━━━━━━━\u001b[0m\u001b[37m\u001b[0m \u001b[1m7s\u001b[0m 1ms/step - loss: 1602.2240 - mae: 31.6591 - val_loss: 1591.3694 - val_mae: 31.5539\n",
      "Epoch 40/50\n",
      "\u001b[1m6655/6655\u001b[0m \u001b[32m━━━━━━━━━━━━━━━━━━━━\u001b[0m\u001b[37m\u001b[0m \u001b[1m7s\u001b[0m 1ms/step - loss: 1613.3989 - mae: 31.7548 - val_loss: 1616.3085 - val_mae: 31.6568\n",
      "Epoch 41/50\n",
      "\u001b[1m6655/6655\u001b[0m \u001b[32m━━━━━━━━━━━━━━━━━━━━\u001b[0m\u001b[37m\u001b[0m \u001b[1m7s\u001b[0m 1ms/step - loss: 1610.9789 - mae: 31.7398 - val_loss: 1595.7655 - val_mae: 31.5622\n",
      "Epoch 42/50\n",
      "\u001b[1m6655/6655\u001b[0m \u001b[32m━━━━━━━━━━━━━━━━━━━━\u001b[0m\u001b[37m\u001b[0m \u001b[1m7s\u001b[0m 989us/step - loss: 1607.5811 - mae: 31.7059 - val_loss: 1619.5237 - val_mae: 31.6172\n",
      "Epoch 43/50\n",
      "\u001b[1m6655/6655\u001b[0m \u001b[32m━━━━━━━━━━━━━━━━━━━━\u001b[0m\u001b[37m\u001b[0m \u001b[1m6s\u001b[0m 964us/step - loss: 1614.9733 - mae: 31.7995 - val_loss: 1592.9169 - val_mae: 31.5524\n",
      "Epoch 44/50\n",
      "\u001b[1m6655/6655\u001b[0m \u001b[32m━━━━━━━━━━━━━━━━━━━━\u001b[0m\u001b[37m\u001b[0m \u001b[1m7s\u001b[0m 981us/step - loss: 1614.2256 - mae: 31.7746 - val_loss: 1592.8929 - val_mae: 31.5593\n",
      "Epoch 45/50\n",
      "\u001b[1m6655/6655\u001b[0m \u001b[32m━━━━━━━━━━━━━━━━━━━━\u001b[0m\u001b[37m\u001b[0m \u001b[1m7s\u001b[0m 976us/step - loss: 1611.0933 - mae: 31.7584 - val_loss: 1599.9131 - val_mae: 31.7330\n",
      "Epoch 46/50\n",
      "\u001b[1m6655/6655\u001b[0m \u001b[32m━━━━━━━━━━━━━━━━━━━━\u001b[0m\u001b[37m\u001b[0m \u001b[1m7s\u001b[0m 998us/step - loss: 1609.7438 - mae: 31.7323 - val_loss: 1592.9053 - val_mae: 31.5984\n",
      "Epoch 47/50\n",
      "\u001b[1m6655/6655\u001b[0m \u001b[32m━━━━━━━━━━━━━━━━━━━━\u001b[0m\u001b[37m\u001b[0m \u001b[1m7s\u001b[0m 1ms/step - loss: 1611.4567 - mae: 31.7598 - val_loss: 1600.8949 - val_mae: 31.5333\n",
      "Epoch 48/50\n",
      "\u001b[1m6655/6655\u001b[0m \u001b[32m━━━━━━━━━━━━━━━━━━━━\u001b[0m\u001b[37m\u001b[0m \u001b[1m7s\u001b[0m 1ms/step - loss: 1602.6719 - mae: 31.6510 - val_loss: 1594.7234 - val_mae: 31.5958\n",
      "Epoch 49/50\n",
      "\u001b[1m6655/6655\u001b[0m \u001b[32m━━━━━━━━━━━━━━━━━━━━\u001b[0m\u001b[37m\u001b[0m \u001b[1m7s\u001b[0m 1ms/step - loss: 1601.0057 - mae: 31.6371 - val_loss: 1601.6959 - val_mae: 31.5693\n",
      "Epoch 50/50\n",
      "\u001b[1m6655/6655\u001b[0m \u001b[32m━━━━━━━━━━━━━━━━━━━━\u001b[0m\u001b[37m\u001b[0m \u001b[1m7s\u001b[0m 996us/step - loss: 1609.8817 - mae: 31.7140 - val_loss: 1592.0182 - val_mae: 31.5130\n"
     ]
    }
   ],
   "source": [
    "# 4. MLP 모델 정의\n",
    "model = tf.keras.Sequential([\n",
    "    tf.keras.layers.Dense(64, activation='relu', input_shape=(X_train.shape[1],)),\n",
    "    tf.keras.layers.Dense(64, activation='relu'),\n",
    "    tf.keras.layers.Dense(1)  # 회귀 출력\n",
    "])\n",
    "\n",
    "model.compile(optimizer='adam', loss='mse', metrics=['mae'])\n",
    "\n",
    "# 5. 학습\n",
    "history = model.fit(X_train, y_train, validation_split=0.2, epochs=50, batch_size=32, verbose=1)"
   ]
  },
  {
   "cell_type": "code",
   "execution_count": 9,
   "metadata": {},
   "outputs": [
    {
     "name": "stdout",
     "output_type": "stream",
     "text": [
      "\u001b[1m2080/2080\u001b[0m \u001b[32m━━━━━━━━━━━━━━━━━━━━\u001b[0m\u001b[37m\u001b[0m \u001b[1m1s\u001b[0m 511us/step\n",
      "📊 MLP 회귀 모델 성능 평가\n",
      "MAE  (평균 절대 오차): 31.66\n",
      "MSE  (평균 제곱 오차): 1595.86\n",
      "RMSE (평균 제곱근 오차): 39.95\n",
      "R²   (설명력): 0.0943\n"
     ]
    },
    {
     "name": "stderr",
     "output_type": "stream",
     "text": [
      "C:\\Users\\user\\AppData\\Local\\Temp\\ipykernel_27200\\4085631341.py:28: UserWarning: Glyph 49892 (\\N{HANGUL SYLLABLE SIL}) missing from font(s) DejaVu Sans.\n",
      "  plt.tight_layout()\n",
      "C:\\Users\\user\\AppData\\Local\\Temp\\ipykernel_27200\\4085631341.py:28: UserWarning: Glyph 51228 (\\N{HANGUL SYLLABLE JE}) missing from font(s) DejaVu Sans.\n",
      "  plt.tight_layout()\n",
      "C:\\Users\\user\\AppData\\Local\\Temp\\ipykernel_27200\\4085631341.py:28: UserWarning: Glyph 44050 (\\N{HANGUL SYLLABLE GABS}) missing from font(s) DejaVu Sans.\n",
      "  plt.tight_layout()\n",
      "C:\\Users\\user\\AppData\\Local\\Temp\\ipykernel_27200\\4085631341.py:28: UserWarning: Glyph 50696 (\\N{HANGUL SYLLABLE YE}) missing from font(s) DejaVu Sans.\n",
      "  plt.tight_layout()\n",
      "C:\\Users\\user\\AppData\\Local\\Temp\\ipykernel_27200\\4085631341.py:28: UserWarning: Glyph 52769 (\\N{HANGUL SYLLABLE CEUG}) missing from font(s) DejaVu Sans.\n",
      "  plt.tight_layout()\n",
      "C:\\Users\\user\\AppData\\Local\\Temp\\ipykernel_27200\\4085631341.py:28: UserWarning: Glyph 54924 (\\N{HANGUL SYLLABLE HOE}) missing from font(s) DejaVu Sans.\n",
      "  plt.tight_layout()\n",
      "C:\\Users\\user\\AppData\\Local\\Temp\\ipykernel_27200\\4085631341.py:28: UserWarning: Glyph 44480 (\\N{HANGUL SYLLABLE GWI}) missing from font(s) DejaVu Sans.\n",
      "  plt.tight_layout()\n",
      "C:\\Users\\user\\AppData\\Local\\Temp\\ipykernel_27200\\4085631341.py:28: UserWarning: Glyph 44208 (\\N{HANGUL SYLLABLE GYEOL}) missing from font(s) DejaVu Sans.\n",
      "  plt.tight_layout()\n",
      "C:\\Users\\user\\AppData\\Local\\Temp\\ipykernel_27200\\4085631341.py:28: UserWarning: Glyph 44284 (\\N{HANGUL SYLLABLE GWA}) missing from font(s) DejaVu Sans.\n",
      "  plt.tight_layout()\n",
      "c:\\ProgramData\\Anaconda3\\envs\\myenv\\lib\\site-packages\\IPython\\core\\pylabtools.py:170: UserWarning: Glyph 50696 (\\N{HANGUL SYLLABLE YE}) missing from font(s) DejaVu Sans.\n",
      "  fig.canvas.print_figure(bytes_io, **kw)\n",
      "c:\\ProgramData\\Anaconda3\\envs\\myenv\\lib\\site-packages\\IPython\\core\\pylabtools.py:170: UserWarning: Glyph 52769 (\\N{HANGUL SYLLABLE CEUG}) missing from font(s) DejaVu Sans.\n",
      "  fig.canvas.print_figure(bytes_io, **kw)\n",
      "c:\\ProgramData\\Anaconda3\\envs\\myenv\\lib\\site-packages\\IPython\\core\\pylabtools.py:170: UserWarning: Glyph 44050 (\\N{HANGUL SYLLABLE GABS}) missing from font(s) DejaVu Sans.\n",
      "  fig.canvas.print_figure(bytes_io, **kw)\n",
      "c:\\ProgramData\\Anaconda3\\envs\\myenv\\lib\\site-packages\\IPython\\core\\pylabtools.py:170: UserWarning: Glyph 49892 (\\N{HANGUL SYLLABLE SIL}) missing from font(s) DejaVu Sans.\n",
      "  fig.canvas.print_figure(bytes_io, **kw)\n",
      "c:\\ProgramData\\Anaconda3\\envs\\myenv\\lib\\site-packages\\IPython\\core\\pylabtools.py:170: UserWarning: Glyph 51228 (\\N{HANGUL SYLLABLE JE}) missing from font(s) DejaVu Sans.\n",
      "  fig.canvas.print_figure(bytes_io, **kw)\n",
      "c:\\ProgramData\\Anaconda3\\envs\\myenv\\lib\\site-packages\\IPython\\core\\pylabtools.py:170: UserWarning: Glyph 54924 (\\N{HANGUL SYLLABLE HOE}) missing from font(s) DejaVu Sans.\n",
      "  fig.canvas.print_figure(bytes_io, **kw)\n",
      "c:\\ProgramData\\Anaconda3\\envs\\myenv\\lib\\site-packages\\IPython\\core\\pylabtools.py:170: UserWarning: Glyph 44480 (\\N{HANGUL SYLLABLE GWI}) missing from font(s) DejaVu Sans.\n",
      "  fig.canvas.print_figure(bytes_io, **kw)\n",
      "c:\\ProgramData\\Anaconda3\\envs\\myenv\\lib\\site-packages\\IPython\\core\\pylabtools.py:170: UserWarning: Glyph 44208 (\\N{HANGUL SYLLABLE GYEOL}) missing from font(s) DejaVu Sans.\n",
      "  fig.canvas.print_figure(bytes_io, **kw)\n",
      "c:\\ProgramData\\Anaconda3\\envs\\myenv\\lib\\site-packages\\IPython\\core\\pylabtools.py:170: UserWarning: Glyph 44284 (\\N{HANGUL SYLLABLE GWA}) missing from font(s) DejaVu Sans.\n",
      "  fig.canvas.print_figure(bytes_io, **kw)\n"
     ]
    },
    {
     "data": {
      "image/png": "[encoded data removed]",
      "text/plain": [
       "<Figure size 800x600 with 1 Axes>"
      ]
     },
     "metadata": {},
     "output_type": "display_data"
    }
   ],
   "source": [
    "import numpy as np\n",
    "from sklearn.metrics import mean_absolute_error, mean_squared_error, r2_score\n",
    "import matplotlib.pyplot as plt\n",
    "\n",
    "# 1. 예측\n",
    "y_pred = model.predict(X_test)\n",
    "\n",
    "# 2. 평가 지표 계산\n",
    "mae = mean_absolute_error(y_test, y_pred)\n",
    "mse = mean_squared_error(y_test, y_pred)\n",
    "rmse = np.sqrt(mse)\n",
    "r2 = r2_score(y_test, y_pred)\n",
    "\n",
    "print(f\"📊 MLP 회귀 모델 성능 평가\")\n",
    "print(f\"MAE  (평균 절대 오차): {mae:.2f}\")\n",
    "print(f\"MSE  (평균 제곱 오차): {mse:.2f}\")\n",
    "print(f\"RMSE (평균 제곱근 오차): {rmse:.2f}\")\n",
    "print(f\"R²   (설명력): {r2:.4f}\")\n",
    "\n",
    "# 3. 예측 결과 시각화\n",
    "plt.figure(figsize=(8, 6))\n",
    "plt.scatter(y_test, y_pred, alpha=0.3)\n",
    "plt.xlabel(\"실제 값 (y_test)\")\n",
    "plt.ylabel(\"예측 값 (y_pred)\")\n",
    "plt.title(\"실제 값 vs 예측 값 (회귀 결과)\")\n",
    "plt.plot([y_test.min(), y_test.max()], [y_test.min(), y_test.max()], 'r--')  # 기준선\n",
    "plt.grid(True)\n",
    "plt.tight_layout()\n",
    "plt.show()\n"
   ]
  },
  {
   "cell_type": "code",
   "execution_count": 10,
   "metadata": {},
   "outputs": [
    {
     "name": "stdout",
     "output_type": "stream",
     "text": [
      "[HDL콜레스테롤 예측 결과 - XGBoost]\n",
      "R²: 0.2078\n"
     ]
    }
   ],
   "source": [
    "import pandas as pd\n",
    "import numpy as np\n",
    "from sklearn.model_selection import train_test_split\n",
    "from sklearn.preprocessing import StandardScaler\n",
    "from sklearn.metrics import r2_score, mean_squared_error\n",
    "from xgboost import XGBRegressor\n",
    "\n",
    "# 1. 데이터 불러오기\n",
    "df = pd.read_csv(\"./data/health_2023_cleaned_final.csv\")\n",
    "\n",
    "# 2. 파생 변수 생성\n",
    "df['BMI'] = (df['체중(5kg단위)'] + 2.5) / ((df['신장(5cm단위)'] + 2.5) / 100) ** 2\n",
    "df['허리신장비'] = df['허리둘레'] / (df['신장(5cm단위)'] + 2.5)\n",
    "\n",
    "# 3. 결측치 제거\n",
    "required_cols = [\n",
    "    '연령대코드(5세단위)', '성별코드', '신장(5cm단위)', '체중(5kg단위)', '허리둘레',\n",
    "    '흡연상태', '음주여부', '수축기혈압', '이완기혈압', '식전혈당(공복혈당)',\n",
    "    'BMI', '허리신장비', 'HDL콜레스테롤'\n",
    "]\n",
    "df = df.dropna(subset=required_cols)\n",
    "\n",
    "# 4. 입력 / 출력 정의\n",
    "X = df[[\n",
    "    '연령대코드(5세단위)', '성별코드', '신장(5cm단위)', '체중(5kg단위)', '허리둘레',\n",
    "    '흡연상태', '음주여부', '수축기혈압', '이완기혈압', '식전혈당(공복혈당)',\n",
    "    'BMI', '허리신장비'\n",
    "]]\n",
    "y = np.log1p(df['HDL콜레스테롤'])  # 로그 변환 적용\n",
    "\n",
    "# 5. 정규화\n",
    "scaler = StandardScaler()\n",
    "X_scaled = scaler.fit_transform(X)\n",
    "\n",
    "# 6. 학습/테스트 분리\n",
    "X_train, X_test, y_train, y_test = train_test_split(X_scaled, y, test_size=0.2, random_state=42)\n",
    "\n",
    "# 7. 모델 정의 및 학습\n",
    "model = XGBRegressor(n_estimators=200, max_depth=4, learning_rate=0.05, random_state=42)\n",
    "model.fit(X_train, y_train)\n",
    "\n",
    "# 8. 예측 및 성능 평가\n",
    "y_pred_log = model.predict(X_test)\n",
    "y_pred = np.expm1(y_pred_log)  # 로그 복원\n",
    "y_true = np.expm1(y_test)\n",
    "\n",
    "print(f\"[HDL콜레스테롤 예측 결과 - XGBoost]\")\n",
    "print(f\"R²: {r2_score(y_true, y_pred):.4f}\")\n"
   ]
  },
  {
   "cell_type": "code",
   "execution_count": 11,
   "metadata": {},
   "outputs": [
    {
     "name": "stdout",
     "output_type": "stream",
     "text": [
      "2.19.0\n",
      "['AggregationMethod', 'Assert', 'CriticalSection', 'DType', 'DeviceSpec', 'GradientTape', 'Graph', 'IndexedSlices', 'IndexedSlicesSpec', 'Module', 'Operation', 'OptionalSpec', 'RaggedTensor', 'RaggedTensorSpec', 'RegisterGradient', 'SparseTensor', 'SparseTensorSpec', 'Tensor', 'TensorArray', 'TensorArraySpec', 'TensorShape', 'TensorSpec', 'TypeSpec', 'UnconnectedGradients', 'Variable', 'VariableAggregation', 'VariableSynchronization', '_API_MODULE', '_KerasLazyLoader', '__all__', '__builtins__', '__cached__', '__compiler_version__', '__cxx11_abi_flag__', '__cxx_version__', '__doc__', '__file__', '__git_version__', '__internal__', '__loader__', '__monolithic_build__', '__name__', '__operators__', '__package__', '__path__', '__spec__', '__version__', '_api', '_compat', '_current_file_location', '_current_module', '_fi', '_initializers', '_inspect', '_kernel_dir', '_ll', '_losses', '_major_api_version', '_metrics', '_module_dir', '_module_util', '_name', '_names_with_underscore', '_optimizers', '_os', '_plugin_dir', '_pywrap_tensorflow', '_running_from_pip_package', '_s', '_scheme', '_site', '_site_packages_dirs', '_sys', '_sysconfig', '_tf2', '_tf_api_dir', '_tf_dir', '_tf_uses_legacy_keras', 'abs', 'acos', 'acosh', 'add', 'add_n', 'approx_top_k', 'argmax', 'argmin', 'argsort', 'as_dtype', 'as_string', 'asin', 'asinh', 'assert_equal', 'assert_greater', 'assert_less', 'assert_rank', 'atan', 'atan2', 'atanh', 'audio', 'autodiff', 'autograph', 'batch_to_space', 'bfloat16', 'bitcast', 'bitwise', 'bool', 'boolean_mask', 'broadcast_dynamic_shape', 'broadcast_static_shape', 'broadcast_to', 'case', 'cast', 'check_pinned', 'clip_by_global_norm', 'clip_by_norm', 'clip_by_value', 'compat', 'complex', 'complex128', 'complex64', 'concat', 'cond', 'config', 'constant', 'constant_initializer', 'control_dependencies', 'conv', 'conv2d_backprop_filter_v2', 'conv2d_backprop_input_v2', 'convert_to_tensor', 'cos', 'cosh', 'cumsum', 'custom_gradient', 'data', 'debugging', 'device', 'distribute', 'divide', 'double', 'dtensor', 'dtypes', 'dynamic_partition', 'dynamic_stitch', 'edit_distance', 'eig', 'eigvals', 'einsum', 'ensure_shape', 'equal', 'errors', 'executing_eagerly', 'exp', 'expand_dims', 'experimental', 'extract_volume_patches', 'eye', 'feature_column', 'fftnd', 'fill', 'fingerprint', 'float16', 'float32', 'float64', 'floor', 'foldl', 'foldr', 'function', 'gather', 'gather_nd', 'get_current_name_scope', 'get_logger', 'get_static_value', 'grad_pass_through', 'gradients', 'graph_util', 'greater', 'greater_equal', 'group', 'guarantee_const', 'half', 'hessians', 'histogram_fixed_width', 'histogram_fixed_width_bins', 'identity', 'identity_n', 'ifftnd', 'image', 'import_graph_def', 'init_scope', 'initializers', 'inside_function', 'int16', 'int32', 'int64', 'int8', 'io', 'irfftnd', 'is_symbolic_tensor', 'is_tensor', 'keras', 'less', 'less_equal', 'linalg', 'linspace', 'lite', 'load_library', 'load_op_library', 'logical_and', 'logical_not', 'logical_or', 'lookup', 'losses', 'make_ndarray', 'make_tensor_proto', 'map_fn', 'math', 'matmul', 'matrix_square_root', 'maximum', 'meshgrid', 'metrics', 'minimum', 'mlir', 'multiply', 'name_scope', 'negative', 'nest', 'newaxis', 'nn', 'no_gradient', 'no_op', 'nondifferentiable_batch_function', 'norm', 'not_equal', 'numpy_function', 'one_hot', 'ones', 'ones_initializer', 'ones_like', 'optimizers', 'pad', 'parallel_stack', 'pow', 'print', 'profiler', 'py_function', 'qint16', 'qint32', 'qint8', 'quantization', 'queue', 'quint16', 'quint8', 'ragged', 'ragged_fill_empty_rows', 'ragged_fill_empty_rows_grad', 'random', 'random_index_shuffle', 'random_normal_initializer', 'random_uniform_initializer', 'range', 'rank', 'raw_ops', 'realdiv', 'recompute_grad', 'reduce_all', 'reduce_any', 'reduce_logsumexp', 'reduce_max', 'reduce_mean', 'reduce_min', 'reduce_prod', 'reduce_sum', 'register_tensor_conversion_function', 'repeat', 'required_space_to_batch_paddings', 'reshape', 'resource', 'reverse', 'reverse_sequence', 'rfftnd', 'roll', 'round', 'saturate_cast', 'saved_model', 'scalar_mul', 'scan', 'scatter_nd', 'searchsorted', 'security', 'sequence_mask', 'sets', 'shape', 'shape_n', 'sigmoid', 'sign', 'signal', 'sin', 'sinh', 'size', 'slice', 'sort', 'space_to_batch', 'space_to_batch_nd', 'sparse', 'split', 'sqrt', 'square', 'squeeze', 'stack', 'stop_gradient', 'strided_slice', 'string', 'strings', 'subtract', 'summary', 'switch_case', 'sysconfig', 'tan', 'tanh', 'tensor_scatter_nd_add', 'tensor_scatter_nd_max', 'tensor_scatter_nd_min', 'tensor_scatter_nd_sub', 'tensor_scatter_nd_update', 'tensordot', 'test', 'tile', 'timestamp', 'tools', 'tpu', 'train', 'transpose', 'truediv', 'truncatediv', 'truncatemod', 'tuple', 'type_spec_from_value', 'types', 'uint16', 'uint32', 'uint64', 'uint8', 'unique', 'unique_with_counts', 'unravel_index', 'unstack', 'variable_creator_scope', 'variant', 'vectorized_map', 'version', 'where', 'while_loop', 'xla', 'zeros', 'zeros_initializer', 'zeros_like']\n"
     ]
    }
   ],
   "source": [
    "import tensorflow as tf\n",
    "print(tf.__version__)  # 2.15.1 이 출력돼야 함\n",
    "print(dir(tf))   "
   ]
  },
  {
   "cell_type": "code",
   "execution_count": 12,
   "metadata": {},
   "outputs": [
    {
     "name": "stdout",
     "output_type": "stream",
     "text": [
      "📊 MSE: 0.049395161199925576\n",
      "📈 R²: 0.21845337834817014\n"
     ]
    }
   ],
   "source": [
    "# 5. 예측 및 성능 평가\n",
    "y_pred = model.predict(X_test)\n",
    "mse = mean_squared_error(y_test, y_pred)\n",
    "r2 = r2_score(y_test, y_pred)\n",
    "\n",
    "\n",
    "print(\"📊 MSE:\", mse)\n",
    "print(\"📈 R²:\", r2)"
   ]
  }
 ],
 "metadata": {
  "kernelspec": {
   "display_name": "myenv",
   "language": "python",
   "name": "python3"
  },
  "language_info": {
   "codemirror_mode": {
    "name": "ipython",
    "version": 3
   },
   "file_extension": ".py",
   "mimetype": "text/x-python",
   "name": "python",
   "nbconvert_exporter": "python",
   "pygments_lexer": "ipython3",
   "version": "3.10.18"
  }
 },
 "nbformat": 4,
 "nbformat_minor": 2
}
