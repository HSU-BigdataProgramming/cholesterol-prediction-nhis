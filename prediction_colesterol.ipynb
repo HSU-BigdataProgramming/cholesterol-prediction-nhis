{
 "cells": [
  {
   "cell_type": "code",
   "execution_count": null,
   "metadata": {},
   "outputs": [],
   "source": [
    "# 콜레스테롤 예측 모델(실패)\n"
   ]
  },
  {
   "cell_type": "code",
   "execution_count": null,
   "metadata": {},
   "outputs": [],
   "source": [
    "import tensorflow as tf\n",
    "from sklearn.preprocessing import StandardScaler\n",
    "from sklearn.model_selection import train_test_split\n",
    "from sklearn.metrics import r2_score\n",
    "import pandas as pd"
   ]
  },
  {
   "cell_type": "code",
   "execution_count": null,
   "metadata": {},
   "outputs": [],
   "source": [
    "# 1. CSV 파일 불러오기\n",
    "file_path = \"./data/health_2023_cleaned_final.csv\"\n",
    "df = pd.read_csv(file_path, encoding='utf-8', sep=',')"
   ]
  },
  {
   "cell_type": "code",
   "execution_count": null,
   "metadata": {},
   "outputs": [],
   "source": [
    "df = pd.read_csv('./data/health_2023_cleaned_final.csv', encoding='utf-8')\n",
    "df = df[['성별코드', '연령대코드(5세단위)', '신장(5cm단위)', '체중(5kg단위)', '허리둘레', '총콜레스테롤']].dropna()"
   ]
  },
  {
   "cell_type": "code",
   "execution_count": null,
   "metadata": {},
   "outputs": [],
   "source": [
    "X = df.drop(columns='총콜레스테롤').values\n",
    "y = df['총콜레스테롤'].values"
   ]
  },
  {
   "cell_type": "code",
   "execution_count": null,
   "metadata": {},
   "outputs": [],
   "source": [
    "scaler = StandardScaler()\n",
    "X_scaled = scaler.fit_transform(X)\n",
    "X_scaled = X_scaled.reshape(X_scaled.shape[0], X_scaled.shape[1], 1)  # (샘플 수, 타임스텝, 채널)"
   ]
  },
  {
   "cell_type": "code",
   "execution_count": null,
   "metadata": {},
   "outputs": [],
   "source": [
    "X_train, X_test, y_train, y_test = train_test_split(X_scaled, y, test_size=0.2, random_state=42)"
   ]
  },
  {
   "cell_type": "code",
   "execution_count": null,
   "metadata": {},
   "outputs": [],
   "source": [
    "# 4. MLP 모델 정의\n",
    "model = tf.keras.Sequential([\n",
    "    tf.keras.layers.Dense(64, activation='relu', input_shape=(X_train.shape[1],)),\n",
    "    tf.keras.layers.Dense(64, activation='relu'),\n",
    "    tf.keras.layers.Dense(1)  # 회귀 출력\n",
    "])\n",
    "\n",
    "model.compile(optimizer='adam', loss='mse', metrics=['mae'])\n",
    "\n",
    "# 5. 학습\n",
    "history = model.fit(X_train, y_train, validation_split=0.2, epochs=50, batch_size=32, verbose=1)"
   ]
  },
  {
   "cell_type": "code",
   "execution_count": null,
   "metadata": {},
   "outputs": [],
   "source": [
    "import numpy as np\n",
    "from sklearn.metrics import mean_absolute_error, mean_squared_error, r2_score\n",
    "import matplotlib.pyplot as plt\n",
    "\n",
    "# 1. 예측\n",
    "y_pred = model.predict(X_test)\n",
    "\n",
    "# 2. 평가 지표 계산\n",
    "mae = mean_absolute_error(y_test, y_pred)\n",
    "mse = mean_squared_error(y_test, y_pred)\n",
    "rmse = np.sqrt(mse)\n",
    "r2 = r2_score(y_test, y_pred)\n",
    "\n",
    "print(f\"📊 MLP 회귀 모델 성능 평가\")\n",
    "print(f\"MAE  (평균 절대 오차): {mae:.2f}\")\n",
    "print(f\"MSE  (평균 제곱 오차): {mse:.2f}\")\n",
    "print(f\"RMSE (평균 제곱근 오차): {rmse:.2f}\")\n",
    "print(f\"R²   (설명력): {r2:.4f}\")\n",
    "\n",
    "# 3. 예측 결과 시각화\n",
    "plt.figure(figsize=(8, 6))\n",
    "plt.scatter(y_test, y_pred, alpha=0.3)\n",
    "plt.xlabel(\"실제 값 (y_test)\")\n",
    "plt.ylabel(\"예측 값 (y_pred)\")\n",
    "plt.title(\"실제 값 vs 예측 값 (회귀 결과)\")\n",
    "plt.plot([y_test.min(), y_test.max()], [y_test.min(), y_test.max()], 'r--')  # 기준선\n",
    "plt.grid(True)\n",
    "plt.tight_layout()\n",
    "plt.show()\n"
   ]
  },
  {
   "cell_type": "code",
   "execution_count": null,
   "metadata": {},
   "outputs": [],
   "source": [
    "import pandas as pd\n",
    "import numpy as np\n",
    "from sklearn.model_selection import train_test_split\n",
    "from sklearn.preprocessing import StandardScaler\n",
    "from sklearn.metrics import r2_score, mean_squared_error\n",
    "from xgboost import XGBRegressor\n",
    "\n",
    "# 1. 데이터 불러오기\n",
    "df = pd.read_csv(\"./data/health_2023_cleaned_final.csv\")\n",
    "\n",
    "# 2. 파생 변수 생성\n",
    "df['BMI'] = (df['체중(5kg단위)'] + 2.5) / ((df['신장(5cm단위)'] + 2.5) / 100) ** 2\n",
    "df['허리신장비'] = df['허리둘레'] / (df['신장(5cm단위)'] + 2.5)\n",
    "\n",
    "# 3. 결측치 제거\n",
    "required_cols = [\n",
    "    '연령대코드(5세단위)', '성별코드', '신장(5cm단위)', '체중(5kg단위)', '허리둘레',\n",
    "    '흡연상태', '음주여부', '수축기혈압', '이완기혈압', '식전혈당(공복혈당)',\n",
    "    'BMI', '허리신장비', 'HDL콜레스테롤'\n",
    "]\n",
    "df = df.dropna(subset=required_cols)\n",
    "\n",
    "# 4. 입력 / 출력 정의\n",
    "X = df[[\n",
    "    '연령대코드(5세단위)', '성별코드', '신장(5cm단위)', '체중(5kg단위)', '허리둘레',\n",
    "    '흡연상태', '음주여부', '수축기혈압', '이완기혈압', '식전혈당(공복혈당)',\n",
    "    'BMI', '허리신장비'\n",
    "]]\n",
    "y = np.log1p(df['HDL콜레스테롤'])  # 로그 변환 적용\n",
    "\n",
    "# 5. 정규화\n",
    "scaler = StandardScaler()\n",
    "X_scaled = scaler.fit_transform(X)\n",
    "\n",
    "# 6. 학습/테스트 분리\n",
    "X_train, X_test, y_train, y_test = train_test_split(X_scaled, y, test_size=0.2, random_state=42)\n",
    "\n",
    "# 7. 모델 정의 및 학습\n",
    "model = XGBRegressor(n_estimators=200, max_depth=4, learning_rate=0.05, random_state=42)\n",
    "model.fit(X_train, y_train)\n",
    "\n",
    "# 8. 예측 및 성능 평가\n",
    "y_pred_log = model.predict(X_test)\n",
    "y_pred = np.expm1(y_pred_log)  # 로그 복원\n",
    "y_true = np.expm1(y_test)\n",
    "\n",
    "print(f\"[HDL콜레스테롤 예측 결과 - XGBoost]\")\n",
    "print(f\"R²: {r2_score(y_true, y_pred):.4f}\")\n"
   ]
  },
  {
   "cell_type": "code",
   "execution_count": null,
   "metadata": {},
   "outputs": [],
   "source": [
    "import tensorflow as tf\n",
    "print(tf.__version__)  # 2.15.1 이 출력돼야 함\n",
    "print(dir(tf))   "
   ]
  },
  {
   "cell_type": "code",
   "execution_count": null,
   "metadata": {},
   "outputs": [],
   "source": [
    "# 5. 예측 및 성능 평가\n",
    "y_pred = model.predict(X_test)\n",
    "mse = mean_squared_error(y_test, y_pred)\n",
    "r2 = r2_score(y_test, y_pred)\n",
    "\n",
    "\n",
    "print(\"📊 MSE:\", mse)\n",
    "print(\"📈 R²:\", r2)"
   ]
  }
 ],
 "metadata": {
  "kernelspec": {
   "display_name": "tf310_v2",
   "language": "python",
   "name": "python3"
  },
  "language_info": {
   "codemirror_mode": {
    "name": "ipython",
    "version": 3
   },
   "file_extension": ".py",
   "mimetype": "text/x-python",
   "name": "python",
   "nbconvert_exporter": "python",
   "pygments_lexer": "ipython3",
   "version": "3.10.16"
  }
 },
 "nbformat": 4,
 "nbformat_minor": 2
}
