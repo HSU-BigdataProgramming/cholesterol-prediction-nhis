{
 "cells": [
  {
   "cell_type": "code",
   "execution_count": 20,
   "metadata": {},
   "outputs": [],
   "source": [
    "# 콜레스테롤 예측 모델(실패)\n"
   ]
  },
  {
   "cell_type": "code",
   "execution_count": 7,
   "metadata": {},
   "outputs": [],
   "source": [
    "import tensorflow as tf\n",
    "from sklearn.preprocessing import StandardScaler\n",
    "from sklearn.model_selection import train_test_split\n",
    "from sklearn.metrics import r2_score\n",
    "import pandas as pd"
   ]
  },
  {
   "cell_type": "code",
   "execution_count": 8,
   "metadata": {},
   "outputs": [],
   "source": [
    "# 1. CSV 파일 불러오기\n",
    "file_path = \"./data/health_2023_cleaned_final.csv\"\n",
    "df = pd.read_csv(file_path, encoding='utf-8', sep=',')"
   ]
  },
  {
   "cell_type": "code",
   "execution_count": 9,
   "metadata": {},
   "outputs": [],
   "source": [
    "df = pd.read_csv('./data/health_2023_cleaned_final.csv', encoding='utf-8')\n",
    "df = df[['성별코드', '연령대코드(5세단위)', '신장(5cm단위)', '체중(5kg단위)', '허리둘레', '총콜레스테롤']].dropna()"
   ]
  },
  {
   "cell_type": "code",
   "execution_count": 10,
   "metadata": {},
   "outputs": [],
   "source": [
    "X = df.drop(columns='총콜레스테롤').values\n",
    "y = df['총콜레스테롤'].values"
   ]
  },
  {
   "cell_type": "code",
   "execution_count": 27,
   "metadata": {},
   "outputs": [],
   "source": [
    "scaler = StandardScaler()\n",
    "X_scaled = scaler.fit_transform(X)\n",
    "X_scaled = X_scaled.reshape(X_scaled.shape[0], X_scaled.shape[1], 1)  # (샘플 수, 타임스텝, 채널)"
   ]
  },
  {
   "cell_type": "code",
   "execution_count": 28,
   "metadata": {},
   "outputs": [],
   "source": [
    "X_train, X_test, y_train, y_test = train_test_split(X_scaled, y, test_size=0.2, random_state=42)"
   ]
  },
  {
   "cell_type": "code",
   "execution_count": 29,
   "metadata": {},
   "outputs": [
    {
     "name": "stdout",
     "output_type": "stream",
     "text": [
      "Epoch 1/50\n"
     ]
    },
    {
     "name": "stderr",
     "output_type": "stream",
     "text": [
      "/Users/jungeun/Desktop/정은/cholesterol-prediction-nhis/.venv/lib/python3.12/site-packages/keras/src/layers/core/dense.py:93: UserWarning: Do not pass an `input_shape`/`input_dim` argument to a layer. When using Sequential models, prefer using an `Input(shape)` object as the first layer in the model instead.\n",
      "  super().__init__(activity_regularizer=activity_regularizer, **kwargs)\n"
     ]
    },
    {
     "name": "stdout",
     "output_type": "stream",
     "text": [
      "\u001b[1m6653/6653\u001b[0m \u001b[32m━━━━━━━━━━━━━━━━━━━━\u001b[0m\u001b[37m\u001b[0m \u001b[1m5s\u001b[0m 656us/step - loss: 0.4141 - mae: 0.3361 - val_loss: 0.0510 - val_mae: 0.1782\n",
      "Epoch 2/50\n",
      "\u001b[1m6653/6653\u001b[0m \u001b[32m━━━━━━━━━━━━━━━━━━━━\u001b[0m\u001b[37m\u001b[0m \u001b[1m4s\u001b[0m 638us/step - loss: 0.0533 - mae: 0.1830 - val_loss: 0.0514 - val_mae: 0.1792\n",
      "Epoch 3/50\n",
      "\u001b[1m6653/6653\u001b[0m \u001b[32m━━━━━━━━━━━━━━━━━━━━\u001b[0m\u001b[37m\u001b[0m \u001b[1m4s\u001b[0m 665us/step - loss: 0.0519 - mae: 0.1803 - val_loss: 0.0543 - val_mae: 0.1839\n",
      "Epoch 4/50\n",
      "\u001b[1m6653/6653\u001b[0m \u001b[32m━━━━━━━━━━━━━━━━━━━━\u001b[0m\u001b[37m\u001b[0m \u001b[1m4s\u001b[0m 593us/step - loss: 0.0511 - mae: 0.1789 - val_loss: 0.0512 - val_mae: 0.1788\n",
      "Epoch 5/50\n",
      "\u001b[1m6653/6653\u001b[0m \u001b[32m━━━━━━━━━━━━━━━━━━━━\u001b[0m\u001b[37m\u001b[0m \u001b[1m4s\u001b[0m 600us/step - loss: 0.0508 - mae: 0.1783 - val_loss: 0.0507 - val_mae: 0.1774\n",
      "Epoch 6/50\n",
      "\u001b[1m6653/6653\u001b[0m \u001b[32m━━━━━━━━━━━━━━━━━━━━\u001b[0m\u001b[37m\u001b[0m \u001b[1m4s\u001b[0m 599us/step - loss: 0.0508 - mae: 0.1782 - val_loss: 0.0497 - val_mae: 0.1756\n",
      "Epoch 7/50\n",
      "\u001b[1m6653/6653\u001b[0m \u001b[32m━━━━━━━━━━━━━━━━━━━━\u001b[0m\u001b[37m\u001b[0m \u001b[1m4s\u001b[0m 594us/step - loss: 0.0505 - mae: 0.1778 - val_loss: 0.0526 - val_mae: 0.1811\n",
      "Epoch 8/50\n",
      "\u001b[1m6653/6653\u001b[0m \u001b[32m━━━━━━━━━━━━━━━━━━━━\u001b[0m\u001b[37m\u001b[0m \u001b[1m4s\u001b[0m 599us/step - loss: 0.0502 - mae: 0.1771 - val_loss: 0.0510 - val_mae: 0.1781\n",
      "Epoch 9/50\n",
      "\u001b[1m6653/6653\u001b[0m \u001b[32m━━━━━━━━━━━━━━━━━━━━\u001b[0m\u001b[37m\u001b[0m \u001b[1m4s\u001b[0m 624us/step - loss: 0.0500 - mae: 0.1769 - val_loss: 0.0502 - val_mae: 0.1764\n",
      "Epoch 10/50\n",
      "\u001b[1m6653/6653\u001b[0m \u001b[32m━━━━━━━━━━━━━━━━━━━━\u001b[0m\u001b[37m\u001b[0m \u001b[1m4s\u001b[0m 653us/step - loss: 0.0497 - mae: 0.1761 - val_loss: 0.0504 - val_mae: 0.1771\n",
      "Epoch 11/50\n",
      "\u001b[1m6653/6653\u001b[0m \u001b[32m━━━━━━━━━━━━━━━━━━━━\u001b[0m\u001b[37m\u001b[0m \u001b[1m4s\u001b[0m 643us/step - loss: 0.0503 - mae: 0.1773 - val_loss: 0.0495 - val_mae: 0.1753\n",
      "Epoch 12/50\n",
      "\u001b[1m6653/6653\u001b[0m \u001b[32m━━━━━━━━━━━━━━━━━━━━\u001b[0m\u001b[37m\u001b[0m \u001b[1m4s\u001b[0m 655us/step - loss: 0.0499 - mae: 0.1767 - val_loss: 0.0532 - val_mae: 0.1819\n",
      "Epoch 13/50\n",
      "\u001b[1m6653/6653\u001b[0m \u001b[32m━━━━━━━━━━━━━━━━━━━━\u001b[0m\u001b[37m\u001b[0m \u001b[1m4s\u001b[0m 616us/step - loss: 0.0498 - mae: 0.1764 - val_loss: 0.0525 - val_mae: 0.1807\n",
      "Epoch 14/50\n",
      "\u001b[1m6653/6653\u001b[0m \u001b[32m━━━━━━━━━━━━━━━━━━━━\u001b[0m\u001b[37m\u001b[0m \u001b[1m4s\u001b[0m 646us/step - loss: 0.0499 - mae: 0.1766 - val_loss: 0.0499 - val_mae: 0.1764\n",
      "Epoch 15/50\n",
      "\u001b[1m6653/6653\u001b[0m \u001b[32m━━━━━━━━━━━━━━━━━━━━\u001b[0m\u001b[37m\u001b[0m \u001b[1m4s\u001b[0m 630us/step - loss: 0.0492 - mae: 0.1752 - val_loss: 0.0500 - val_mae: 0.1764\n",
      "Epoch 16/50\n",
      "\u001b[1m6653/6653\u001b[0m \u001b[32m━━━━━━━━━━━━━━━━━━━━\u001b[0m\u001b[37m\u001b[0m \u001b[1m5s\u001b[0m 686us/step - loss: 0.0496 - mae: 0.1761 - val_loss: 0.0498 - val_mae: 0.1757\n",
      "Epoch 17/50\n",
      "\u001b[1m6653/6653\u001b[0m \u001b[32m━━━━━━━━━━━━━━━━━━━━\u001b[0m\u001b[37m\u001b[0m \u001b[1m4s\u001b[0m 601us/step - loss: 0.0492 - mae: 0.1754 - val_loss: 0.0498 - val_mae: 0.1757\n",
      "Epoch 18/50\n",
      "\u001b[1m6653/6653\u001b[0m \u001b[32m━━━━━━━━━━━━━━━━━━━━\u001b[0m\u001b[37m\u001b[0m \u001b[1m4s\u001b[0m 621us/step - loss: 0.0497 - mae: 0.1763 - val_loss: 0.0515 - val_mae: 0.1789\n",
      "Epoch 19/50\n",
      "\u001b[1m6653/6653\u001b[0m \u001b[32m━━━━━━━━━━━━━━━━━━━━\u001b[0m\u001b[37m\u001b[0m \u001b[1m4s\u001b[0m 613us/step - loss: 0.0493 - mae: 0.1755 - val_loss: 0.0505 - val_mae: 0.1772\n",
      "Epoch 20/50\n",
      "\u001b[1m6653/6653\u001b[0m \u001b[32m━━━━━━━━━━━━━━━━━━━━\u001b[0m\u001b[37m\u001b[0m \u001b[1m4s\u001b[0m 640us/step - loss: 0.0493 - mae: 0.1757 - val_loss: 0.0498 - val_mae: 0.1759\n",
      "Epoch 21/50\n",
      "\u001b[1m6653/6653\u001b[0m \u001b[32m━━━━━━━━━━━━━━━━━━━━\u001b[0m\u001b[37m\u001b[0m \u001b[1m4s\u001b[0m 632us/step - loss: 0.0493 - mae: 0.1754 - val_loss: 0.0498 - val_mae: 0.1757\n",
      "Epoch 22/50\n",
      "\u001b[1m6653/6653\u001b[0m \u001b[32m━━━━━━━━━━━━━━━━━━━━\u001b[0m\u001b[37m\u001b[0m \u001b[1m4s\u001b[0m 636us/step - loss: 0.0495 - mae: 0.1759 - val_loss: 0.0505 - val_mae: 0.1770\n",
      "Epoch 23/50\n",
      "\u001b[1m6653/6653\u001b[0m \u001b[32m━━━━━━━━━━━━━━━━━━━━\u001b[0m\u001b[37m\u001b[0m \u001b[1m4s\u001b[0m 621us/step - loss: 0.0492 - mae: 0.1757 - val_loss: 0.0513 - val_mae: 0.1783\n",
      "Epoch 24/50\n",
      "\u001b[1m6653/6653\u001b[0m \u001b[32m━━━━━━━━━━━━━━━━━━━━\u001b[0m\u001b[37m\u001b[0m \u001b[1m4s\u001b[0m 595us/step - loss: 0.0493 - mae: 0.1757 - val_loss: 0.0496 - val_mae: 0.1756\n",
      "Epoch 25/50\n",
      "\u001b[1m6653/6653\u001b[0m \u001b[32m━━━━━━━━━━━━━━━━━━━━\u001b[0m\u001b[37m\u001b[0m \u001b[1m4s\u001b[0m 599us/step - loss: 0.0494 - mae: 0.1755 - val_loss: 0.0496 - val_mae: 0.1755\n",
      "Epoch 26/50\n",
      "\u001b[1m6653/6653\u001b[0m \u001b[32m━━━━━━━━━━━━━━━━━━━━\u001b[0m\u001b[37m\u001b[0m \u001b[1m4s\u001b[0m 669us/step - loss: 0.0493 - mae: 0.1756 - val_loss: 0.0496 - val_mae: 0.1756\n",
      "Epoch 27/50\n",
      "\u001b[1m6653/6653\u001b[0m \u001b[32m━━━━━━━━━━━━━━━━━━━━\u001b[0m\u001b[37m\u001b[0m \u001b[1m4s\u001b[0m 654us/step - loss: 0.0493 - mae: 0.1757 - val_loss: 0.0496 - val_mae: 0.1755\n",
      "Epoch 28/50\n",
      "\u001b[1m6653/6653\u001b[0m \u001b[32m━━━━━━━━━━━━━━━━━━━━\u001b[0m\u001b[37m\u001b[0m \u001b[1m4s\u001b[0m 600us/step - loss: 0.0494 - mae: 0.1761 - val_loss: 0.0500 - val_mae: 0.1762\n",
      "Epoch 29/50\n",
      "\u001b[1m6653/6653\u001b[0m \u001b[32m━━━━━━━━━━━━━━━━━━━━\u001b[0m\u001b[37m\u001b[0m \u001b[1m4s\u001b[0m 599us/step - loss: 0.0493 - mae: 0.1755 - val_loss: 0.0498 - val_mae: 0.1760\n",
      "Epoch 30/50\n",
      "\u001b[1m6653/6653\u001b[0m \u001b[32m━━━━━━━━━━━━━━━━━━━━\u001b[0m\u001b[37m\u001b[0m \u001b[1m4s\u001b[0m 616us/step - loss: 0.0494 - mae: 0.1757 - val_loss: 0.0494 - val_mae: 0.1751\n",
      "Epoch 31/50\n",
      "\u001b[1m6653/6653\u001b[0m \u001b[32m━━━━━━━━━━━━━━━━━━━━\u001b[0m\u001b[37m\u001b[0m \u001b[1m4s\u001b[0m 595us/step - loss: 0.0491 - mae: 0.1753 - val_loss: 0.0496 - val_mae: 0.1757\n",
      "Epoch 32/50\n",
      "\u001b[1m6653/6653\u001b[0m \u001b[32m━━━━━━━━━━━━━━━━━━━━\u001b[0m\u001b[37m\u001b[0m \u001b[1m4s\u001b[0m 605us/step - loss: 0.0497 - mae: 0.1763 - val_loss: 0.0495 - val_mae: 0.1753\n",
      "Epoch 33/50\n",
      "\u001b[1m6653/6653\u001b[0m \u001b[32m━━━━━━━━━━━━━━━━━━━━\u001b[0m\u001b[37m\u001b[0m \u001b[1m4s\u001b[0m 597us/step - loss: 0.0493 - mae: 0.1754 - val_loss: 0.0502 - val_mae: 0.1765\n",
      "Epoch 34/50\n",
      "\u001b[1m6653/6653\u001b[0m \u001b[32m━━━━━━━━━━━━━━━━━━━━\u001b[0m\u001b[37m\u001b[0m \u001b[1m4s\u001b[0m 597us/step - loss: 0.0493 - mae: 0.1755 - val_loss: 0.0495 - val_mae: 0.1753\n",
      "Epoch 35/50\n",
      "\u001b[1m6653/6653\u001b[0m \u001b[32m━━━━━━━━━━━━━━━━━━━━\u001b[0m\u001b[37m\u001b[0m \u001b[1m4s\u001b[0m 600us/step - loss: 0.0491 - mae: 0.1749 - val_loss: 0.0500 - val_mae: 0.1762\n",
      "Epoch 36/50\n",
      "\u001b[1m6653/6653\u001b[0m \u001b[32m━━━━━━━━━━━━━━━━━━━━\u001b[0m\u001b[37m\u001b[0m \u001b[1m4s\u001b[0m 607us/step - loss: 0.0494 - mae: 0.1757 - val_loss: 0.0497 - val_mae: 0.1756\n",
      "Epoch 37/50\n",
      "\u001b[1m6653/6653\u001b[0m \u001b[32m━━━━━━━━━━━━━━━━━━━━\u001b[0m\u001b[37m\u001b[0m \u001b[1m4s\u001b[0m 596us/step - loss: 0.0492 - mae: 0.1755 - val_loss: 0.0500 - val_mae: 0.1763\n",
      "Epoch 38/50\n",
      "\u001b[1m6653/6653\u001b[0m \u001b[32m━━━━━━━━━━━━━━━━━━━━\u001b[0m\u001b[37m\u001b[0m \u001b[1m4s\u001b[0m 599us/step - loss: 0.0489 - mae: 0.1750 - val_loss: 0.0494 - val_mae: 0.1751\n",
      "Epoch 39/50\n",
      "\u001b[1m6653/6653\u001b[0m \u001b[32m━━━━━━━━━━━━━━━━━━━━\u001b[0m\u001b[37m\u001b[0m \u001b[1m4s\u001b[0m 590us/step - loss: 0.0492 - mae: 0.1755 - val_loss: 0.0496 - val_mae: 0.1754\n",
      "Epoch 40/50\n",
      "\u001b[1m6653/6653\u001b[0m \u001b[32m━━━━━━━━━━━━━━━━━━━━\u001b[0m\u001b[37m\u001b[0m \u001b[1m4s\u001b[0m 600us/step - loss: 0.0491 - mae: 0.1754 - val_loss: 0.0494 - val_mae: 0.1752\n",
      "Epoch 41/50\n",
      "\u001b[1m6653/6653\u001b[0m \u001b[32m━━━━━━━━━━━━━━━━━━━━\u001b[0m\u001b[37m\u001b[0m \u001b[1m4s\u001b[0m 592us/step - loss: 0.0490 - mae: 0.1753 - val_loss: 0.0495 - val_mae: 0.1754\n",
      "Epoch 42/50\n",
      "\u001b[1m6653/6653\u001b[0m \u001b[32m━━━━━━━━━━━━━━━━━━━━\u001b[0m\u001b[37m\u001b[0m \u001b[1m4s\u001b[0m 599us/step - loss: 0.0491 - mae: 0.1754 - val_loss: 0.0498 - val_mae: 0.1760\n",
      "Epoch 43/50\n",
      "\u001b[1m6653/6653\u001b[0m \u001b[32m━━━━━━━━━━━━━━━━━━━━\u001b[0m\u001b[37m\u001b[0m \u001b[1m4s\u001b[0m 597us/step - loss: 0.0492 - mae: 0.1753 - val_loss: 0.0494 - val_mae: 0.1752\n",
      "Epoch 44/50\n",
      "\u001b[1m6653/6653\u001b[0m \u001b[32m━━━━━━━━━━━━━━━━━━━━\u001b[0m\u001b[37m\u001b[0m \u001b[1m4s\u001b[0m 598us/step - loss: 0.0493 - mae: 0.1755 - val_loss: 0.0499 - val_mae: 0.1760\n",
      "Epoch 45/50\n",
      "\u001b[1m6653/6653\u001b[0m \u001b[32m━━━━━━━━━━━━━━━━━━━━\u001b[0m\u001b[37m\u001b[0m \u001b[1m4s\u001b[0m 598us/step - loss: 0.0491 - mae: 0.1753 - val_loss: 0.0494 - val_mae: 0.1751\n",
      "Epoch 46/50\n",
      "\u001b[1m6653/6653\u001b[0m \u001b[32m━━━━━━━━━━━━━━━━━━━━\u001b[0m\u001b[37m\u001b[0m \u001b[1m4s\u001b[0m 589us/step - loss: 0.0492 - mae: 0.1756 - val_loss: 0.0497 - val_mae: 0.1758\n",
      "Epoch 47/50\n",
      "\u001b[1m6653/6653\u001b[0m \u001b[32m━━━━━━━━━━━━━━━━━━━━\u001b[0m\u001b[37m\u001b[0m \u001b[1m4s\u001b[0m 593us/step - loss: 0.0489 - mae: 0.1751 - val_loss: 0.0495 - val_mae: 0.1754\n",
      "Epoch 48/50\n",
      "\u001b[1m6653/6653\u001b[0m \u001b[32m━━━━━━━━━━━━━━━━━━━━\u001b[0m\u001b[37m\u001b[0m \u001b[1m4s\u001b[0m 599us/step - loss: 0.0490 - mae: 0.1751 - val_loss: 0.0494 - val_mae: 0.1751\n",
      "Epoch 49/50\n",
      "\u001b[1m6653/6653\u001b[0m \u001b[32m━━━━━━━━━━━━━━━━━━━━\u001b[0m\u001b[37m\u001b[0m \u001b[1m4s\u001b[0m 593us/step - loss: 0.0491 - mae: 0.1751 - val_loss: 0.0495 - val_mae: 0.1755\n",
      "Epoch 50/50\n",
      "\u001b[1m6653/6653\u001b[0m \u001b[32m━━━━━━━━━━━━━━━━━━━━\u001b[0m\u001b[37m\u001b[0m \u001b[1m4s\u001b[0m 597us/step - loss: 0.0491 - mae: 0.1750 - val_loss: 0.0496 - val_mae: 0.1757\n"
     ]
    }
   ],
   "source": [
    "# 4. MLP 모델 정의\n",
    "model = tf.keras.Sequential([\n",
    "    tf.keras.layers.Dense(64, activation='relu', input_shape=(X_train.shape[1],)),\n",
    "    tf.keras.layers.Dense(64, activation='relu'),\n",
    "    tf.keras.layers.Dense(1)  # 회귀 출력\n",
    "])\n",
    "\n",
    "model.compile(optimizer='adam', loss='mse', metrics=['mae'])\n",
    "\n",
    "# 5. 학습\n",
    "history = model.fit(X_train, y_train, validation_split=0.2, epochs=50, batch_size=32, verbose=1)"
   ]
  },
  {
   "cell_type": "code",
   "execution_count": 42,
   "metadata": {},
   "outputs": [
    {
     "name": "stdout",
     "output_type": "stream",
     "text": [
      "[HDL콜레스테롤 예측 결과 - XGBoost]\n",
      "R²: 0.2285\n"
     ]
    }
   ],
   "source": [
    "import pandas as pd\n",
    "import numpy as np\n",
    "from sklearn.model_selection import train_test_split\n",
    "from sklearn.preprocessing import StandardScaler\n",
    "from sklearn.metrics import r2_score, mean_squared_error, mean_absolute_error\n",
    "from xgboost import XGBRegressor\n",
    "\n",
    "# 1. 데이터 불러오기\n",
    "df = pd.read_csv(\"./data/health_2023_cleaned_final.csv\")\n",
    "\n",
    "# 2. 파생 변수 생성\n",
    "df['BMI'] = (df['체중(5kg단위)'] + 2.5) / ((df['신장(5cm단위)'] + 2.5) / 100) ** 2\n",
    "df['허리신장비'] = df['허리둘레'] / (df['신장(5cm단위)'] + 2.5)\n",
    "\n",
    "# 3. 결측치 제거\n",
    "required_cols = [\n",
    "    '연령대코드(5세단위)', '성별코드', '신장(5cm단위)', '체중(5kg단위)', '허리둘레',\n",
    "    '흡연상태', '음주여부', '수축기혈압', '이완기혈압', '식전혈당(공복혈당)',\n",
    "    'BMI', '허리신장비', 'HDL콜레스테롤', '치아우식증유무', '치석'\n",
    "]\n",
    "df = df.dropna(subset=required_cols)\n",
    "\n",
    "# 4. 입력 / 출력 정의\n",
    "X = df[[\n",
    "    '연령대코드(5세단위)', '성별코드', '신장(5cm단위)', '체중(5kg단위)', '허리둘레',\n",
    "    '흡연상태', '음주여부', '수축기혈압', '이완기혈압', '식전혈당(공복혈당)',\n",
    "    'BMI', '허리신장비', '치아우식증유무', '치석'\n",
    "]]\n",
    "y = np.log1p(df['HDL콜레스테롤'])  # 로그 변환 적용\n",
    "\n",
    "# 5. 정규화\n",
    "scaler = StandardScaler()\n",
    "X_scaled = scaler.fit_transform(X)\n",
    "\n",
    "# 6. 학습/테스트 분리\n",
    "X_train, X_test, y_train, y_test = train_test_split(X_scaled, y, test_size=0.2, random_state=42)\n",
    "\n",
    "# 7. 모델 정의 및 학습\n",
    "model = XGBRegressor(n_estimators=200, max_depth=4, learning_rate=0.05, random_state=42)\n",
    "model.fit(X_train, y_train)\n",
    "\n",
    "# 8. 예측 및 성능 평가\n",
    "y_pred_log = model.predict(X_test)\n",
    "y_pred = np.expm1(y_pred_log)  # 로그 복원\n",
    "y_true = np.expm1(y_test)\n",
    "\n",
    "print(f\"[HDL콜레스테롤 예측 결과 - XGBoost]\")\n",
    "print(f\"R²: {r2_score(y_true, y_pred):.4f}\")\n"
   ]
  },
  {
   "cell_type": "code",
   "execution_count": 43,
   "metadata": {},
   "outputs": [
    {
     "name": "stdout",
     "output_type": "stream",
     "text": [
      "2.19.0\n",
      "['AggregationMethod', 'Assert', 'CriticalSection', 'DType', 'DeviceSpec', 'GradientTape', 'Graph', 'IndexedSlices', 'IndexedSlicesSpec', 'Module', 'Operation', 'OptionalSpec', 'RaggedTensor', 'RaggedTensorSpec', 'RegisterGradient', 'SparseTensor', 'SparseTensorSpec', 'Tensor', 'TensorArray', 'TensorArraySpec', 'TensorShape', 'TensorSpec', 'TypeSpec', 'UnconnectedGradients', 'Variable', 'VariableAggregation', 'VariableSynchronization', '_API_MODULE', '_KerasLazyLoader', '__all__', '__builtins__', '__cached__', '__compiler_version__', '__cxx11_abi_flag__', '__cxx_version__', '__doc__', '__file__', '__git_version__', '__internal__', '__loader__', '__monolithic_build__', '__name__', '__operators__', '__package__', '__path__', '__spec__', '__version__', '_api', '_compat', '_current_file_location', '_current_module', '_fi', '_initializers', '_inspect', '_kernel_dir', '_ll', '_losses', '_major_api_version', '_metrics', '_module_dir', '_module_util', '_name', '_names_with_underscore', '_optimizers', '_os', '_plugin_dir', '_pywrap_tensorflow', '_running_from_pip_package', '_s', '_scheme', '_site', '_site_packages_dirs', '_sys', '_sysconfig', '_tf2', '_tf_api_dir', '_tf_dir', '_tf_uses_legacy_keras', 'abs', 'acos', 'acosh', 'add', 'add_n', 'approx_top_k', 'argmax', 'argmin', 'argsort', 'as_dtype', 'as_string', 'asin', 'asinh', 'assert_equal', 'assert_greater', 'assert_less', 'assert_rank', 'atan', 'atan2', 'atanh', 'audio', 'autodiff', 'autograph', 'batch_to_space', 'bfloat16', 'bitcast', 'bitwise', 'bool', 'boolean_mask', 'broadcast_dynamic_shape', 'broadcast_static_shape', 'broadcast_to', 'case', 'cast', 'check_pinned', 'clip_by_global_norm', 'clip_by_norm', 'clip_by_value', 'compat', 'complex', 'complex128', 'complex64', 'concat', 'cond', 'config', 'constant', 'constant_initializer', 'control_dependencies', 'conv', 'conv2d_backprop_filter_v2', 'conv2d_backprop_input_v2', 'convert_to_tensor', 'cos', 'cosh', 'cumsum', 'custom_gradient', 'data', 'debugging', 'device', 'distribute', 'divide', 'double', 'dtensor', 'dtypes', 'dynamic_partition', 'dynamic_stitch', 'edit_distance', 'eig', 'eigvals', 'einsum', 'ensure_shape', 'equal', 'errors', 'executing_eagerly', 'exp', 'expand_dims', 'experimental', 'extract_volume_patches', 'eye', 'feature_column', 'fftnd', 'fill', 'fingerprint', 'float16', 'float32', 'float64', 'floor', 'foldl', 'foldr', 'function', 'gather', 'gather_nd', 'get_current_name_scope', 'get_logger', 'get_static_value', 'grad_pass_through', 'gradients', 'graph_util', 'greater', 'greater_equal', 'group', 'guarantee_const', 'half', 'hessians', 'histogram_fixed_width', 'histogram_fixed_width_bins', 'identity', 'identity_n', 'ifftnd', 'image', 'import_graph_def', 'init_scope', 'initializers', 'inside_function', 'int16', 'int32', 'int64', 'int8', 'io', 'irfftnd', 'is_symbolic_tensor', 'is_tensor', 'keras', 'less', 'less_equal', 'linalg', 'linspace', 'lite', 'load_library', 'load_op_library', 'logical_and', 'logical_not', 'logical_or', 'lookup', 'losses', 'make_ndarray', 'make_tensor_proto', 'map_fn', 'math', 'matmul', 'matrix_square_root', 'maximum', 'meshgrid', 'metrics', 'minimum', 'mlir', 'multiply', 'name_scope', 'negative', 'nest', 'newaxis', 'nn', 'no_gradient', 'no_op', 'nondifferentiable_batch_function', 'norm', 'not_equal', 'numpy_function', 'one_hot', 'ones', 'ones_initializer', 'ones_like', 'optimizers', 'pad', 'parallel_stack', 'pow', 'print', 'profiler', 'py_function', 'qint16', 'qint32', 'qint8', 'quantization', 'queue', 'quint16', 'quint8', 'ragged', 'ragged_fill_empty_rows', 'ragged_fill_empty_rows_grad', 'random', 'random_index_shuffle', 'random_normal_initializer', 'random_uniform_initializer', 'range', 'rank', 'raw_ops', 'realdiv', 'recompute_grad', 'reduce_all', 'reduce_any', 'reduce_logsumexp', 'reduce_max', 'reduce_mean', 'reduce_min', 'reduce_prod', 'reduce_sum', 'register_tensor_conversion_function', 'repeat', 'required_space_to_batch_paddings', 'reshape', 'resource', 'reverse', 'reverse_sequence', 'rfftnd', 'roll', 'round', 'saturate_cast', 'saved_model', 'scalar_mul', 'scan', 'scatter_nd', 'searchsorted', 'security', 'sequence_mask', 'sets', 'shape', 'shape_n', 'sigmoid', 'sign', 'signal', 'sin', 'sinh', 'size', 'slice', 'sort', 'space_to_batch', 'space_to_batch_nd', 'sparse', 'split', 'sqrt', 'square', 'squeeze', 'stack', 'stop_gradient', 'strided_slice', 'string', 'strings', 'subtract', 'summary', 'switch_case', 'sysconfig', 'tan', 'tanh', 'tensor_scatter_nd_add', 'tensor_scatter_nd_max', 'tensor_scatter_nd_min', 'tensor_scatter_nd_sub', 'tensor_scatter_nd_update', 'tensordot', 'test', 'tile', 'timestamp', 'tools', 'tpu', 'train', 'transpose', 'truediv', 'truncatediv', 'truncatemod', 'tuple', 'type_spec_from_value', 'types', 'uint16', 'uint32', 'uint64', 'uint8', 'unique', 'unique_with_counts', 'unravel_index', 'unstack', 'variable_creator_scope', 'variant', 'vectorized_map', 'version', 'where', 'while_loop', 'xla', 'zeros', 'zeros_initializer', 'zeros_like']\n"
     ]
    }
   ],
   "source": [
    "import tensorflow as tf\n",
    "print(tf.__version__)  # 2.15.1 이 출력돼야 함\n",
    "print(dir(tf))   "
   ]
  },
  {
   "cell_type": "code",
   "execution_count": 44,
   "metadata": {},
   "outputs": [
    {
     "name": "stdout",
     "output_type": "stream",
     "text": [
      "📊 MAE: 0.16987108992094166\n",
      "📊 RMSE: 0.21432103157700064\n",
      "📈 R²: 0.23571937062846893\n"
     ]
    }
   ],
   "source": [
    "# 5. 예측 및 성능 평가\n",
    "y_pred = model.predict(X_test)\n",
    "mae = mean_absolute_error(y_test, y_pred)\n",
    "mse = mean_squared_error(y_test, y_pred)\n",
    "rmse = np.sqrt(mse)\n",
    "r2 = r2_score(y_test, y_pred)\n",
    "\n",
    "print(\"📊 MAE:\", mae)\n",
    "print(\"📊 RMSE:\", rmse)\n",
    "print(\"📈 R²:\", r2)"
   ]
  },
  {
   "cell_type": "markdown",
   "metadata": {},
   "source": [
    "## 테스트 ##"
   ]
  },
  {
   "cell_type": "code",
   "execution_count": null,
   "metadata": {},
   "outputs": [],
   "source": [
    "from sklearn.linear_model import LinearRegression\n",
    "from sklearn.metrics import r2_score\n",
    "import numpy as np\n",
    "\n",
    "# 1. 모델 정의\n",
    "baseline_model = LinearRegression()\n",
    "\n",
    "# 2. 학습\n",
    "baseline_model.fit(X_train, y_train)\n",
    "\n",
    "# 3. 예측\n",
    "y_pred_log = baseline_model.predict(X_test)\n",
    "y_pred = np.expm1(y_pred_log)\n",
    "y_true = np.expm1(y_test)\n",
    "\n",
    "# 4. R² 평가\n",
    "r2_linear = r2_score(y_true, y_pred)\n",
    "print(f\"Linear Regression R²: {r2_linear:.4f}\")\n"
   ]
  },
  {
   "cell_type": "code",
   "execution_count": null,
   "metadata": {},
   "outputs": [],
   "source": [
    "r2_xgb = r2\n",
    "improvement = (r2_xgb - r2_linear) / abs(r2_linear) * 100\n",
    "print(f\"XGBoost 성능 향상: {improvement:.1f}%\")"
   ]
  },
  {
   "cell_type": "code",
   "execution_count": null,
   "metadata": {},
   "outputs": [],
   "source": [
    "import matplotlib.pyplot as plt\n",
    "import pandas as pd\n",
    "\n",
    "plt.rcParams['font.family'] = 'AppleGothic'\n",
    "\n",
    "# 특성 중요도 시각화\n",
    "importances = model.feature_importances_\n",
    "feature_names = X.columns\n",
    "\n",
    "feat_df = pd.DataFrame({\n",
    "    'Feature': feature_names,\n",
    "    'Importance': importances\n",
    "}).sort_values(by='Importance', ascending=False)\n",
    "\n",
    "print(feat_df)\n",
    "\n",
    "feat_df.plot(kind='barh', x='Feature', y='Importance', figsize=(8, 6), title='HDL 예측에서의 특성 중요도')\n",
    "plt.gca().invert_yaxis()\n",
    "plt.tight_layout()\n",
    "plt.show()"
   ]
  }
 ],
 "metadata": {
  "kernelspec": {
   "display_name": ".venv",
   "language": "python",
   "name": "python3"
  },
  "language_info": {
   "codemirror_mode": {
    "name": "ipython",
    "version": 3
   },
   "file_extension": ".py",
   "mimetype": "text/x-python",
   "name": "python",
   "nbconvert_exporter": "python",
   "pygments_lexer": "ipython3",
   "version": "3.12.4"
  }
 },
 "nbformat": 4,
 "nbformat_minor": 2
}
